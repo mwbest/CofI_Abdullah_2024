{
 "cells": [
  {
   "cell_type": "markdown",
   "id": "9cc0929e",
   "metadata": {},
   "source": [
    "<h2>KOSMOS slitmask reduction"
   ]
  },
  {
   "cell_type": "markdown",
   "id": "e31a9526",
   "metadata": {},
   "source": [
    "To have a good idea of the functionalities of the notebook, the user is highly advised to read the workflow.\n",
    "This notebook is assuming that the user has astro-pyvista (pyvista) installed. If not, visit (https://pyvista.readthedocs.io/en/latest/installation.html) for installation instructions."
   ]
  },
  {
   "cell_type": "markdown",
   "id": "06b5705f-34aa-484c-adcf-dfc57e5e5cdf",
   "metadata": {},
   "source": [
    "# Necessary Modules"
   ]
  },
  {
   "cell_type": "code",
   "execution_count": 1,
   "id": "3f60f22c-8f8e-48cc-a8ea-c1b439c96e88",
   "metadata": {},
   "outputs": [],
   "source": [
    "# If you are planning to run matplotlib qt, check if you have the following packages; if not, run this cell.\n",
    "#!pip install scikit-image\n",
    "#!pip install scikit-learn\n",
    "#!pip install PyQt6\n",
    "#!pip install PySide6\n",
    "#!pip install PyQt5"
   ]
  },
  {
   "cell_type": "code",
   "execution_count": 2,
   "id": "1d06b78a",
   "metadata": {},
   "outputs": [],
   "source": [
    "from pyvista import imred, tv, stars, slitmask, image, spectra\n",
    "import pdb\n",
    "import copy\n",
    "import numpy as np\n",
    "import matplotlib.pyplot as plt\n",
    "import os\n",
    "from astropy.table import vstack\n",
    "import pandas as pd\n",
    "from astropy.io import fits"
   ]
  },
  {
   "cell_type": "markdown",
   "id": "097775f1-88fb-4589-9388-59c89f4cf734",
   "metadata": {},
   "source": [
    "**Setup the TV window**"
   ]
  },
  {
   "cell_type": "code",
   "execution_count": 3,
   "id": "e08e3334",
   "metadata": {},
   "outputs": [],
   "source": [
    "# Use these lines if you are running the notebook yourself. Matplotlib\n",
    "# window will open outside the notebook, which is the desired behavior so\n",
    "# you can have a single display tool, which you should leave open. Other\n",
    "# plot windows will also appear outside the notebook, which you can close\n",
    "# as desired\n",
    "# you may need/want to use qt or osx in the next line\n",
    "%matplotlib qt    \n",
    "t=tv.TV()\n",
    "# following lines only for fully non-interactive demo of notebook\n",
    "#%matplotlib inline\n",
    "#plotinter=False\n",
    "#t=None"
   ]
  },
  {
   "cell_type": "markdown",
   "id": "8dcc10d7-fbf7-4471-817e-404de46c75e4",
   "metadata": {},
   "source": [
    "# Directory setup"
   ]
  },
  {
   "cell_type": "code",
   "execution_count": 4,
   "id": "24b9a76f-b360-4631-af63-a9777e02d46b",
   "metadata": {},
   "outputs": [
    {
     "name": "stdout",
     "output_type": "stream",
     "text": [
      "INSTRUMENT: KOSMOS   config: \n",
      "  will use format:  UT230909/*{:04d}.f*.fits*\n",
      "         gain:  [0.6]    rn: [5.]\n",
      "         scale:  None   \n",
      "  Biastype : 1\n",
      "  Bias box: \n",
      "    SC    NC    SR    NR\n",
      "  2055    33    20  4056 \n",
      "  2105    33    20  4056 \n",
      "  Trim box: \n",
      "    SC    NC    SR    NR\n",
      "     0  2048     0  4096 \n",
      "     0  2048     0  4096 \n",
      "  Norm box: \n",
      "    SC    NC    SR    NR\n",
      "  1000    51  2000    51 \n"
     ]
    }
   ],
   "source": [
    "# insert the directory name with images here\n",
    "indir='UT230909'\n",
    "red=imred.Reducer('KOSMOS',dir='UT230909')"
   ]
  },
  {
   "cell_type": "code",
   "execution_count": 5,
   "id": "375c46fc-1f75-4372-84e8-52cc0344035d",
   "metadata": {
    "scrolled": true
   },
   "outputs": [
    {
     "data": {
      "text/html": [
       "<i>Table length=90</i>\n",
       "<table id=\"table1283974919568-646334\" class=\"table-striped table-bordered table-condensed\">\n",
       "<thead><tr><th>idx</th><th>FILE</th><th>DATE-OBS</th><th>OBJNAME</th><th>RA</th><th>DEC</th><th>EXPTIME</th></tr></thead>\n",
       "<tr><td>0</td><td>Flat_SEG3G2.0001.fits</td><td>2023-09-09T01:31:47.843412</td><td></td><td>6:56:00.00</td><td>75:00:00.00</td><td>2.0</td></tr>\n",
       "<tr><td>1</td><td>Flat_SEG3G2.0002.fits</td><td>2023-09-09T01:33:24.544267</td><td></td><td>6:56:00.00</td><td>75:00:00.00</td><td>1.0</td></tr>\n",
       "<tr><td>2</td><td>Flat_SEG3G2.0003.fits</td><td>2023-09-09T01:34:47.647398</td><td></td><td>6:56:00.00</td><td>75:00:00.00</td><td>0.5</td></tr>\n",
       "<tr><td>3</td><td>Flat_SEG3R2.0004.fits</td><td>2023-09-09T01:38:24.858222</td><td></td><td>6:56:00.00</td><td>75:00:00.00</td><td>0.5</td></tr>\n",
       "<tr><td>4</td><td>Flat_EMPTY_TEST.0005.fits</td><td>2023-09-09T01:40:21.135840</td><td></td><td>6:56:00.00</td><td>75:00:00.00</td><td>0.5</td></tr>\n",
       "<tr><td>5</td><td>Flat_SEG3R1.0006.fits</td><td>2023-09-09T01:43:41.792202</td><td></td><td>6:56:00.00</td><td>75:00:00.00</td><td>0.5</td></tr>\n",
       "<tr><td>6</td><td>Flat_SEG3R1.0008.fits</td><td>2023-09-09T01:47:35.037138</td><td></td><td>6:56:00.00</td><td>75:00:00.00</td><td>0.5</td></tr>\n",
       "<tr><td>7</td><td>Flat_SEG3G2.0009.fits</td><td>2023-09-09T01:49:32.885458</td><td></td><td>6:56:00.00</td><td>75:00:00.00</td><td>0.5</td></tr>\n",
       "<tr><td>8</td><td>SEG3G2.0010.fits</td><td>2023-09-09T02:19:53.351408</td><td>Seg3G2-Mask</td><td>21:21:32.11</td><td>19:08:59.20</td><td>20.0</td></tr>\n",
       "<tr><td>9</td><td>SEG3G2.0011.fits</td><td>2023-09-09T02:33:52.513049</td><td>Seg3G2-Mask</td><td>21:21:34.14</td><td>19:09:06.69</td><td>20.0</td></tr>\n",
       "<tr><td>10</td><td>SEG3G2.0012.fits</td><td>2023-09-09T02:36:34.405725</td><td>Seg3G2-Mask</td><td>21:21:34.14</td><td>19:09:06.69</td><td>11.2</td></tr>\n",
       "<tr><td>11</td><td>SEG3G2.0013.fits</td><td>2023-09-09T02:48:16.350442</td><td>Seg3G2-Mask</td><td>21:21:32.11</td><td>19:08:59.20</td><td>20.0</td></tr>\n",
       "<tr><td>12</td><td>SEG3G2.0014.fits</td><td>2023-09-09T02:54:50.847798</td><td>Seg3G2-Mask</td><td>21:21:32.11</td><td>19:08:59.20</td><td>20.0</td></tr>\n",
       "<tr><td>13</td><td>SEG3G2.0015.fits</td><td>2023-09-09T02:59:25.399982</td><td>Seg3G2-Mask</td><td>21:21:33.90</td><td>19:09:09.95</td><td>20.0</td></tr>\n",
       "<tr><td>14</td><td>SEG3G2.0016.fits</td><td>2023-09-09T03:02:17.891705</td><td>Seg3G2-Mask</td><td>21:21:33.90</td><td>19:09:09.95</td><td>300.0</td></tr>\n",
       "<tr><td>15</td><td>SEG3G2.0017.fits</td><td>2023-09-09T03:09:16.686771</td><td>Seg3G2-Mask</td><td>21:21:33.79</td><td>19:09:08.51</td><td>1200.0</td></tr>\n",
       "<tr><td>16</td><td>SEG3G2.0018.fits</td><td>2023-09-09T03:30:15.624134</td><td>Seg3G2-Mask</td><td>21:21:33.79</td><td>19:09:08.51</td><td>1200.0</td></tr>\n",
       "<tr><td>17</td><td>SEG3G2.0019.fits</td><td>2023-09-09T03:51:09.009643</td><td>Seg3G2-Mask</td><td>21:21:33.79</td><td>19:09:08.51</td><td>151.6</td></tr>\n",
       "<tr><td>18</td><td>SEG3G2.0020.fits</td><td>2023-09-09T03:54:34.957512</td><td>Seg3G2-Mask</td><td>21:21:33.86</td><td>19:09:09.37</td><td>1200.0</td></tr>\n",
       "<tr><td>19</td><td>Flat_SEG3G2.0021.fits</td><td>2023-09-09T04:15:36.148095</td><td>Seg3G2-Mask</td><td>21:21:33.86</td><td>19:09:09.37</td><td>2.0</td></tr>\n",
       "<tr><td>20</td><td>Flat_SEG3G2.0022.fits</td><td>2023-09-09T04:17:04.730402</td><td>Seg3G2-Mask</td><td>21:21:33.86</td><td>19:09:09.37</td><td>2.0</td></tr>\n",
       "<tr><td>21</td><td>Ne_120s_SEG3G2.0023.fits</td><td>2023-09-09T04:21:30.471078</td><td>Seg3G2-Mask</td><td>21:21:33.86</td><td>19:09:09.37</td><td>120.0</td></tr>\n",
       "<tr><td>22</td><td>Ne_360s_SEG3G2.0024.fits</td><td>2023-09-09T04:24:34.639306</td><td>Seg3G2-Mask</td><td>21:21:33.86</td><td>19:09:09.37</td><td>360.0</td></tr>\n",
       "<tr><td>23</td><td>SEG3R1.0025.fits</td><td>2023-09-09T04:40:57.424800</td><td>Seg3R1-Mask</td><td>21:21:26.09</td><td>19:07:24.04</td><td>30.0</td></tr>\n",
       "<tr><td>24</td><td>SEG3R1.0026.fits</td><td>2023-09-09T04:58:57.117501</td><td>Seg3R1-Mask</td><td>21:21:28.17</td><td>19:07:38.68</td><td>30.0</td></tr>\n",
       "<tr><td>25</td><td>SEG3R1.0027.fits</td><td>2023-09-09T05:02:59.211744</td><td>Seg3R1-Mask</td><td>21:21:28.17</td><td>19:07:36.10</td><td>30.0</td></tr>\n",
       "<tr><td>26</td><td>SEG3R1.0028.fits</td><td>2023-09-09T05:05:17.397640</td><td>Seg3R1-Mask</td><td>21:21:28.17</td><td>19:07:37.40</td><td>30.0</td></tr>\n",
       "<tr><td>27</td><td>SEG3G2.0029.fits</td><td>2023-09-09T05:25:03.036840</td><td>Seg3R1-Mask</td><td>21:21:28.17</td><td>19:07:37.40</td><td>30.0</td></tr>\n",
       "<tr><td>28</td><td>SEG3G2.0030.fits</td><td>2023-09-09T05:27:51.087662</td><td>Seg3R1-Mask</td><td>21:21:28.17</td><td>19:07:37.40</td><td>300.0</td></tr>\n",
       "<tr><td>29</td><td>SEG3G2.0031.fits</td><td>2023-09-09T05:33:45.621193</td><td>Seg3R1-Mask</td><td>21:21:28.17</td><td>19:07:37.40</td><td>69.9</td></tr>\n",
       "<tr><td>30</td><td>SEG3G2.0032.fits</td><td>2023-09-09T05:35:58.008061</td><td>Seg3R1-Mask</td><td>21:21:28.17</td><td>19:07:37.40</td><td>20.0</td></tr>\n",
       "<tr><td>31</td><td>SEG3R1.0033.fits</td><td>2023-09-09T05:38:08.122150</td><td>Seg3R1-Mask</td><td>21:21:28.17</td><td>19:07:37.40</td><td>20.0</td></tr>\n",
       "<tr><td>32</td><td>SEG3R1.0034.fits</td><td>2023-09-09T05:40:13.124058</td><td>Seg3R1-Mask</td><td>21:21:26.09</td><td>19:07:24.04</td><td>20.0</td></tr>\n",
       "<tr><td>33</td><td>SEG3R1.0035.fits</td><td>2023-09-09T05:45:05.716779</td><td>Seg3R1-Mask</td><td>21:21:28.17</td><td>19:07:37.38</td><td>20.0</td></tr>\n",
       "<tr><td>34</td><td>SEG3R1.0036.fits</td><td>2023-09-09T05:47:03.218094</td><td>Seg3R1-Mask</td><td>21:21:28.17</td><td>19:07:37.38</td><td>20.0</td></tr>\n",
       "<tr><td>35</td><td>H17_47.0037.fits</td><td>2023-09-09T06:14:11.755521</td><td>H17-47</td><td>21:21:22.56</td><td>19:08:13.20</td><td>300.0</td></tr>\n",
       "<tr><td>36</td><td>H17_47.0038.fits</td><td>2023-09-09T06:20:05.992885</td><td>H17-47</td><td>21:21:22.56</td><td>19:08:13.20</td><td>300.0</td></tr>\n",
       "<tr><td>37</td><td>Flat_SEG3R1.0039.fits</td><td>2023-09-09T06:27:47.142995</td><td>H17-47</td><td>21:21:22.56</td><td>19:08:13.20</td><td>1.0</td></tr>\n",
       "<tr><td>38</td><td>Flat_SEG3R1.0040.fits</td><td>2023-09-09T06:28:50.627653</td><td>H17-47</td><td>21:21:22.56</td><td>19:08:13.20</td><td>0.5</td></tr>\n",
       "<tr><td>39</td><td>Ne_1s_SEG3R1.0041.fits</td><td>2023-09-09T06:29:46.141456</td><td>H17-47</td><td>21:21:22.56</td><td>19:08:13.20</td><td>1.0</td></tr>\n",
       "<tr><td>40</td><td>Ne_4s_SEG3R1.0042.fits</td><td>2023-09-09T06:30:41.942522</td><td>H17-47</td><td>21:21:22.56</td><td>19:08:13.20</td><td>4.0</td></tr>\n",
       "<tr><td>41</td><td>H17-165.0044.fits</td><td>2023-09-09T06:47:06.931555</td><td>H17-165</td><td>21:21:27.36</td><td>19:08:31.20</td><td>300.0</td></tr>\n",
       "<tr><td>42</td><td>Flat_H17-165.0045.fits</td><td>2023-09-09T06:53:11.573015</td><td>H17-165</td><td>21:21:27.36</td><td>19:08:31.20</td><td>0.5</td></tr>\n",
       "<tr><td>43</td><td>Flat_H17-165.0046.fits</td><td>2023-09-09T06:54:10.413847</td><td>H17-165</td><td>21:21:27.36</td><td>19:08:31.20</td><td>1.0</td></tr>\n",
       "<tr><td>44</td><td>Ne_1s_H17-165.0047.fits</td><td>2023-09-09T06:55:50.424309</td><td>H17-165</td><td>21:21:27.36</td><td>19:08:31.20</td><td>1.0</td></tr>\n",
       "<tr><td>45</td><td>Ne_1s_H17-165.0048.fits</td><td>2023-09-09T06:56:51.619329</td><td>H17-165</td><td>21:21:27.36</td><td>19:08:31.20</td><td>4.0</td></tr>\n",
       "<tr><td>46</td><td>LS-105.0050.fits</td><td>2023-09-09T07:06:11.417475</td><td>LS-105</td><td>21:21:38.64</td><td>19:06:39.60</td><td>300.0</td></tr>\n",
       "<tr><td>47</td><td>SATURN.0051.fits</td><td>2023-09-09T07:12:22.067312</td><td></td><td>22:20:38.46</td><td>-12:14:27.51</td><td>2.0</td></tr>\n",
       "<tr><td>48</td><td>SATURN.0052.fits</td><td>2023-09-09T07:13:48.558408</td><td></td><td>22:20:38.29</td><td>-12:14:28.47</td><td>0.5</td></tr>\n",
       "<tr><td>49</td><td>Bias.0053.fits</td><td>2023-09-09T12:52:44.176927</td><td></td><td>6:56:00.00</td><td>70:00:00.00</td><td>0</td></tr>\n",
       "<tr><td>50</td><td>Bias.0054.fits</td><td>2023-09-09T12:53:09.352341</td><td></td><td>6:56:00.00</td><td>70:00:00.00</td><td>0</td></tr>\n",
       "<tr><td>51</td><td>Bias.0055.fits</td><td>2023-09-09T12:53:34.248508</td><td></td><td>6:56:00.00</td><td>70:00:00.00</td><td>0</td></tr>\n",
       "<tr><td>52</td><td>Bias.0056.fits</td><td>2023-09-09T12:53:59.294849</td><td></td><td>6:56:00.00</td><td>70:00:00.00</td><td>0</td></tr>\n",
       "<tr><td>53</td><td>Bias.0057.fits</td><td>2023-09-09T12:54:24.363980</td><td></td><td>6:56:00.00</td><td>70:00:00.00</td><td>0</td></tr>\n",
       "<tr><td>54</td><td>dark.0058.fits</td><td>2023-09-09T12:54:49.547895</td><td></td><td>6:56:00.00</td><td>70:00:00.00</td><td>0.5</td></tr>\n",
       "<tr><td>55</td><td>dark.0059.fits</td><td>2023-09-09T12:55:15.056918</td><td></td><td>6:56:00.00</td><td>70:00:00.00</td><td>0.5</td></tr>\n",
       "<tr><td>56</td><td>dark.0060.fits</td><td>2023-09-09T12:55:40.545940</td><td></td><td>6:56:00.00</td><td>70:00:00.00</td><td>0.5</td></tr>\n",
       "<tr><td>57</td><td>dark.0061.fits</td><td>2023-09-09T12:56:06.192818</td><td></td><td>6:56:00.00</td><td>70:00:00.00</td><td>1.0</td></tr>\n",
       "<tr><td>58</td><td>dark.0062.fits</td><td>2023-09-09T12:56:32.144634</td><td></td><td>6:56:00.00</td><td>70:00:00.00</td><td>1.0</td></tr>\n",
       "<tr><td>59</td><td>dark.0063.fits</td><td>2023-09-09T12:56:58.240545</td><td></td><td>6:56:00.00</td><td>70:00:00.00</td><td>1.0</td></tr>\n",
       "<tr><td>60</td><td>dark.0064.fits</td><td>2023-09-09T12:57:24.375660</td><td></td><td>6:56:00.00</td><td>70:00:00.00</td><td>2.0</td></tr>\n",
       "<tr><td>61</td><td>dark.0065.fits</td><td>2023-09-09T12:57:51.345841</td><td></td><td>6:56:00.00</td><td>70:00:00.00</td><td>2.0</td></tr>\n",
       "<tr><td>62</td><td>dark.0066.fits</td><td>2023-09-09T12:58:18.348144</td><td></td><td>6:56:00.00</td><td>70:00:00.00</td><td>2.0</td></tr>\n",
       "<tr><td>63</td><td>dark.0067.fits</td><td>2023-09-09T12:58:45.362508</td><td></td><td>6:56:00.00</td><td>70:00:00.00</td><td>200.0</td></tr>\n",
       "<tr><td>64</td><td>dark.0068.fits</td><td>2023-09-09T13:02:30.530696</td><td></td><td>6:56:00.00</td><td>70:00:00.00</td><td>200.0</td></tr>\n",
       "<tr><td>65</td><td>dark.0069.fits</td><td>2023-09-09T13:06:15.788677</td><td></td><td>6:56:00.00</td><td>70:00:00.00</td><td>200.0</td></tr>\n",
       "<tr><td>66</td><td>dark.0070.fits</td><td>2023-09-09T13:10:00.936186</td><td></td><td>6:56:00.00</td><td>70:00:00.00</td><td>300.0</td></tr>\n",
       "<tr><td>67</td><td>dark.0071.fits</td><td>2023-09-09T13:15:26.025582</td><td></td><td>6:56:00.00</td><td>70:00:00.00</td><td>300.0</td></tr>\n",
       "<tr><td>68</td><td>dark.0072.fits</td><td>2023-09-09T13:20:51.481718</td><td></td><td>6:56:00.00</td><td>70:00:00.00</td><td>300.0</td></tr>\n",
       "<tr><td>69</td><td>dark.0073.fits</td><td>2023-09-09T13:26:16.772429</td><td></td><td>6:56:00.00</td><td>70:00:00.00</td><td>742.1</td></tr>\n",
       "<tr><td>70</td><td>Bias.0074.fits</td><td>2023-09-09T13:40:48.562773</td><td></td><td>6:56:00.00</td><td>70:00:00.00</td><td>0</td></tr>\n",
       "<tr><td>71</td><td>Bias.0075.fits</td><td>2023-09-09T13:41:42.621027</td><td></td><td>6:56:00.00</td><td>70:00:00.00</td><td>0</td></tr>\n",
       "<tr><td>72</td><td>Bias.0076.fits</td><td>2023-09-09T13:42:36.322122</td><td></td><td>6:56:00.00</td><td>70:00:00.00</td><td>0</td></tr>\n",
       "<tr><td>73</td><td>Bias.0077.fits</td><td>2023-09-09T13:43:31.221760</td><td></td><td>6:56:00.00</td><td>70:00:00.00</td><td>0</td></tr>\n",
       "<tr><td>74</td><td>Bias.0078.fits</td><td>2023-09-09T13:44:25.014680</td><td></td><td>6:56:00.00</td><td>70:00:00.00</td><td>0</td></tr>\n",
       "<tr><td>75</td><td>dark.0079.fits</td><td>2023-09-09T13:45:19.409440</td><td></td><td>6:56:00.00</td><td>70:00:00.00</td><td>0.5</td></tr>\n",
       "<tr><td>76</td><td>dark.0080.fits</td><td>2023-09-09T13:46:14.416529</td><td></td><td>6:56:00.00</td><td>70:00:00.00</td><td>0.5</td></tr>\n",
       "<tr><td>77</td><td>dark.0081.fits</td><td>2023-09-09T13:47:08.423462</td><td></td><td>6:56:00.00</td><td>70:00:00.00</td><td>0.5</td></tr>\n",
       "<tr><td>78</td><td>dark.0082.fits</td><td>2023-09-09T13:48:03.262934</td><td></td><td>6:56:00.00</td><td>70:00:00.00</td><td>1.0</td></tr>\n",
       "<tr><td>79</td><td>dark.0083.fits</td><td>2023-09-09T13:48:57.860025</td><td></td><td>6:56:00.00</td><td>70:00:00.00</td><td>1.0</td></tr>\n",
       "<tr><td>80</td><td>dark.0084.fits</td><td>2023-09-09T13:49:53.115032</td><td></td><td>6:56:00.00</td><td>70:00:00.00</td><td>1.0</td></tr>\n",
       "<tr><td>81</td><td>dark.0085.fits</td><td>2023-09-09T13:50:49.212021</td><td></td><td>6:56:00.00</td><td>70:00:00.00</td><td>2.0</td></tr>\n",
       "<tr><td>82</td><td>dark.0086.fits</td><td>2023-09-09T13:51:46.212787</td><td></td><td>6:56:00.00</td><td>70:00:00.00</td><td>2.0</td></tr>\n",
       "<tr><td>83</td><td>dark.0087.fits</td><td>2023-09-09T13:52:41.862643</td><td></td><td>6:56:00.00</td><td>70:00:00.00</td><td>2.0</td></tr>\n",
       "<tr><td>84</td><td>dark.0091.fits</td><td>2023-09-09T14:06:19.229533</td><td></td><td>6:56:00.00</td><td>70:00:00.00</td><td>300.0</td></tr>\n",
       "<tr><td>85</td><td>dark.0092.fits</td><td>2023-09-09T14:12:13.991426</td><td></td><td>6:56:00.00</td><td>70:00:00.00</td><td>300.0</td></tr>\n",
       "<tr><td>86</td><td>dark.0093.fits</td><td>2023-09-09T14:18:08.245106</td><td></td><td>6:56:00.00</td><td>70:00:00.00</td><td>300.0</td></tr>\n",
       "<tr><td>87</td><td>dark.0094.fits</td><td>2023-09-09T14:24:04.638995</td><td></td><td>6:56:00.00</td><td>70:00:00.00</td><td>1200.0</td></tr>\n",
       "<tr><td>88</td><td>dark.0095.fits</td><td>2023-09-09T14:44:58.171015</td><td></td><td>6:56:00.00</td><td>70:00:00.00</td><td>1200.0</td></tr>\n",
       "<tr><td>89</td><td>dark.0096.fits</td><td>2023-09-09T15:05:52.009990</td><td></td><td>6:56:00.00</td><td>70:00:00.00</td><td>1200.0</td></tr>\n",
       "</table><style>table.dataTable {clear: both; width: auto !important; margin: 0 !important;}\n",
       ".dataTables_info, .dataTables_length, .dataTables_filter, .dataTables_paginate{\n",
       "display: inline-block; margin-right: 1em; }\n",
       ".paginate_button { margin-right: 5px; }\n",
       "</style>\n",
       "<script>\n",
       "\n",
       "var astropy_sort_num = function(a, b) {\n",
       "    var a_num = parseFloat(a);\n",
       "    var b_num = parseFloat(b);\n",
       "\n",
       "    if (isNaN(a_num) && isNaN(b_num))\n",
       "        return ((a < b) ? -1 : ((a > b) ? 1 : 0));\n",
       "    else if (!isNaN(a_num) && !isNaN(b_num))\n",
       "        return ((a_num < b_num) ? -1 : ((a_num > b_num) ? 1 : 0));\n",
       "    else\n",
       "        return isNaN(a_num) ? -1 : 1;\n",
       "}\n",
       "\n",
       "require.config({paths: {\n",
       "    datatables: 'https://cdn.datatables.net/1.10.12/js/jquery.dataTables.min'\n",
       "}});\n",
       "require([\"datatables\"], function(){\n",
       "    console.log(\"$('#table1283974919568-646334').dataTable()\");\n",
       "    \n",
       "jQuery.extend( jQuery.fn.dataTableExt.oSort, {\n",
       "    \"optionalnum-asc\": astropy_sort_num,\n",
       "    \"optionalnum-desc\": function (a,b) { return -astropy_sort_num(a, b); }\n",
       "});\n",
       "\n",
       "    $('#table1283974919568-646334').dataTable({\n",
       "        order: [],\n",
       "        pageLength: 5,\n",
       "        lengthMenu: [[5, 10, 25, 50, 100, 500, 1000, -1], [5, 10, 25, 50, 100, 500, 1000, 'All']],\n",
       "        pagingType: \"full_numbers\",\n",
       "        columnDefs: [{targets: [0], type: \"optionalnum\"}]\n",
       "    });\n",
       "});\n",
       "</script>\n"
      ],
      "text/plain": [
       "<IPython.core.display.HTML object>"
      ]
     },
     "execution_count": 5,
     "metadata": {},
     "output_type": "execute_result"
    }
   ],
   "source": [
    "# Display the contente of the directory\n",
    "red.log().show_in_notebook(display_length=5)"
   ]
  },
  {
   "cell_type": "markdown",
   "id": "409dbc46-5a62-4cd1-b5b8-202777f2a028",
   "metadata": {},
   "source": [
    "# Calibration images."
   ]
  },
  {
   "cell_type": "markdown",
   "id": "8d7b8398-08a0-43cc-bd0e-4bc3280294e9",
   "metadata": {},
   "source": [
    "## Master bias."
   ]
  },
  {
   "cell_type": "code",
   "execution_count": 6,
   "id": "a2344404-c3d2-4275-85c6-c0564803733a",
   "metadata": {},
   "outputs": [
    {
     "name": "stdout",
     "output_type": "stream",
     "text": [
      "  Reading file: UT230909\\Bias.0074.fits\n",
      "  subtracting overscan vector \n",
      "  subtracting overscan vector \n",
      "  Reading file: UT230909\\Bias.0075.fits\n",
      "  subtracting overscan vector \n",
      "  subtracting overscan vector \n",
      "  Reading file: UT230909\\Bias.0076.fits\n",
      "  subtracting overscan vector \n",
      "  subtracting overscan vector \n",
      "  Reading file: UT230909\\Bias.0077.fits\n",
      "  subtracting overscan vector \n",
      "  subtracting overscan vector \n",
      "  Reading file: UT230909\\Bias.0078.fits\n",
      "  subtracting overscan vector \n",
      "  subtracting overscan vector \n",
      "  combining data with median....\n",
      "  calculating uncertainty....\n"
     ]
    }
   ],
   "source": [
    "biastims=[74,75,76,77,78] # Make a list of biases using file numbers.\n",
    "bias=red.mkbias(biastims,display=None) # Make a master bias."
   ]
  },
  {
   "cell_type": "code",
   "execution_count": 7,
   "id": "28ab5d2d-1b20-4674-aa5f-1e98d3ff25ca",
   "metadata": {},
   "outputs": [],
   "source": [
    "# Display master bias.\n",
    "if t is not None:\n",
    "    t.tv(bias)"
   ]
  },
  {
   "cell_type": "markdown",
   "id": "5d3171e3-01c7-45d0-91af-07a701d93771",
   "metadata": {},
   "source": [
    "## Master dark"
   ]
  },
  {
   "cell_type": "code",
   "execution_count": 8,
   "id": "262de99d-87c5-44d7-ae81-d2dbe99630ef",
   "metadata": {},
   "outputs": [
    {
     "name": "stdout",
     "output_type": "stream",
     "text": [
      "  Reading file: UT230909\\dark.0094.fits\n",
      "  subtracting overscan vector \n",
      "  subtracting overscan vector \n",
      "  Reading file: UT230909\\dark.0095.fits\n",
      "  subtracting overscan vector \n",
      "  subtracting overscan vector \n",
      "  Reading file: UT230909\\dark.0096.fits\n",
      "  subtracting overscan vector \n",
      "  subtracting overscan vector \n",
      "  combining data with median....\n",
      "  calculating uncertainty....\n"
     ]
    }
   ],
   "source": [
    "darktims=[94,95,96] # Make a list of darks using file numbers.\n",
    "dark=red.mkdark(darktims,display=None, clip =5) # Make a master dark."
   ]
  },
  {
   "cell_type": "code",
   "execution_count": 9,
   "id": "09ca4fb8-f479-4814-b946-59be871adc22",
   "metadata": {},
   "outputs": [],
   "source": [
    "# Display dark.\n",
    "if t is not None:\n",
    "    t.tv(dark)"
   ]
  },
  {
   "cell_type": "markdown",
   "id": "085f36fc-773e-47e5-9c06-d5990bcce17f",
   "metadata": {},
   "source": [
    "## Master flat"
   ]
  },
  {
   "cell_type": "code",
   "execution_count": 10,
   "id": "b9803a88-04f1-433b-ab3b-6a1f1f81bce4",
   "metadata": {},
   "outputs": [
    {
     "name": "stdout",
     "output_type": "stream",
     "text": [
      "  Reading file: UT230909\\Flat_SEG3G2.0021.fits\n",
      "  subtracting overscan vector \n",
      "  subtracting overscan vector \n",
      "  Reading file: UT230909\\Flat_SEG3G2.0022.fits\n",
      "  subtracting overscan vector \n",
      "  subtracting overscan vector \n",
      "  combining data with median....\n",
      "  calculating uncertainty....\n"
     ]
    }
   ],
   "source": [
    "flatims=[21,22] # Make a list of flats using file numbers.\n",
    "flat=red.mkflat(flatims,spec=True) # Make masteer flat."
   ]
  },
  {
   "cell_type": "code",
   "execution_count": 11,
   "id": "d6c9ba70-5c45-4dcb-ba68-36950a793786",
   "metadata": {},
   "outputs": [],
   "source": [
    "# Display flat\n",
    "if t is not None:\n",
    "    t.tv(flat)"
   ]
  },
  {
   "cell_type": "markdown",
   "id": "cd4de074-0889-4bce-9ad8-0ead41e2fe70",
   "metadata": {},
   "source": [
    "## Master arcs"
   ]
  },
  {
   "cell_type": "code",
   "execution_count": 12,
   "id": "c0c7577e-e1d5-4021-9033-c73041f0f95d",
   "metadata": {},
   "outputs": [
    {
     "name": "stdout",
     "output_type": "stream",
     "text": [
      "  Reading file: UT230909\\Ne_120s_SEG3G2.0023.fits\n",
      "  subtracting overscan vector \n",
      "  subtracting overscan vector \n",
      "INFO: array provided for uncertainty; assuming it is a StdDevUncertainty. [astropy.nddata.ccddata]\n",
      "  Reading file: UT230909\\Ne_360s_SEG3G2.0024.fits\n",
      "  subtracting overscan vector \n",
      "  subtracting overscan vector \n",
      "INFO: array provided for uncertainty; assuming it is a StdDevUncertainty. [astropy.nddata.ccddata]\n",
      "  combining data with sum....\n",
      "  calculating uncertainty....\n"
     ]
    }
   ],
   "source": [
    "arcs= red.sum([23,24]) # Make a master arc"
   ]
  },
  {
   "cell_type": "code",
   "execution_count": 13,
   "id": "908b1f22-6484-43e4-a4d3-b95b1b7871fc",
   "metadata": {},
   "outputs": [],
   "source": [
    "# Display master arcs.\n",
    "if t is not None:\n",
    "    t.tv(arcs)"
   ]
  },
  {
   "cell_type": "markdown",
   "id": "3c5daed4-ccd8-424a-b738-8a91958673c1",
   "metadata": {},
   "source": [
    "Use flat1 for slit identification."
   ]
  },
  {
   "cell_type": "code",
   "execution_count": 14,
   "id": "8fe41d19-3ea3-4b75-867e-85a99819222e",
   "metadata": {},
   "outputs": [
    {
     "name": "stdout",
     "output_type": "stream",
     "text": [
      "  Reading file: UT230909\\Flat_SEG3G2.0021.fits\n",
      "  subtracting overscan vector \n",
      "  subtracting overscan vector \n",
      "INFO: array provided for uncertainty; assuming it is a StdDevUncertainty. [astropy.nddata.ccddata]\n"
     ]
    }
   ],
   "source": [
    "flat1 = red.reduce(21)"
   ]
  },
  {
   "cell_type": "markdown",
   "id": "1bcac315-ee4d-4c2d-9b4b-b0b9ee4f9cb7",
   "metadata": {},
   "source": [
    "# Find and display slits on a flat image"
   ]
  },
  {
   "cell_type": "markdown",
   "id": "41ca3cd9-cde9-42f6-af57-fa3d6dffc855",
   "metadata": {},
   "source": [
    "Find slit edges from flat and fit polynomials to locations. Please do not use the master arc because the data format has the overscan stored in it."
   ]
  },
  {
   "cell_type": "code",
   "execution_count": 15,
   "id": "b58b87fa-7bc1-4c52-a319-8f841c874b0a",
   "metadata": {},
   "outputs": [],
   "source": [
    "trace0=spectra.Trace(transpose=True) # Setup a trace base based on KOMOS (Trancepose = True)\n",
    "t.tvclear()\n",
    "bottom,top = trace0.findslits(flat1,display=t,thresh=0.5,sn=True) # This does not take mkflat()."
   ]
  },
  {
   "cell_type": "markdown",
   "id": "3e0de61b-7f82-497e-94d3-1142118ea41f",
   "metadata": {},
   "source": [
    "# Read slit mask from a kms-file"
   ]
  },
  {
   "cell_type": "markdown",
   "id": "f09416cb-099e-4871-a8de-43575e95f7aa",
   "metadata": {},
   "source": [
    "Read in the slitmask file, which we'll use to get object names and slit locations to help with wavelength solution.\n",
    "\n",
    "If the number of slitlets found doesn't match the number of targets, you'll need to go back and adjust the threshold to find the correct slitlets, or else modify the targets table below so that they match."
   ]
  },
  {
   "cell_type": "code",
   "execution_count": 16,
   "id": "d62ecdbe",
   "metadata": {
    "scrolled": true
   },
   "outputs": [
    {
     "data": {
      "text/html": [
       "<div><i>Table length=16</i>\n",
       "<table id=\"table1284005427824\" class=\"table-striped table-bordered table-condensed\">\n",
       "<thead><tr><th>ID</th><th>NAME</th><th>SHAPE</th><th>WID</th><th>LEN</th><th>ROT</th><th>ALPHA</th><th>DELTA</th><th>WIDMM</th><th>LENMM</th><th>XMM</th><th>YMM</th></tr></thead>\n",
       "<thead><tr><th>str7</th><th>str2</th><th>str8</th><th>float64</th><th>float64</th><th>float64</th><th>float64</th><th>float64</th><th>float64</th><th>float64</th><th>float64</th><th>float64</th></tr></thead>\n",
       "<tr><td>TARG113</td><td>NN</td><td>STRAIGHT</td><td>4.0</td><td>4.0</td><td>0.0</td><td>212134.279</td><td>191220.25</td><td>0.683</td><td>0.683</td><td>-5.252</td><td>-34.315</td></tr>\n",
       "<tr><td>TARG112</td><td>NN</td><td>STRAIGHT</td><td>4.0</td><td>4.0</td><td>0.0</td><td>212140.986</td><td>191141.81</td><td>0.683</td><td>0.683</td><td>-21.469</td><td>-27.768</td></tr>\n",
       "<tr><td>TARG114</td><td>NN</td><td>STRAIGHT</td><td>4.0</td><td>4.0</td><td>0.0</td><td>212123.429</td><td>191104.21</td><td>0.683</td><td>0.683</td><td>20.979</td><td>-21.323</td></tr>\n",
       "<tr><td>TARG111</td><td>NN</td><td>STRAIGHT</td><td>0.9</td><td>10.0</td><td>0.0</td><td>212132.879</td><td>191002.48</td><td>0.154</td><td>1.707</td><td>-1.87</td><td>-10.801</td></tr>\n",
       "<tr><td>TARG110</td><td>NN</td><td>STRAIGHT</td><td>0.9</td><td>10.0</td><td>0.0</td><td>212127.784</td><td>190908.67</td><td>0.154</td><td>1.707</td><td>10.451</td><td>-1.61</td></tr>\n",
       "<tr><td>TARG109</td><td>NN</td><td>STRAIGHT</td><td>0.9</td><td>10.0</td><td>0.0</td><td>212128.763</td><td>190845.78</td><td>0.154</td><td>1.707</td><td>8.085</td><td>2.297</td></tr>\n",
       "<tr><td>TARG108</td><td>NN</td><td>STRAIGHT</td><td>0.9</td><td>10.0</td><td>0.0</td><td>212127.508</td><td>190828.88</td><td>0.154</td><td>1.707</td><td>11.119</td><td>5.182</td></tr>\n",
       "<tr><td>TARG107</td><td>NN</td><td>STRAIGHT</td><td>0.9</td><td>10.0</td><td>0.0</td><td>212133.847</td><td>190811.86</td><td>0.154</td><td>1.707</td><td>-4.212</td><td>8.077</td></tr>\n",
       "<tr><td>TARG115</td><td>NN</td><td>STRAIGHT</td><td>4.0</td><td>4.0</td><td>0.0</td><td>212132.347</td><td>190735.58</td><td>0.683</td><td>0.683</td><td>-0.582</td><td>14.272</td></tr>\n",
       "<tr><td>TARG106</td><td>NN</td><td>STRAIGHT</td><td>0.9</td><td>10.0</td><td>0.0</td><td>212133.934</td><td>190720.87</td><td>0.154</td><td>1.707</td><td>-4.422</td><td>16.78</td></tr>\n",
       "<tr><td>TARG105</td><td>NN</td><td>STRAIGHT</td><td>0.9</td><td>10.0</td><td>0.0</td><td>212130.054</td><td>190659.25</td><td>0.154</td><td>1.707</td><td>4.962</td><td>20.475</td></tr>\n",
       "<tr><td>TARG104</td><td>NN</td><td>STRAIGHT</td><td>0.9</td><td>10.0</td><td>0.0</td><td>212136.755</td><td>190631.54</td><td>0.154</td><td>1.707</td><td>-11.247</td><td>25.194</td></tr>\n",
       "<tr><td>TARG103</td><td>NN</td><td>STRAIGHT</td><td>0.9</td><td>10.0</td><td>0.0</td><td>212139.639</td><td>190612.3</td><td>0.154</td><td>1.707</td><td>-18.223</td><td>28.472</td></tr>\n",
       "<tr><td>TARG102</td><td>NN</td><td>STRAIGHT</td><td>0.9</td><td>10.0</td><td>0.0</td><td>212134.103</td><td>190555.71</td><td>0.154</td><td>1.707</td><td>-4.831</td><td>31.313</td></tr>\n",
       "<tr><td>TARG116</td><td>NN</td><td>STRAIGHT</td><td>4.0</td><td>4.0</td><td>0.0</td><td>212136.121</td><td>190544.59</td><td>0.683</td><td>0.683</td><td>-9.713</td><td>33.208</td></tr>\n",
       "<tr><td>TARG101</td><td>NN</td><td>STRAIGHT</td><td>0.9</td><td>10.0</td><td>0.0</td><td>212133.821</td><td>190534.28</td><td>0.154</td><td>1.707</td><td>-4.15</td><td>34.972</td></tr>\n",
       "</table></div>"
      ],
      "text/plain": [
       "<Table length=16>\n",
       "   ID   NAME  SHAPE     WID     LEN     ROT     ALPHA      DELTA    WIDMM   LENMM    XMM     YMM  \n",
       "  str7  str2   str8   float64 float64 float64  float64    float64  float64 float64 float64 float64\n",
       "------- ---- -------- ------- ------- ------- ---------- --------- ------- ------- ------- -------\n",
       "TARG113   NN STRAIGHT     4.0     4.0     0.0 212134.279 191220.25   0.683   0.683  -5.252 -34.315\n",
       "TARG112   NN STRAIGHT     4.0     4.0     0.0 212140.986 191141.81   0.683   0.683 -21.469 -27.768\n",
       "TARG114   NN STRAIGHT     4.0     4.0     0.0 212123.429 191104.21   0.683   0.683  20.979 -21.323\n",
       "TARG111   NN STRAIGHT     0.9    10.0     0.0 212132.879 191002.48   0.154   1.707   -1.87 -10.801\n",
       "TARG110   NN STRAIGHT     0.9    10.0     0.0 212127.784 190908.67   0.154   1.707  10.451   -1.61\n",
       "TARG109   NN STRAIGHT     0.9    10.0     0.0 212128.763 190845.78   0.154   1.707   8.085   2.297\n",
       "TARG108   NN STRAIGHT     0.9    10.0     0.0 212127.508 190828.88   0.154   1.707  11.119   5.182\n",
       "TARG107   NN STRAIGHT     0.9    10.0     0.0 212133.847 190811.86   0.154   1.707  -4.212   8.077\n",
       "TARG115   NN STRAIGHT     4.0     4.0     0.0 212132.347 190735.58   0.683   0.683  -0.582  14.272\n",
       "TARG106   NN STRAIGHT     0.9    10.0     0.0 212133.934 190720.87   0.154   1.707  -4.422   16.78\n",
       "TARG105   NN STRAIGHT     0.9    10.0     0.0 212130.054 190659.25   0.154   1.707   4.962  20.475\n",
       "TARG104   NN STRAIGHT     0.9    10.0     0.0 212136.755 190631.54   0.154   1.707 -11.247  25.194\n",
       "TARG103   NN STRAIGHT     0.9    10.0     0.0 212139.639  190612.3   0.154   1.707 -18.223  28.472\n",
       "TARG102   NN STRAIGHT     0.9    10.0     0.0 212134.103 190555.71   0.154   1.707  -4.831  31.313\n",
       "TARG116   NN STRAIGHT     4.0     4.0     0.0 212136.121 190544.59   0.683   0.683  -9.713  33.208\n",
       "TARG101   NN STRAIGHT     0.9    10.0     0.0 212133.821 190534.28   0.154   1.707   -4.15  34.972"
      ]
     },
     "execution_count": 16,
     "metadata": {},
     "output_type": "execute_result"
    }
   ],
   "source": [
    "kmsfile='kms/Copy of kosmos.23.seg3g2.kms' # File directory.\n",
    "targets=slitmask.read_kms(kmsfile,sort='YMM') # Reading file.\n",
    "if len(targets) != len(bottom) : # checking if the number of slits found matches the targets.\n",
    "    print('ERROR, number of identified slits does not match number of targets')\n",
    "targets # Visualing file content."
   ]
  },
  {
   "cell_type": "markdown",
   "id": "6edfb5dd-9261-4b33-ab7f-aeaf94b139dd",
   "metadata": {},
   "source": [
    "## Convert the targets table to a pandas Data Frame"
   ]
  },
  {
   "cell_type": "code",
   "execution_count": 17,
   "id": "6e252cf7-a422-4c09-93f2-c28aabc750f0",
   "metadata": {
    "scrolled": true
   },
   "outputs": [
    {
     "data": {
      "text/html": [
       "<div>\n",
       "<style scoped>\n",
       "    .dataframe tbody tr th:only-of-type {\n",
       "        vertical-align: middle;\n",
       "    }\n",
       "\n",
       "    .dataframe tbody tr th {\n",
       "        vertical-align: top;\n",
       "    }\n",
       "\n",
       "    .dataframe thead th {\n",
       "        text-align: right;\n",
       "    }\n",
       "</style>\n",
       "<table border=\"1\" class=\"dataframe\">\n",
       "  <thead>\n",
       "    <tr style=\"text-align: right;\">\n",
       "      <th></th>\n",
       "      <th>ID</th>\n",
       "      <th>NAME</th>\n",
       "      <th>SHAPE</th>\n",
       "      <th>WID</th>\n",
       "      <th>LEN</th>\n",
       "      <th>ROT</th>\n",
       "      <th>ALPHA</th>\n",
       "      <th>DELTA</th>\n",
       "      <th>WIDMM</th>\n",
       "      <th>LENMM</th>\n",
       "      <th>XMM</th>\n",
       "      <th>YMM</th>\n",
       "    </tr>\n",
       "  </thead>\n",
       "  <tbody>\n",
       "    <tr>\n",
       "      <th>0</th>\n",
       "      <td>TARG113</td>\n",
       "      <td>NN</td>\n",
       "      <td>STRAIGHT</td>\n",
       "      <td>4.0</td>\n",
       "      <td>4.0</td>\n",
       "      <td>0.0</td>\n",
       "      <td>212134.279</td>\n",
       "      <td>191220.25</td>\n",
       "      <td>0.683</td>\n",
       "      <td>0.683</td>\n",
       "      <td>-5.252</td>\n",
       "      <td>-34.315</td>\n",
       "    </tr>\n",
       "    <tr>\n",
       "      <th>1</th>\n",
       "      <td>TARG112</td>\n",
       "      <td>NN</td>\n",
       "      <td>STRAIGHT</td>\n",
       "      <td>4.0</td>\n",
       "      <td>4.0</td>\n",
       "      <td>0.0</td>\n",
       "      <td>212140.986</td>\n",
       "      <td>191141.81</td>\n",
       "      <td>0.683</td>\n",
       "      <td>0.683</td>\n",
       "      <td>-21.469</td>\n",
       "      <td>-27.768</td>\n",
       "    </tr>\n",
       "    <tr>\n",
       "      <th>2</th>\n",
       "      <td>TARG114</td>\n",
       "      <td>NN</td>\n",
       "      <td>STRAIGHT</td>\n",
       "      <td>4.0</td>\n",
       "      <td>4.0</td>\n",
       "      <td>0.0</td>\n",
       "      <td>212123.429</td>\n",
       "      <td>191104.21</td>\n",
       "      <td>0.683</td>\n",
       "      <td>0.683</td>\n",
       "      <td>20.979</td>\n",
       "      <td>-21.323</td>\n",
       "    </tr>\n",
       "    <tr>\n",
       "      <th>3</th>\n",
       "      <td>TARG111</td>\n",
       "      <td>NN</td>\n",
       "      <td>STRAIGHT</td>\n",
       "      <td>0.9</td>\n",
       "      <td>10.0</td>\n",
       "      <td>0.0</td>\n",
       "      <td>212132.879</td>\n",
       "      <td>191002.48</td>\n",
       "      <td>0.154</td>\n",
       "      <td>1.707</td>\n",
       "      <td>-1.870</td>\n",
       "      <td>-10.801</td>\n",
       "    </tr>\n",
       "    <tr>\n",
       "      <th>4</th>\n",
       "      <td>TARG110</td>\n",
       "      <td>NN</td>\n",
       "      <td>STRAIGHT</td>\n",
       "      <td>0.9</td>\n",
       "      <td>10.0</td>\n",
       "      <td>0.0</td>\n",
       "      <td>212127.784</td>\n",
       "      <td>190908.67</td>\n",
       "      <td>0.154</td>\n",
       "      <td>1.707</td>\n",
       "      <td>10.451</td>\n",
       "      <td>-1.610</td>\n",
       "    </tr>\n",
       "    <tr>\n",
       "      <th>5</th>\n",
       "      <td>TARG109</td>\n",
       "      <td>NN</td>\n",
       "      <td>STRAIGHT</td>\n",
       "      <td>0.9</td>\n",
       "      <td>10.0</td>\n",
       "      <td>0.0</td>\n",
       "      <td>212128.763</td>\n",
       "      <td>190845.78</td>\n",
       "      <td>0.154</td>\n",
       "      <td>1.707</td>\n",
       "      <td>8.085</td>\n",
       "      <td>2.297</td>\n",
       "    </tr>\n",
       "    <tr>\n",
       "      <th>6</th>\n",
       "      <td>TARG108</td>\n",
       "      <td>NN</td>\n",
       "      <td>STRAIGHT</td>\n",
       "      <td>0.9</td>\n",
       "      <td>10.0</td>\n",
       "      <td>0.0</td>\n",
       "      <td>212127.508</td>\n",
       "      <td>190828.88</td>\n",
       "      <td>0.154</td>\n",
       "      <td>1.707</td>\n",
       "      <td>11.119</td>\n",
       "      <td>5.182</td>\n",
       "    </tr>\n",
       "    <tr>\n",
       "      <th>7</th>\n",
       "      <td>TARG107</td>\n",
       "      <td>NN</td>\n",
       "      <td>STRAIGHT</td>\n",
       "      <td>0.9</td>\n",
       "      <td>10.0</td>\n",
       "      <td>0.0</td>\n",
       "      <td>212133.847</td>\n",
       "      <td>190811.86</td>\n",
       "      <td>0.154</td>\n",
       "      <td>1.707</td>\n",
       "      <td>-4.212</td>\n",
       "      <td>8.077</td>\n",
       "    </tr>\n",
       "    <tr>\n",
       "      <th>8</th>\n",
       "      <td>TARG115</td>\n",
       "      <td>NN</td>\n",
       "      <td>STRAIGHT</td>\n",
       "      <td>4.0</td>\n",
       "      <td>4.0</td>\n",
       "      <td>0.0</td>\n",
       "      <td>212132.347</td>\n",
       "      <td>190735.58</td>\n",
       "      <td>0.683</td>\n",
       "      <td>0.683</td>\n",
       "      <td>-0.582</td>\n",
       "      <td>14.272</td>\n",
       "    </tr>\n",
       "    <tr>\n",
       "      <th>9</th>\n",
       "      <td>TARG106</td>\n",
       "      <td>NN</td>\n",
       "      <td>STRAIGHT</td>\n",
       "      <td>0.9</td>\n",
       "      <td>10.0</td>\n",
       "      <td>0.0</td>\n",
       "      <td>212133.934</td>\n",
       "      <td>190720.87</td>\n",
       "      <td>0.154</td>\n",
       "      <td>1.707</td>\n",
       "      <td>-4.422</td>\n",
       "      <td>16.780</td>\n",
       "    </tr>\n",
       "    <tr>\n",
       "      <th>10</th>\n",
       "      <td>TARG105</td>\n",
       "      <td>NN</td>\n",
       "      <td>STRAIGHT</td>\n",
       "      <td>0.9</td>\n",
       "      <td>10.0</td>\n",
       "      <td>0.0</td>\n",
       "      <td>212130.054</td>\n",
       "      <td>190659.25</td>\n",
       "      <td>0.154</td>\n",
       "      <td>1.707</td>\n",
       "      <td>4.962</td>\n",
       "      <td>20.475</td>\n",
       "    </tr>\n",
       "    <tr>\n",
       "      <th>11</th>\n",
       "      <td>TARG104</td>\n",
       "      <td>NN</td>\n",
       "      <td>STRAIGHT</td>\n",
       "      <td>0.9</td>\n",
       "      <td>10.0</td>\n",
       "      <td>0.0</td>\n",
       "      <td>212136.755</td>\n",
       "      <td>190631.54</td>\n",
       "      <td>0.154</td>\n",
       "      <td>1.707</td>\n",
       "      <td>-11.247</td>\n",
       "      <td>25.194</td>\n",
       "    </tr>\n",
       "    <tr>\n",
       "      <th>12</th>\n",
       "      <td>TARG103</td>\n",
       "      <td>NN</td>\n",
       "      <td>STRAIGHT</td>\n",
       "      <td>0.9</td>\n",
       "      <td>10.0</td>\n",
       "      <td>0.0</td>\n",
       "      <td>212139.639</td>\n",
       "      <td>190612.30</td>\n",
       "      <td>0.154</td>\n",
       "      <td>1.707</td>\n",
       "      <td>-18.223</td>\n",
       "      <td>28.472</td>\n",
       "    </tr>\n",
       "    <tr>\n",
       "      <th>13</th>\n",
       "      <td>TARG102</td>\n",
       "      <td>NN</td>\n",
       "      <td>STRAIGHT</td>\n",
       "      <td>0.9</td>\n",
       "      <td>10.0</td>\n",
       "      <td>0.0</td>\n",
       "      <td>212134.103</td>\n",
       "      <td>190555.71</td>\n",
       "      <td>0.154</td>\n",
       "      <td>1.707</td>\n",
       "      <td>-4.831</td>\n",
       "      <td>31.313</td>\n",
       "    </tr>\n",
       "    <tr>\n",
       "      <th>14</th>\n",
       "      <td>TARG116</td>\n",
       "      <td>NN</td>\n",
       "      <td>STRAIGHT</td>\n",
       "      <td>4.0</td>\n",
       "      <td>4.0</td>\n",
       "      <td>0.0</td>\n",
       "      <td>212136.121</td>\n",
       "      <td>190544.59</td>\n",
       "      <td>0.683</td>\n",
       "      <td>0.683</td>\n",
       "      <td>-9.713</td>\n",
       "      <td>33.208</td>\n",
       "    </tr>\n",
       "    <tr>\n",
       "      <th>15</th>\n",
       "      <td>TARG101</td>\n",
       "      <td>NN</td>\n",
       "      <td>STRAIGHT</td>\n",
       "      <td>0.9</td>\n",
       "      <td>10.0</td>\n",
       "      <td>0.0</td>\n",
       "      <td>212133.821</td>\n",
       "      <td>190534.28</td>\n",
       "      <td>0.154</td>\n",
       "      <td>1.707</td>\n",
       "      <td>-4.150</td>\n",
       "      <td>34.972</td>\n",
       "    </tr>\n",
       "  </tbody>\n",
       "</table>\n",
       "</div>"
      ],
      "text/plain": [
       "         ID NAME     SHAPE  WID   LEN  ROT       ALPHA      DELTA  WIDMM  \\\n",
       "0   TARG113   NN  STRAIGHT  4.0   4.0  0.0  212134.279  191220.25  0.683   \n",
       "1   TARG112   NN  STRAIGHT  4.0   4.0  0.0  212140.986  191141.81  0.683   \n",
       "2   TARG114   NN  STRAIGHT  4.0   4.0  0.0  212123.429  191104.21  0.683   \n",
       "3   TARG111   NN  STRAIGHT  0.9  10.0  0.0  212132.879  191002.48  0.154   \n",
       "4   TARG110   NN  STRAIGHT  0.9  10.0  0.0  212127.784  190908.67  0.154   \n",
       "5   TARG109   NN  STRAIGHT  0.9  10.0  0.0  212128.763  190845.78  0.154   \n",
       "6   TARG108   NN  STRAIGHT  0.9  10.0  0.0  212127.508  190828.88  0.154   \n",
       "7   TARG107   NN  STRAIGHT  0.9  10.0  0.0  212133.847  190811.86  0.154   \n",
       "8   TARG115   NN  STRAIGHT  4.0   4.0  0.0  212132.347  190735.58  0.683   \n",
       "9   TARG106   NN  STRAIGHT  0.9  10.0  0.0  212133.934  190720.87  0.154   \n",
       "10  TARG105   NN  STRAIGHT  0.9  10.0  0.0  212130.054  190659.25  0.154   \n",
       "11  TARG104   NN  STRAIGHT  0.9  10.0  0.0  212136.755  190631.54  0.154   \n",
       "12  TARG103   NN  STRAIGHT  0.9  10.0  0.0  212139.639  190612.30  0.154   \n",
       "13  TARG102   NN  STRAIGHT  0.9  10.0  0.0  212134.103  190555.71  0.154   \n",
       "14  TARG116   NN  STRAIGHT  4.0   4.0  0.0  212136.121  190544.59  0.683   \n",
       "15  TARG101   NN  STRAIGHT  0.9  10.0  0.0  212133.821  190534.28  0.154   \n",
       "\n",
       "    LENMM     XMM     YMM  \n",
       "0   0.683  -5.252 -34.315  \n",
       "1   0.683 -21.469 -27.768  \n",
       "2   0.683  20.979 -21.323  \n",
       "3   1.707  -1.870 -10.801  \n",
       "4   1.707  10.451  -1.610  \n",
       "5   1.707   8.085   2.297  \n",
       "6   1.707  11.119   5.182  \n",
       "7   1.707  -4.212   8.077  \n",
       "8   0.683  -0.582  14.272  \n",
       "9   1.707  -4.422  16.780  \n",
       "10  1.707   4.962  20.475  \n",
       "11  1.707 -11.247  25.194  \n",
       "12  1.707 -18.223  28.472  \n",
       "13  1.707  -4.831  31.313  \n",
       "14  0.683  -9.713  33.208  \n",
       "15  1.707  -4.150  34.972  "
      ]
     },
     "execution_count": 17,
     "metadata": {},
     "output_type": "execute_result"
    }
   ],
   "source": [
    "df = targets.to_pandas() # Convertion taking place.\n",
    "df # A look at your table in panda format for index number."
   ]
  },
  {
   "cell_type": "markdown",
   "id": "6b65a8c5-9482-4d1d-94d4-6895d2db927c",
   "metadata": {},
   "source": [
    "# The function for filtering stars of interest."
   ]
  },
  {
   "cell_type": "markdown",
   "id": "51cbe09d-0d47-4a3f-b156-5f4ec0926aa8",
   "metadata": {},
   "source": [
    "There isn't much to explain here; read the workflow or the function itself to grasp its functionalities."
   ]
  },
  {
   "cell_type": "code",
   "execution_count": 18,
   "id": "e8f7a99a-ea38-40f0-96ef-e005879edae0",
   "metadata": {},
   "outputs": [],
   "source": [
    "def select_targets(targets, trace):\n",
    "    \"\"\"\n",
    "    Function to select targets based on index, ID, or Name.\n",
    "\n",
    "    Parameters:\n",
    "    targets (pd.DataFrame or similar): The input DataFrame containing target data.\n",
    "    trace (object): The trace object containing model and rows attributes.\n",
    "\n",
    "    Returns:\n",
    "    tuple: The updated trace object and the subset of selected targets DataFrame.\n",
    "    \"\"\"\n",
    "    # Convert targets to a Pandas DataFrame if it isn't one already\n",
    "    if not isinstance(targets, pd.DataFrame):\n",
    "        data = targets.to_pandas()\n",
    "\n",
    "    # Display the options to the user\n",
    "    print(\"Select targets based on:\")\n",
    "    print(\"1. Index\")\n",
    "    print(\"2. ID\")\n",
    "    print(\"3. Name\")\n",
    "    choice = input(\"Enter the number corresponding to your choice: \")\n",
    "    #data = targets.to_pandas()\n",
    "    gd = []\n",
    "\n",
    "    if choice == '1':\n",
    "        print(\"You chose to select targets by index.\")\n",
    "        indices = input(\"Enter the indices (comma-separated): \")\n",
    "        gd = [int(idx.strip()) for idx in indices.split(',')]\n",
    "    \n",
    "    elif choice == '2':\n",
    "        print(\"You chose to select targets by ID.\")\n",
    "        ids = input(\"Enter the IDs (comma-separated): \")\n",
    "        ids = [id.strip().strip(\"'\\\"\") for id in ids.split(',')]\n",
    "        # Ensure IDs are strings and strip any extra spaces\n",
    "        data['ID'] = data['ID'].astype(str).str.strip()\n",
    "        # Find the matching indices\n",
    "        gd = data.index[data['ID'].isin(ids)].tolist()\n",
    "    \n",
    "    elif choice == '3':\n",
    "        print(\"You chose to select targets by Name.\")\n",
    "        names = input(\"Enter the Names (comma-separated): \")\n",
    "        names = [name.strip().strip(\"'\\\"\") for name in names.split(',')]\n",
    "        # Ensure names are stripped of extra spaces\n",
    "        data['NAME'] = data['NAME'].astype(str).str.strip()\n",
    "        # Find the matching indices\n",
    "        gd = data.index[data['NAME'].isin(names)].tolist()\n",
    "    \n",
    "    else:\n",
    "        print(\"Invalid choice. Defaulting to selection by Index.\")\n",
    "\n",
    "    if not gd:\n",
    "        print(\"No valid selections were made. Returning the full DataFrame.\")\n",
    "        return trace, targets\n",
    "\n",
    "    # Selecting the subset of targets based on the user's choice\n",
    "    gdtrace = copy.deepcopy(trace)\n",
    "    gdtrace.model = [trace.model[i] for i in gd]\n",
    "    gdtrace.rows = [trace.rows[i] for i in gd]\n",
    "    trace = copy.deepcopy(gdtrace)\n",
    "    selected_targets = targets[gd]\n",
    "\n",
    "    return trace, selected_targets"
   ]
  },
  {
   "cell_type": "markdown",
   "id": "f7733659-e342-4e17-a6f5-6ab72920e45c",
   "metadata": {},
   "source": [
    "**Proceed with selection.**"
   ]
  },
  {
   "cell_type": "code",
   "execution_count": 19,
   "id": "7c6785dd-c9ba-4f75-82b7-fc066fa69e79",
   "metadata": {},
   "outputs": [
    {
     "name": "stdout",
     "output_type": "stream",
     "text": [
      "Select targets based on:\n",
      "1. Index\n",
      "2. ID\n",
      "3. Name\n"
     ]
    },
    {
     "name": "stdin",
     "output_type": "stream",
     "text": [
      "Enter the number corresponding to your choice:  2\n"
     ]
    },
    {
     "name": "stdout",
     "output_type": "stream",
     "text": [
      "You chose to select targets by ID.\n"
     ]
    },
    {
     "name": "stdin",
     "output_type": "stream",
     "text": [
      "Enter the IDs (comma-separated):  TARG108,TARG107,TARG106,TARG104,TARG102\n"
     ]
    }
   ],
   "source": [
    "# Samples to use for trail run. \n",
    "# indexes: 6,7,9,11,13, \n",
    "# ID: TARG108,TARG107,TARG106,TARG104,TARG102\n",
    "trace, targets = select_targets(targets, trace0) "
   ]
  },
  {
   "cell_type": "code",
   "execution_count": 20,
   "id": "ce2cdb8d-8208-46d6-9301-e7065d648f70",
   "metadata": {},
   "outputs": [
    {
     "data": {
      "text/plain": [
       "{'type': 'Polynomial1D',\n",
       " 'degree': 2,\n",
       " 'sigdegree': 0,\n",
       " 'pix0': 0,\n",
       " 'spectrum': None,\n",
       " 'rad': 5,\n",
       " 'transpose': True,\n",
       " 'lags': range(-50, 50),\n",
       " 'model': [Polynomial([1089.05958351,    6.49312832,    5.26758998], domain=[  98., 3998.], window=[-1.,  1.], symbol='x'),\n",
       "  Polynomial([1154.49886865,    6.51239823,    6.81155863], domain=[  98., 3998.], window=[-1.,  1.], symbol='x'),\n",
       "  Polynomial([1352.12850914,    6.53479617,   11.59481407], domain=[  98., 3998.], window=[-1.,  1.], symbol='x'),\n",
       "  Polynomial([1542.12042917,    6.63076955,   16.0577897 ], domain=[  98., 3998.], window=[-1.,  1.], symbol='x'),\n",
       "  Polynomial([1680.82160588,    6.6160561 ,   19.38130477], domain=[  98., 3998.], window=[-1.,  1.], symbol='x')],\n",
       " 'sigmodel': None,\n",
       " 'sc0': None,\n",
       " 'rows': [[1089, 1128],\n",
       "  [1154, 1193],\n",
       "  [1352, 1391],\n",
       "  [1542, 1581],\n",
       "  [1681, 1720]]}"
      ]
     },
     "execution_count": 20,
     "metadata": {},
     "output_type": "execute_result"
    }
   ],
   "source": [
    "vars(trace) # filtered trace"
   ]
  },
  {
   "cell_type": "code",
   "execution_count": 21,
   "id": "e102d2a8-65f9-45f6-b1d1-20e028298169",
   "metadata": {},
   "outputs": [
    {
     "data": {
      "text/html": [
       "<div><i>Table length=5</i>\n",
       "<table id=\"table1282185748720\" class=\"table-striped table-bordered table-condensed\">\n",
       "<thead><tr><th>ID</th><th>NAME</th><th>SHAPE</th><th>WID</th><th>LEN</th><th>ROT</th><th>ALPHA</th><th>DELTA</th><th>WIDMM</th><th>LENMM</th><th>XMM</th><th>YMM</th></tr></thead>\n",
       "<thead><tr><th>str7</th><th>str2</th><th>str8</th><th>float64</th><th>float64</th><th>float64</th><th>float64</th><th>float64</th><th>float64</th><th>float64</th><th>float64</th><th>float64</th></tr></thead>\n",
       "<tr><td>TARG108</td><td>NN</td><td>STRAIGHT</td><td>0.9</td><td>10.0</td><td>0.0</td><td>212127.508</td><td>190828.88</td><td>0.154</td><td>1.707</td><td>11.119</td><td>5.182</td></tr>\n",
       "<tr><td>TARG107</td><td>NN</td><td>STRAIGHT</td><td>0.9</td><td>10.0</td><td>0.0</td><td>212133.847</td><td>190811.86</td><td>0.154</td><td>1.707</td><td>-4.212</td><td>8.077</td></tr>\n",
       "<tr><td>TARG106</td><td>NN</td><td>STRAIGHT</td><td>0.9</td><td>10.0</td><td>0.0</td><td>212133.934</td><td>190720.87</td><td>0.154</td><td>1.707</td><td>-4.422</td><td>16.78</td></tr>\n",
       "<tr><td>TARG104</td><td>NN</td><td>STRAIGHT</td><td>0.9</td><td>10.0</td><td>0.0</td><td>212136.755</td><td>190631.54</td><td>0.154</td><td>1.707</td><td>-11.247</td><td>25.194</td></tr>\n",
       "<tr><td>TARG102</td><td>NN</td><td>STRAIGHT</td><td>0.9</td><td>10.0</td><td>0.0</td><td>212134.103</td><td>190555.71</td><td>0.154</td><td>1.707</td><td>-4.831</td><td>31.313</td></tr>\n",
       "</table></div>"
      ],
      "text/plain": [
       "<Table length=5>\n",
       "   ID   NAME  SHAPE     WID     LEN     ROT     ALPHA      DELTA    WIDMM   LENMM    XMM     YMM  \n",
       "  str7  str2   str8   float64 float64 float64  float64    float64  float64 float64 float64 float64\n",
       "------- ---- -------- ------- ------- ------- ---------- --------- ------- ------- ------- -------\n",
       "TARG108   NN STRAIGHT     0.9    10.0     0.0 212127.508 190828.88   0.154   1.707  11.119   5.182\n",
       "TARG107   NN STRAIGHT     0.9    10.0     0.0 212133.847 190811.86   0.154   1.707  -4.212   8.077\n",
       "TARG106   NN STRAIGHT     0.9    10.0     0.0 212133.934 190720.87   0.154   1.707  -4.422   16.78\n",
       "TARG104   NN STRAIGHT     0.9    10.0     0.0 212136.755 190631.54   0.154   1.707 -11.247  25.194\n",
       "TARG102   NN STRAIGHT     0.9    10.0     0.0 212134.103 190555.71   0.154   1.707  -4.831  31.313"
      ]
     },
     "execution_count": 21,
     "metadata": {},
     "output_type": "execute_result"
    }
   ],
   "source": [
    "targets #filtered targets"
   ]
  },
  {
   "cell_type": "markdown",
   "id": "03bfa3f7-1252-4622-931e-0dc9a26232c1",
   "metadata": {},
   "source": [
    "# Wavelength calibration"
   ]
  },
  {
   "cell_type": "markdown",
   "id": "dbda61d1",
   "metadata": {},
   "source": [
    "Using the derived traces, extract the slitlets for arcs"
   ]
  },
  {
   "cell_type": "code",
   "execution_count": 22,
   "id": "16514662",
   "metadata": {},
   "outputs": [
    {
     "name": "stdout",
     "output_type": "stream",
     "text": [
      "extracting: \n",
      " 1089-1128\n",
      " 1154-1193\n",
      " 1352-1391\n",
      " 1542-1581\n",
      " 1681-1720\n",
      "  See extraction window(s). Hit space bar to continue....\n"
     ]
    }
   ],
   "source": [
    "arcec=trace.extract2d(arcs,display=t)"
   ]
  },
  {
   "cell_type": "markdown",
   "id": "ff19c690",
   "metadata": {},
   "source": [
    "Add XMM and YMM for each slit to headers of each extracted image. They need to match so you get the right values!"
   ]
  },
  {
   "cell_type": "code",
   "execution_count": 23,
   "id": "bafacad3-ca2c-480e-af41-46147a01510a",
   "metadata": {},
   "outputs": [],
   "source": [
    "for arc,target in zip(arcec,targets) : \n",
    "    arc.header['XMM'] = target['XMM']\n",
    "    arc.header['YMM'] = target['YMM']"
   ]
  },
  {
   "cell_type": "markdown",
   "id": "cd8974bc",
   "metadata": {},
   "source": [
    "Now loop through each extracted arc to do wavelength calibration. This requires a little effort because the change in the location of the slit relative to the default saved wavelength calibration is significant enough that it can be a challenge to automatically find the lines, since the change in spectrum is more than a simple shift (and, in fact, more than a shift + dispersion change). \n",
    "\n",
    "However, a simple shift is usually enough to identify some of the lines, and these can be used to bootstrap the wavelength solution; the initial identification is easier if you use an estimate of the shift from the mask design XMM.\n",
    "\n",
    "You can use identify() to do the iteration. On the first pass, only central lines may be correctly identified. Use 'l' and 'r' to remove lines to the left and right of the identified lines. Then use 'i' to iterate, i.e., allow it to re-identify lines (i just returns True to allow you to iterate). When happy with solution, use ' ' to move onto the final 2D wavelength calibration.\n",
    "\n",
    "You can really help this process if you supply an initial wavelength calibration (a pyvista WaveCal object) that was done using the same lamp(s) as your arc exposures (here, using KOSMOS_red_waves.fits'), and using a master line list that corresponds to these lamp(s) (here, using ne.dat). If you choose another WaveCal to start from, you may need to get a correct approximate relation for the shift from the reference spectrum as a function of XMM. For KOSMOS, seems like -22.5(XMM) gives a rough pixel shift from a center slit location, -22.5(XMM-24.44) for a low slit location.\n",
    "\n",
    "The next cell just shows how the simple shift fails, even using the XMM for each slit to shift: all of the arc lines don't match up with just a translation."
   ]
  },
  {
   "cell_type": "code",
   "execution_count": 24,
   "id": "cb8b67cd-8a00-4bfc-a636-3ddf36b2c823",
   "metadata": {},
   "outputs": [
    {
     "name": "stdout",
     "output_type": "stream",
     "text": [
      "  rms:    0.177 Angstroms (50 lines)\n",
      "-250.1775\n"
     ]
    }
   ],
   "source": [
    "plt.figure()\n",
    "wav2=spectra.WaveCal('KOSMOS/KOSMOS_red_waves.fits')\n",
    "plt.plot(wav2.spectrum[0])\n",
    "for i, arc in enumerate(arcec[0:1]) :\n",
    "    shift=(arc.header['XMM']*-22.5)\n",
    "    plt.plot(arc.data[19][int(shift):]*30)\n",
    "    print(shift)\n",
    "    plt.draw()"
   ]
  },
  {
   "cell_type": "markdown",
   "id": "d3b527ce-55df-4246-8e35-f6b4ec06ee48",
   "metadata": {},
   "source": [
    "The wavelength calibration for each slitlet will be saved. Since this is probably the most time-consuming part, you could use saved one if you only want to redo a couple of them (sometimes, you hit the wrong key and want to do one over!)"
   ]
  },
  {
   "cell_type": "code",
   "execution_count": 25,
   "id": "5d985385",
   "metadata": {
    "scrolled": true
   },
   "outputs": [],
   "source": [
    "clobber=False  # set to False if you want to use any saved ones\n",
    "for i,(arc,targ) in enumerate(zip(arcec,targets)) :\n",
    "    wavname = 'CofIwav_{:s}.fits'.format(targ['ID'])\n",
    "    if clobber or not os.path.exists(wavname) :\n",
    "        wav=spectra.WaveCal('KOSMOS/KOSMOS_red_waves.fits')\n",
    "        wav.fit(degree=3)\n",
    "        nrow=arc.shape[0]\n",
    "    \n",
    "        # get initial guess at shift from reference using XMM (KOSMOD red low!)\n",
    "        shift=int(arc.header['XMM']*-22.5) # +550  #-wav.pix0)\n",
    "        lags=np.arange(shift-20,shift+20)\n",
    "\n",
    "        iter = True\n",
    "        while iter :\n",
    "            iter = wav.identify(arc[nrow//2],plot=True,plotinter=True,\n",
    "                                lags=lags,thresh=10,\n",
    "                                file='new_wave_lamp/copy_new_neon_red_center.dat')\n",
    "            lags=np.arange(-50,50)\n",
    "            plt.close()\n",
    "\n",
    "        bd= np.where(wav.weights<0.5)[0]\n",
    "        print(wav.waves[bd])\n",
    "        # Do the 2D wavelength solution, sampling 10 locations across slitlet\n",
    "        wav.degree=5\n",
    "        wav.identify(arc,plot=True,nskip=nrow//10,thresh=10)\n",
    "        plt.close()\n",
    "        wav.write(wavname)\n",
    "        wav.add_wave(arc)\n",
    "        t.tv(wav.correct(arc,arc.wave[nrow//2]))"
   ]
  },
  {
   "cell_type": "markdown",
   "id": "16a024a6",
   "metadata": {},
   "source": [
    "Now set up routine to reduct/extract science frames"
   ]
  },
  {
   "cell_type": "markdown",
   "id": "4d1c382a-d210-4a95-8af7-619fa0705ed3",
   "metadata": {},
   "source": [
    "# Science image reduction"
   ]
  },
  {
   "cell_type": "markdown",
   "id": "61464595-57a9-45b4-b9c9-b6ecca4779d0",
   "metadata": {},
   "source": [
    "Science reduction with all calibration images applied."
   ]
  },
  {
   "cell_type": "code",
   "execution_count": 26,
   "id": "5ab07695-f8a0-4d3c-9ee0-762a6ac2ddfe",
   "metadata": {
    "scrolled": true
   },
   "outputs": [
    {
     "name": "stdout",
     "output_type": "stream",
     "text": [
      "  Reading file: UT230909\\SEG3G2.0020.fits\n",
      "  subtracting overscan vector \n",
      "  subtracting overscan vector \n",
      "  See bias box (solid outlines applied to dashed regions of the same color), and cross section. \n",
      "   To continue, hit space in display window (p for debug) \n",
      "  subtracting bias...\n",
      "  subtracting dark...\n",
      "  starting CR rejection, may take some time ....\n",
      "  zapping CRs with astroscrappy detect_cosmics\n",
      "  See CRs and CR-zapped image and original using - key\n",
      "   To continue, hit space in display window (p for debug) \n",
      "  flat fielding...\n"
     ]
    },
    {
     "name": "stderr",
     "output_type": "stream",
     "text": [
      "C:\\Users\\abdul\\AppData\\Local\\Programs\\Python\\Python312\\Lib\\site-packages\\pyvista\\imred.py:808: RuntimeWarning: divide by zero encountered in divide\n",
      "  corr.data /= flat.data\n",
      "C:\\Users\\abdul\\AppData\\Local\\Programs\\Python\\Python312\\Lib\\site-packages\\pyvista\\imred.py:808: RuntimeWarning: invalid value encountered in divide\n",
      "  corr.data /= flat.data\n",
      "C:\\Users\\abdul\\AppData\\Local\\Programs\\Python\\Python312\\Lib\\site-packages\\pyvista\\imred.py:809: RuntimeWarning: divide by zero encountered in divide\n",
      "  corr.uncertainty.array /= flat.data\n"
     ]
    },
    {
     "name": "stdout",
     "output_type": "stream",
     "text": [
      "  See flat-fielded image and original with - (minus) key.\n",
      "   To continue, hit space in display window (p for debug) \n",
      "INFO: array provided for uncertainty; assuming it is a StdDevUncertainty. [astropy.nddata.ccddata]\n"
     ]
    }
   ],
   "source": [
    "star1=red.reduce(20, crbox='lacosmic', bias=bias, flat=flat, dark=dark, display=t)"
   ]
  },
  {
   "cell_type": "markdown",
   "id": "606b1757-ffea-46ae-b79a-ee6f9446cf35",
   "metadata": {},
   "source": [
    "Basic reduction with only cosmic ray ejection is applied."
   ]
  },
  {
   "cell_type": "code",
   "execution_count": 27,
   "id": "0e1dc829-b90d-409f-8eb8-f19d2c55dd11",
   "metadata": {},
   "outputs": [
    {
     "name": "stdout",
     "output_type": "stream",
     "text": [
      "  Reading file: UT230909\\SEG3G2.0020.fits\n",
      "  subtracting overscan vector \n",
      "  subtracting overscan vector \n",
      "  See bias box (solid outlines applied to dashed regions of the same color), and cross section. \n",
      "   To continue, hit space in display window (p for debug) \n",
      "  starting CR rejection, may take some time ....\n",
      "  zapping CRs with astroscrappy detect_cosmics\n",
      "  See CRs and CR-zapped image and original using - key\n",
      "   To continue, hit space in display window (p for debug) \n",
      "INFO: array provided for uncertainty; assuming it is a StdDevUncertainty. [astropy.nddata.ccddata]\n"
     ]
    }
   ],
   "source": [
    "# basic image reduction with cosmic rays\n",
    "imcr=red.reduce(20,crbox='lacosmic',crsig=10,display=t)"
   ]
  },
  {
   "cell_type": "markdown",
   "id": "1a92d4e2-d208-457b-9bcb-ce3d61aaa3f2",
   "metadata": {},
   "source": [
    "# Extraction"
   ]
  },
  {
   "cell_type": "markdown",
   "id": "f6c23ba6-19a0-46b4-8bd3-aa86d347d947",
   "metadata": {},
   "source": [
    "## 2D Extraction"
   ]
  },
  {
   "cell_type": "markdown",
   "id": "1db06809-6e8e-4773-b6af-168afb5ea4c2",
   "metadata": {},
   "source": [
    "2D extraction function. To understand what the function does, you can read through the workflow or the function itself.\n",
    "If the user just wants to extract, run the function and follow the cell prompt instructions."
   ]
  },
  {
   "cell_type": "code",
   "execution_count": 28,
   "id": "d94f7735",
   "metadata": {},
   "outputs": [],
   "source": [
    "import matplotlib.pyplot as plt\n",
    "\n",
    "def multi_extract2d(red, trace, targets, imcr, thresh=10, display=None, rad=5):\n",
    "    # Helper function to process each slitlet, with optional wavelength adjustment\n",
    "    def process_slitlet(o, targ, adjust_wavelength, display, rad):\n",
    "        wav = spectra.WaveCal(f'./CofIwav_{targ[\"ID\"]}.fits')\n",
    "        orig = wav.model.c0_0\n",
    "        \n",
    "        wav.add_wave(o)  # Apply the wavelength model to the extracted slitlet\n",
    "        \n",
    "        if adjust_wavelength:\n",
    "            # Perform skyline-based wavelength correction if adjustment is selected\n",
    "            nrows = o.shape[0]\n",
    "            rows = [x for x in range(nrows) if abs(x - nrows // 2) > rad]\n",
    "            wav.skyline(o, thresh=thresh, rows=rows, plot=plot_enabled(display))\n",
    "            wav.add_wave(o)  # Re-apply the wavelength model after correction\n",
    "\n",
    "            if display:\n",
    "                display.tv(o)  # Display the corrected 2D spectrum\n",
    "\n",
    "            o = wav.correct(o, o.wave[nrows // 2])  # Correct wavelength using the central row\n",
    "\n",
    "            if display:\n",
    "                display.tv(o)  # Display the final corrected spectrum\n",
    "\n",
    "            name = o.header[\"FILE\"].split(\".\")[0]\n",
    "            o.write(f'{name}_{targ[\"ID\"]}_2d.fits')\n",
    "            return wav.model.c0_0 - orig  # Return wavelength shift after correction\n",
    "        else:\n",
    "            # No wavelength adjustment, just correct and save the output\n",
    "            nrows = o.shape[0]\n",
    "            o = wav.correct(o, o.wave[nrows // 2])\n",
    "            name = o.header[\"FILE\"].split(\".\")[0]\n",
    "            o.write(f'{name}_{targ[\"ID\"]}_not_adjusted_2d.fits')\n",
    "            plt.figure() \n",
    "            # Plot the center row of the slitlet\n",
    "            plt.plot(o.wave[19], o.data[19], label=f'Approximated look for spec {i} with sky')\n",
    "            plt.title('A possible extraction visualization ')\n",
    "            plt.legend(loc = 'upper right')\n",
    "            return None\n",
    "\n",
    "    # Helper function to check if plotting is enabled\n",
    "    def plot_enabled(display):\n",
    "        if display is not None:\n",
    "            display.clear()  # Clear display if provided\n",
    "            return True  # Enable plotting\n",
    "        return False\n",
    "\n",
    "    # Perform 2D extraction\n",
    "    out = trace.extract2d(imcr, display=display)\n",
    "\n",
    "    # Ask the user if they want to perform wavelength adjustment\n",
    "    print(\"Select a choice of wavelength adjustment:\")\n",
    "    print('1. 2D wavelength adjustment.')\n",
    "    print('2. No 2D wavelength adjustment.')\n",
    "    choice = input('Enter the number corresponding to your choice: ')\n",
    "    \n",
    "    adjust_wavelength = choice == '1'\n",
    "    diffs = []\n",
    "\n",
    "    # Loop over each slitlet and process it\n",
    "    for i, (o, targ) in enumerate(zip(out, targets)):\n",
    "        diff = process_slitlet(o, targ, adjust_wavelength, display, rad)\n",
    "        if diff is not None:\n",
    "            diffs.append(diff)\n",
    "\n",
    "    if adjust_wavelength:\n",
    "        # Print the wavelength shifts after adjustment\n",
    "        print('Wavelength shifts:', diffs)\n",
    "    \n",
    "    return out  # Return the processed 2D spectra"
   ]
  },
  {
   "cell_type": "markdown",
   "id": "03bc0d6a-c599-45bd-9426-45ff22e1f2be",
   "metadata": {},
   "source": [
    "Run the cell below to 2D extract."
   ]
  },
  {
   "cell_type": "code",
   "execution_count": 29,
   "id": "f200a270-01b6-4430-b0ff-141c6df20e98",
   "metadata": {
    "scrolled": true
   },
   "outputs": [
    {
     "name": "stdout",
     "output_type": "stream",
     "text": [
      "extracting: \n",
      " 1089-1128\n",
      " 1154-1193\n",
      " 1352-1391\n",
      " 1542-1581\n",
      " 1681-1720\n",
      "  See extraction window(s). Hit space bar to continue....\n",
      "Select a choice of wavelength adjustment:\n",
      "1. 2D wavelength adjustment.\n",
      "2. No 2D wavelength adjustment.\n"
     ]
    },
    {
     "name": "stdin",
     "output_type": "stream",
     "text": [
      "Enter the number corresponding to your choice:  1\n"
     ]
    },
    {
     "name": "stdout",
     "output_type": "stream",
     "text": [
      "  rms:    0.052\n",
      "rejecting 13 points from 494 total: \n",
      "  rms:    0.052\n",
      "rejecting 13 points from 494 total: \n",
      "  See identified lines.\n",
      "  rms:    0.109\n",
      "rejecting 2 points from 188 total: \n",
      "  rms:    0.103\n",
      "rejecting 2 points from 188 total: \n",
      "  See 2D wavecal fit. Enter space in plot window to continue\n",
      "\n",
      "appending uncertainty\n",
      "appending bitmask\n",
      "appending wave\n",
      "  rms:    0.054\n",
      "rejecting 14 points from 490 total: \n",
      "  rms:    0.054\n",
      "rejecting 14 points from 490 total: \n",
      "  See identified lines.\n",
      "  rms:    0.085\n",
      "rejecting 0 points from 159 total: \n",
      "  See 2D wavecal fit. Enter space in plot window to continue\n",
      "\n",
      "appending uncertainty\n",
      "appending bitmask\n",
      "appending wave\n",
      "  rms:    0.041\n",
      "rejecting 13 points from 493 total: \n",
      "  rms:    0.041\n",
      "rejecting 13 points from 493 total: \n",
      "  See identified lines.\n",
      "  rms:    0.091\n",
      "rejecting 3 points from 158 total: \n",
      "  rms:    0.077\n",
      "rejecting 3 points from 158 total: \n",
      "  See 2D wavecal fit. Enter space in plot window to continue\n",
      "\n",
      "appending uncertainty\n",
      "appending bitmask\n",
      "appending wave\n",
      "  rms:    0.036\n",
      "rejecting 12 points from 491 total: \n",
      "  rms:    0.036\n",
      "rejecting 12 points from 491 total: \n",
      "  See identified lines.\n",
      "  rms:    0.092\n",
      "rejecting 0 points from 161 total: \n",
      "  See 2D wavecal fit. Enter space in plot window to continue\n",
      "\n",
      "appending uncertainty\n",
      "appending bitmask\n",
      "appending wave\n",
      "  rms:    0.040\n",
      "rejecting 12 points from 493 total: \n",
      "  rms:    0.037\n",
      "rejecting 13 points from 493 total: \n",
      "  rms:    0.036\n",
      "rejecting 13 points from 493 total: \n"
     ]
    },
    {
     "name": "stderr",
     "output_type": "stream",
     "text": [
      "C:\\Users\\abdul\\AppData\\Local\\Programs\\Python\\Python312\\Lib\\site-packages\\pyvista\\spectra.py:708: OptimizeWarning: Covariance of the parameters could not be estimated\n",
      "  coeff, var_matrix = curve_fit(gauss, xx, yy, p0=p0)\n"
     ]
    },
    {
     "name": "stdout",
     "output_type": "stream",
     "text": [
      "  See identified lines.\n",
      "  rms:   23.285\n",
      "rejecting 1 points from 191 total: \n",
      "  rms:    0.448\n",
      "rejecting 1 points from 191 total: \n",
      "  See 2D wavecal fit. Enter space in plot window to continue\n",
      "\n",
      "appending uncertainty\n",
      "appending bitmask\n",
      "appending wave\n",
      "Wavelength shifts: [-0.07989621963133686, -0.04463752593346726, -0.057007243753105286, -0.07231412741930399, -0.052267084198319935]\n"
     ]
    }
   ],
   "source": [
    "out=multi_extract2d(red,trace,targets,imcr,display=t)"
   ]
  },
  {
   "cell_type": "markdown",
   "id": "8f3a69df-2a21-4b7a-ad32-d37763095f42",
   "metadata": {},
   "source": [
    "## 1D Extraction"
   ]
  },
  {
   "cell_type": "markdown",
   "id": "265457a8",
   "metadata": {},
   "source": [
    "Like 2D extraction, 1D extraction has much happening in it. You should read the workflow to understand it. But if the user wishes just to extract, then run the cell and follow the prompt and instructions.  "
   ]
  },
  {
   "cell_type": "code",
   "execution_count": 31,
   "id": "2e09cdd3-4ef3-427f-ae74-c147201a07f5",
   "metadata": {},
   "outputs": [],
   "source": [
    "# Main function for extracting 1D spectra from 2D data with optional sky adjustment and calibration\n",
    "def multi_extract1d(spec2d, thresh_sky=12, linear=True, sky_cal=False, display=t,\n",
    "                    skip= 10, degree=3, sigdegree=3, thresh=10,back_percentile=10,method='linear', \n",
    "                    file='pyvista/python/pyvista/data/sky/skyline.dat',plot=True):\n",
    "    \n",
    "    # Nested function to define a simple linear model for peak fitting\n",
    "    def model(x, peak_value=0):\n",
    "        return x * 0. + peak_value  # Returns a constant model function with the given peak_value\n",
    "    \n",
    "    # Function to handle the spectrum extraction, prompting the user for input\n",
    "    def extract_spectrum(trace, spec2d_slice, i, rad_default=5):\n",
    "        satisfied = False  # A flag to control user satisfaction with the extraction result\n",
    "        while not satisfied:\n",
    "            # Ask the user for the extraction radius, with a default value\n",
    "            rad = int(input(f\"Enter the radius for extraction for slit {i} (current default is {rad_default}): \"))\n",
    "            sky_width = rad - 5  # Compute the sky region width for background subtraction\n",
    "            # Perform the spectrum extraction based on the radius and sky width\n",
    "            spec = trace.extract(spec2d_slice, rad=rad, back=[[-10 + (-1 * sky_width), -rad], [10 + sky_width, rad]], display=display)\n",
    "            # Ask the user if they are satisfied with the result\n",
    "            user_response = input(\"Are you satisfied with the results? Enter 'y' for yes, anything else for no: \").strip().lower()\n",
    "            if user_response == 'y':  # If user is satisfied, exit the loop\n",
    "                satisfied = True\n",
    "        return spec, rad  # Return the extracted spectrum\n",
    "\n",
    "    # Function to process the extracted spectrum by saving it and plotting the data and sky\n",
    "    def process_spectrum(spec, spec2d_slice, peak, i, prefix, rad):\n",
    "        spec.wave = spec2d_slice.wave[peak]  # Assign the wavelength solution to the spectrum\n",
    "        # Save the processed spectrum to a file, formatting the filename\n",
    "        spec.write(f\"{prefix}_adjust_rad_{rad}_{i:04d}.fits\", overwrite=True)\n",
    "        print(spec.wave[0].shape, spec.data[0].shape)  # Print the shape of the spectrum and wavelength arrays\n",
    "        # Plot the spectrum and its sky background\n",
    "        plt.figure()\n",
    "        plt.subplot(2, 1, 1)\n",
    "        plt.plot(spec.wave[0], spec.data[0], label=f'spec {i}')  # Plot the spectrum data\n",
    "        plt.title('1D extracted spectrum')\n",
    "        plt.legend(loc=\"upper right\")\n",
    "        plt.subplot(2, 1, 2)\n",
    "        plt.plot(spec.wave[0], spec.sky[0], label=f'sky_spec {i}')  # Plot the sky background\n",
    "        plt.title('1D sky spectrum')\n",
    "        plt.legend(loc=\"upper right\")\n",
    "        plt.tight_layout()  # Adjust the plot layout to prevent overlapping elements\n",
    "        return spec  # Return the processed spectrum\n",
    "\n",
    "    # Function to find the peak and handle the spectrum extraction and processing\n",
    "    def handle_peaks(trace, spec2d_slice, i, prefix, skip=skip):\n",
    "        center = spec2d_slice.shape[0] // 2 # Setting width value.\n",
    "        # Find the peak in the 2D spectrum using a threshold and width for peak detection\n",
    "        peak, ind = trace.findpeak(spec2d_slice, thresh=thresh, width=center, sort=True, \n",
    "                                   back_percentile=back_percentile,method=method)\n",
    "        if len(peak) > 0:  # If a peak is found\n",
    "            srow = [peak[0]]  # Define the starting row based on the peak\n",
    "            # Trace the spectrum along the identified peak\n",
    "            trace.trace(spec2d_slice, srow, skip=skip, gaussian=True, display=display, rad=5)\n",
    "            # Set the trace model using the peak position\n",
    "            trace.model = [lambda x: model(x, peak_value=peak[0])]\n",
    "            # Extract and process the spectrum\n",
    "            spec, rad = extract_spectrum(trace, spec2d_slice, i)\n",
    "            return process_spectrum(spec,spec2d_slice, peak, i, prefix,rad)\n",
    "        else:\n",
    "            print(f'No peak found for slit: {i}')  # If no peak is found, print a message\n",
    "            return None  # Return None if no spectrum is extracted\n",
    "\n",
    "    # Main function to adjust the spectrum, handling either 1D or 2D extraction based on user input\n",
    "    def adjust_spectrum(spec2d, sky_check=False, degree=degree, sigdegree=sigdegree):\n",
    "        spec1d = []  # Initialize an empty list to store the 1D spectra\n",
    "        # Iterate through each 2D spectrum slice in the input data\n",
    "        for i, spec2d_slice in enumerate(spec2d):\n",
    "            # Initialize the trace object with default parameters for peak tracing\n",
    "            trace1 = spectra.Trace(transpose=False, lags=range(-39, 39), sc0=None, degree=degree, sigdegree=sigdegree)\n",
    "            trace1.rows = [0, spec2d_slice.data.shape[0]]  # Set the rows for tracing\n",
    "            trace1.index = [0]  # Set the index for tracing\n",
    "            # Define the filename prefix based on the user choice (1D or 2D)\n",
    "            prefix = 'spec_2d' if choice == '1' else 'spec_1d'\n",
    "\n",
    "            # Handle the peak finding, spectrum extraction, and processing\n",
    "            spectrum = handle_peaks(trace1, spec2d_slice, i, prefix, skip)\n",
    "            if spectrum:  # If the spectrum is successfully extracted\n",
    "                if choice == '2' and sky_cal:  # If sky calibration is selected by the user\n",
    "                    wav = spectra.WaveCal(f'./CofIwav_{targ[\"ID\"]}.fits')  # Load the wavelength calibration file\n",
    "                    swav = copy.deepcopy(wav)  # Create a deep copy of the wavelength calibration\n",
    "                    # Perform sky line calibration on the spectrum\n",
    "                    swav.skyline(spectrum, thresh=thresh_sky, linear=linear, plot=plot, rows=None, file=file)\n",
    "                spec1d.append(spectrum)  # Add the processed spectrum to the list\n",
    "        return spec1d  # Return the list of 1D spectra\n",
    "\n",
    "    # Prompt the user for a choice between 1D and 2D adjustment\n",
    "    print('If you did 2D adjustment select 1 else select 2:')\n",
    "    print('1. No sky adjustment.')\n",
    "    print('2. Sky adjustment.')\n",
    "    choice = input('Enter the number corresponding to your choice: ')  # Get the user's choice as input\n",
    "\n",
    "    # Adjust the spectrum based on the user's input and return the results\n",
    "    return adjust_spectrum(spec2d, sky_cal)"
   ]
  },
  {
   "cell_type": "markdown",
   "id": "f1502257-2495-4c0c-a373-0dd5daef6509",
   "metadata": {},
   "source": [
    "Run the cell bellow to conduct 1D extraction."
   ]
  },
  {
   "cell_type": "code",
   "execution_count": 32,
   "id": "7af0ca7d-524f-4895-bc9e-32736384c949",
   "metadata": {
    "scrolled": true
   },
   "outputs": [
    {
     "name": "stdout",
     "output_type": "stream",
     "text": [
      "If you did 2D adjustment select 1 else select 2:\n",
      "1. No sky adjustment.\n",
      "2. Sky adjustment.\n"
     ]
    },
    {
     "name": "stdin",
     "output_type": "stream",
     "text": [
      "Enter the number corresponding to your choice:  1\n"
     ]
    },
    {
     "name": "stdout",
     "output_type": "stream",
     "text": [
      "looking for peaks using 38 pixels around 2048, threshhold of 10.000000\n",
      "peaks:  [20]\n",
      "aperture/fiber:  [0]\n",
      "  Tracing row: 20\r"
     ]
    },
    {
     "name": "stderr",
     "output_type": "stream",
     "text": [
      "C:\\Users\\abdul\\AppData\\Local\\Programs\\Python\\Python312\\Lib\\site-packages\\pyvista\\spectra.py:1224: RuntimeWarning: invalid value encountered in divide\n",
      "  gd = np.where((~ymask) & (ysum/np.sqrt(yvar)>thresh) )[0]\n",
      "C:\\Users\\abdul\\AppData\\Local\\Programs\\Python\\Python312\\Lib\\site-packages\\pyvista\\spectra.py:1229: RuntimeWarning: invalid value encountered in divide\n",
      "  gd = np.where((~ymask) & (ysum/np.sqrt(yvar)>thresh) & (np.abs(res)<rad))[0]\n"
     ]
    },
    {
     "name": "stdout",
     "output_type": "stream",
     "text": [
      "\n",
      "  See trace. Hit space bar to continue....\n"
     ]
    },
    {
     "name": "stdin",
     "output_type": "stream",
     "text": [
      "Enter the radius for extraction for slit 0 (current default is 5):  4\n"
     ]
    },
    {
     "name": "stdout",
     "output_type": "stream",
     "text": [
      "  extracting ... \n",
      "  See extraction window(s). Hit space bar to continue....\n",
      "\n"
     ]
    },
    {
     "name": "stdin",
     "output_type": "stream",
     "text": [
      "Are you satisfied with the results? Enter 'y' for yes, anything else for no:  y\n"
     ]
    },
    {
     "name": "stdout",
     "output_type": "stream",
     "text": [
      "appending uncertainty\n",
      "appending bitmask\n",
      "appending wave\n",
      "appending sky\n",
      "appending skyerr\n",
      "(4096,) (4096,)\n",
      "looking for peaks using 38 pixels around 2048, threshhold of 10.000000\n",
      "peaks:  [18]\n",
      "aperture/fiber:  [0]\n",
      "  Tracing row: 18\n",
      "  See trace. Hit space bar to continue....\n"
     ]
    },
    {
     "name": "stdin",
     "output_type": "stream",
     "text": [
      "Enter the radius for extraction for slit 1 (current default is 5):  4\n"
     ]
    },
    {
     "name": "stdout",
     "output_type": "stream",
     "text": [
      "  extracting ... \n",
      "  See extraction window(s). Hit space bar to continue....\n",
      "\n"
     ]
    },
    {
     "name": "stdin",
     "output_type": "stream",
     "text": [
      "Are you satisfied with the results? Enter 'y' for yes, anything else for no:  3\n",
      "Enter the radius for extraction for slit 1 (current default is 5):  3\n"
     ]
    },
    {
     "name": "stdout",
     "output_type": "stream",
     "text": [
      "  extracting ... \n",
      "  See extraction window(s). Hit space bar to continue....\n",
      "\n"
     ]
    },
    {
     "name": "stdin",
     "output_type": "stream",
     "text": [
      "Are you satisfied with the results? Enter 'y' for yes, anything else for no:  y\n"
     ]
    },
    {
     "name": "stdout",
     "output_type": "stream",
     "text": [
      "appending uncertainty\n",
      "appending bitmask\n",
      "appending wave\n",
      "appending sky\n",
      "appending skyerr\n",
      "(4096,) (4096,)\n",
      "looking for peaks using 38 pixels around 2048, threshhold of 10.000000\n",
      "peaks:  [19]\n",
      "aperture/fiber:  [0]\n",
      "  Tracing row: 19\n",
      "  See trace. Hit space bar to continue....\n"
     ]
    },
    {
     "name": "stdin",
     "output_type": "stream",
     "text": [
      "Enter the radius for extraction for slit 2 (current default is 5):  4\n"
     ]
    },
    {
     "name": "stdout",
     "output_type": "stream",
     "text": [
      "  extracting ... \n",
      "  See extraction window(s). Hit space bar to continue....\n",
      "\n"
     ]
    },
    {
     "name": "stdin",
     "output_type": "stream",
     "text": [
      "Are you satisfied with the results? Enter 'y' for yes, anything else for no:  y\n"
     ]
    },
    {
     "name": "stdout",
     "output_type": "stream",
     "text": [
      "appending uncertainty\n",
      "appending bitmask\n",
      "appending wave\n",
      "appending sky\n",
      "appending skyerr\n",
      "(4096,) (4096,)\n",
      "looking for peaks using 38 pixels around 2048, threshhold of 10.000000\n",
      "peaks:  [21, 5]\n",
      "aperture/fiber:  [1, 0]\n",
      "  Tracing row: 21\n",
      "  See trace. Hit space bar to continue....\n"
     ]
    },
    {
     "name": "stdin",
     "output_type": "stream",
     "text": [
      "Enter the radius for extraction for slit 3 (current default is 5):  4\n"
     ]
    },
    {
     "name": "stdout",
     "output_type": "stream",
     "text": [
      "  extracting ... \n",
      "  See extraction window(s). Hit space bar to continue....\n",
      "\n"
     ]
    },
    {
     "name": "stdin",
     "output_type": "stream",
     "text": [
      "Are you satisfied with the results? Enter 'y' for yes, anything else for no:  3\n",
      "Enter the radius for extraction for slit 3 (current default is 5):  3\n"
     ]
    },
    {
     "name": "stdout",
     "output_type": "stream",
     "text": [
      "  extracting ... \n",
      "  See extraction window(s). Hit space bar to continue....\n",
      "\n"
     ]
    },
    {
     "name": "stdin",
     "output_type": "stream",
     "text": [
      "Are you satisfied with the results? Enter 'y' for yes, anything else for no:  y\n"
     ]
    },
    {
     "name": "stdout",
     "output_type": "stream",
     "text": [
      "appending uncertainty\n",
      "appending bitmask\n",
      "appending wave\n",
      "appending sky\n",
      "appending skyerr\n",
      "(4096,) (4096,)\n",
      "looking for peaks using 38 pixels around 2048, threshhold of 10.000000\n",
      "peaks:  [16, 29, 35]\n",
      "aperture/fiber:  [0, 1, 2]\n",
      "  Tracing row: 16\n",
      "  See trace. Hit space bar to continue....\n"
     ]
    },
    {
     "name": "stdin",
     "output_type": "stream",
     "text": [
      "Enter the radius for extraction for slit 4 (current default is 5):  4\n"
     ]
    },
    {
     "name": "stdout",
     "output_type": "stream",
     "text": [
      "  extracting ... \n",
      "  See extraction window(s). Hit space bar to continue....\n",
      "\n"
     ]
    },
    {
     "name": "stdin",
     "output_type": "stream",
     "text": [
      "Are you satisfied with the results? Enter 'y' for yes, anything else for no:  y\n"
     ]
    },
    {
     "name": "stdout",
     "output_type": "stream",
     "text": [
      "appending uncertainty\n",
      "appending bitmask\n",
      "appending wave\n",
      "appending sky\n",
      "appending skyerr\n",
      "(4096,) (4096,)\n"
     ]
    }
   ],
   "source": [
    "spec1d = multi_extract1d(out,)"
   ]
  },
  {
   "cell_type": "markdown",
   "id": "c82f6d40-d389-4e95-84bf-607852f75103",
   "metadata": {},
   "source": [
    "# Checking the accuracy of wavelength calibration"
   ]
  },
  {
   "cell_type": "code",
   "execution_count": 33,
   "id": "e4ca4d65-6e1d-4293-a058-ec572a48edea",
   "metadata": {},
   "outputs": [
    {
     "name": "stdout",
     "output_type": "stream",
     "text": [
      "Filename: spec_2d_adjust_rad_4_0000.fits\n",
      "No.    Name      Ver    Type      Cards   Dimensions   Format\n",
      "  0  PRIMARY       1 PrimaryHDU      68   ()      \n",
      "  1                1 ImageHDU         7   (4096, 1)   float64   \n",
      "  2  UNCERT        1 ImageHDU         9   (4096, 1)   float64   \n",
      "  3  BITMASK       1 ImageHDU        10   (4096, 1)   int32 (rescales to uint32)   \n",
      "  4  WAVE          1 ImageHDU         8   (4096, 1)   float64   \n",
      "  5  SKY           1 ImageHDU         8   (4096, 1)   float64   \n",
      "  6  SKYERR        1 ImageHDU         8   (4096, 1)   float64   \n"
     ]
    }
   ],
   "source": [
    "f2_1 = fits.open('spec_2d_adjust_rad_4_0000.fits')\n",
    "skyline_file_path = 'pyvista/python/pyvista/data/sky/skyline.dat'\n",
    "skyline_wavelengths = np.loadtxt(skyline_file_path)\n",
    "f2_1.info()"
   ]
  },
  {
   "cell_type": "markdown",
   "id": "fc7cc3e5-aff7-4573-a096-1ed470d69e0f",
   "metadata": {},
   "source": [
    "**General checking plot.**"
   ]
  },
  {
   "cell_type": "code",
   "execution_count": 34,
   "id": "3f046e41-b03f-42cb-9809-36c7360c4415",
   "metadata": {},
   "outputs": [
    {
     "name": "stderr",
     "output_type": "stream",
     "text": [
      "C:\\Users\\abdul\\AppData\\Local\\Temp\\ipykernel_23460\\1453236354.py:7: UserWarning: No artists with labels found to put in legend.  Note that artists whose label start with an underscore are ignored when legend() is called with no argument.\n",
      "  plt.legend()\n"
     ]
    },
    {
     "data": {
      "text/plain": [
       "<matplotlib.legend.Legend at 0x12aa2c68c20>"
      ]
     },
     "execution_count": 34,
     "metadata": {},
     "output_type": "execute_result"
    }
   ],
   "source": [
    "plt.figure()\n",
    "plt.plot(f2_1[4].data[0], f2_1[6].data[0], )\n",
    "for wl in skyline_wavelengths:\n",
    "    plt.axvline(wl, color='red', linestyle='--', alpha=0.5)\n",
    "plt.title('Sky Spectrum and emission lines Correspondence')\n",
    "plt.grid(True)\n",
    "plt.legend()"
   ]
  },
  {
   "cell_type": "markdown",
   "id": "817d0713-bc9c-4501-b8fe-507e23b425f0",
   "metadata": {},
   "source": [
    "**Zoomed in checking**"
   ]
  },
  {
   "cell_type": "code",
   "execution_count": 35,
   "id": "2269434e-fee2-4a98-8dcf-207c204d628c",
   "metadata": {},
   "outputs": [
    {
     "data": {
      "text/plain": [
       "<matplotlib.legend.Legend at 0x12aa08186e0>"
      ]
     },
     "execution_count": 35,
     "metadata": {},
     "output_type": "execute_result"
    }
   ],
   "source": [
    "fig, (ax1, ax2) = plt.subplots(2,1)\n",
    "ax1.plot(f2_1[4].data[0], f2_1[6].data[0],label='range: 6350-7100')\n",
    "ax2.plot(f2_1[4].data[0], f2_1[6].data[0],label='range: 7100-8533')\n",
    "for wl in skyline_wavelengths:\n",
    "    ax1.axvline(wl, color='red', linestyle='--', alpha=0.5)\n",
    "    ax2.axvline(wl, color='red', linestyle='--', alpha=0.5)\n",
    "ax1.set_ylabel('Intensity')\n",
    "ax2.set_ylabel('Intensity')\n",
    "ax1.set_xlabel('Angstrom')\n",
    "ax2.set_xlabel('Angstrom')\n",
    "ax1.set_title('Sky Spectrum and emission lines Correspondence')\n",
    "ax2.set_title('Sky Spectrum and emission lines Correspondence')\n",
    "plt.grid(True)\n",
    "ax1.set_xlim(6350,7100)\n",
    "ax2.set_xlim(7100,8533)\n",
    "ax1.legend()\n",
    "ax2.legend()"
   ]
  },
  {
   "cell_type": "markdown",
   "id": "ed1747c2-1eb2-4cad-99f6-c8adbad4cad7",
   "metadata": {},
   "source": [
    "# Spectra stacking"
   ]
  },
  {
   "cell_type": "markdown",
   "id": "e845287c-020c-498c-a1d4-d89db64ca032",
   "metadata": {},
   "source": [
    "**If the user have reduced at least two exposures of the same star then continue if not stop.**"
   ]
  },
  {
   "cell_type": "code",
   "execution_count": null,
   "id": "0432edf6-66ed-4278-9cdb-19ebbbaf45a4",
   "metadata": {},
   "outputs": [],
   "source": [
    "f02 = fits.open('spec_without_sky_17_004.fits')\n",
    "f03 = fits.open('spec_without_sky_18_004.fits')\n",
    "f03.info()"
   ]
  },
  {
   "cell_type": "code",
   "execution_count": null,
   "id": "4865d032-c697-4bbc-8d14-d5506e74d25d",
   "metadata": {},
   "outputs": [],
   "source": [
    "from astropy.nddata import CCDData # Import astropy data class format. \n",
    "from ccdproc import Combiner # Import ccdproc combiner for stacking."
   ]
  },
  {
   "cell_type": "code",
   "execution_count": null,
   "id": "022f9ee8-6014-4ad6-8ec8-ee2e1fde1d8f",
   "metadata": {},
   "outputs": [],
   "source": [
    "#make a ccddata object out of the flux (pixel count) and uncertainty of each spectra you want to combine\n",
    "ccd_67 = CCDData(data = f02[1].data[0], uncertainty = f02[2].data[0], unit = 'pixel')\n",
    "ccd_68 = CCDData(data = f03[1].data[0], uncertainty = f03[2].data[0], unit = 'pixel')\n",
    "#put them all into Combiner (from ccdproc)\n",
    "spec_67_69 = Combiner([ccd_67, ccd_68])\n",
    "\n",
    "#then average combine (it is slightly better than median combining)\n",
    "avg_test_67_69 = spec_67_69.average_combine()\n",
    "\n",
    "# Plot and compare.\n",
    "plt.figure()\n",
    "\n",
    "plt.plot(f02[4].data[0],f02[1].data[0], label= 'SEG3G2_17')\n",
    "plt.plot(f03[4].data[0],f03[1].data[0], label= 'SEG3G2_18')\n",
    "plt.plot(f02[4].data[0], avg_test_67_69.data, label = 'Stacked_spectrum')\n",
    "plt.legend()\n",
    "plt.xlabel('Angstrom')\n",
    "plt.ylabel('Pixel count')"
   ]
  },
  {
   "cell_type": "markdown",
   "id": "66e306c3-58f6-4214-b778-a6e90fdd20ae",
   "metadata": {},
   "source": [
    "## Save the stacked spectra."
   ]
  },
  {
   "cell_type": "code",
   "execution_count": null,
   "id": "7d03cd2d-2ec0-488d-a423-413babe07b2c",
   "metadata": {},
   "outputs": [],
   "source": [
    "hdu = fits.PrimaryHDU(avg_test_67_69)\n",
    "hdul = fits.HDUList([hdu])\n",
    "\n",
    "# Write to FITS file\n",
    "hdul.writeto('Stacked_spec.fits', overwrite=True)"
   ]
  }
 ],
 "metadata": {
  "kernelspec": {
   "display_name": "Python 3 (ipykernel)",
   "language": "python",
   "name": "python3"
  },
  "language_info": {
   "codemirror_mode": {
    "name": "ipython",
    "version": 3
   },
   "file_extension": ".py",
   "mimetype": "text/x-python",
   "name": "python",
   "nbconvert_exporter": "python",
   "pygments_lexer": "ipython3",
   "version": "3.12.3"
  }
 },
 "nbformat": 4,
 "nbformat_minor": 5
}
