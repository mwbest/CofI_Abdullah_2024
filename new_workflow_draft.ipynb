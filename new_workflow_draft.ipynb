{
 "cells": [
  {
   "cell_type": "markdown",
   "id": "6ff38d47-86e3-4f87-8e3d-cca7e19987b0",
   "metadata": {},
   "source": [
    "# Necessary Modules"
   ]
  },
  {
   "cell_type": "code",
   "execution_count": 1,
   "id": "40c5ba69-0f31-4097-8c25-1e262f83e1b4",
   "metadata": {},
   "outputs": [],
   "source": [
    "# If you are planning to run matplotlib qt, check if you have the following packages; if not, run this cell.\n",
    "#!pip install scikit-image\n",
    "#!pip install scikit-learn\n",
    "#!pip install PyQt6\n",
    "#!pip install PySide6\n",
    "#!pip install PyQt5"
   ]
  },
  {
   "cell_type": "code",
   "execution_count": 2,
   "id": "8cb58dc6-74d6-4cb2-a4a7-1f7e3c2c4654",
   "metadata": {},
   "outputs": [],
   "source": [
    "# Import the following:\n",
    "from pyvista import imred, tv, spectra, stars, slitmask, image\n",
    "import numpy as np\n",
    "import pdb\n",
    "import copy\n",
    "import matplotlib.pyplot as plt\n",
    "import os\n",
    "from astropy.table import vstack\n",
    "import pandas as pd\n",
    "import importlib\n",
    "from astropy.io import fits"
   ]
  },
  {
   "cell_type": "markdown",
   "id": "e947f629-05c2-4d48-a28c-53fbda3f52cb",
   "metadata": {},
   "source": [
    "# Directory setup"
   ]
  },
  {
   "cell_type": "code",
   "execution_count": 3,
   "id": "de64c6ac-3d25-4e42-b3be-0cf7b07d8ca3",
   "metadata": {},
   "outputs": [
    {
     "name": "stdout",
     "output_type": "stream",
     "text": [
      "INSTRUMENT: KOSMOS   config: \n",
      "  will use format:  UT230909/*{:04d}.f*.fits*\n",
      "         gain:  [0.6]    rn: [5.]\n",
      "         scale:  None   \n",
      "  Biastype : 1\n",
      "  Bias box: \n",
      "    SC    NC    SR    NR\n",
      "  2055    43    20  4056 \n",
      "  2105    43    20  4056 \n",
      "  Trim box: \n",
      "    SC    NC    SR    NR\n",
      "     0  2048     0  4096 \n",
      "     0  2048     0  4096 \n",
      "  Norm box: \n",
      "    SC    NC    SR    NR\n",
      "  1000    51  2000    51 \n"
     ]
    }
   ],
   "source": [
    "# put directory name with images here\n",
    "indir='UT230909'\n",
    "red=imred.Reducer('KOSMOS',dir=indir)"
   ]
  },
  {
   "cell_type": "code",
   "execution_count": 4,
   "id": "8bd680e9-d2cd-411e-948c-c8a362ba639b",
   "metadata": {
    "scrolled": true
   },
   "outputs": [
    {
     "data": {
      "text/html": [
       "<i>Table length=90</i>\n",
       "<table id=\"table1558305566944-628191\" class=\"table-striped table-bordered table-condensed\">\n",
       "<thead><tr><th>idx</th><th>FILE</th><th>DATE-OBS</th><th>OBJNAME</th><th>RA</th><th>DEC</th><th>EXPTIME</th></tr></thead>\n",
       "<tr><td>0</td><td>Flat_SEG3G2.0001.fits</td><td>2023-09-09T01:31:47.843412</td><td></td><td>6:56:00.00</td><td>75:00:00.00</td><td>2.0</td></tr>\n",
       "<tr><td>1</td><td>Flat_SEG3G2.0002.fits</td><td>2023-09-09T01:33:24.544267</td><td></td><td>6:56:00.00</td><td>75:00:00.00</td><td>1.0</td></tr>\n",
       "<tr><td>2</td><td>Flat_SEG3G2.0003.fits</td><td>2023-09-09T01:34:47.647398</td><td></td><td>6:56:00.00</td><td>75:00:00.00</td><td>0.5</td></tr>\n",
       "<tr><td>3</td><td>Flat_SEG3R2.0004.fits</td><td>2023-09-09T01:38:24.858222</td><td></td><td>6:56:00.00</td><td>75:00:00.00</td><td>0.5</td></tr>\n",
       "<tr><td>4</td><td>Flat_EMPTY_TEST.0005.fits</td><td>2023-09-09T01:40:21.135840</td><td></td><td>6:56:00.00</td><td>75:00:00.00</td><td>0.5</td></tr>\n",
       "<tr><td>5</td><td>Flat_SEG3R1.0006.fits</td><td>2023-09-09T01:43:41.792202</td><td></td><td>6:56:00.00</td><td>75:00:00.00</td><td>0.5</td></tr>\n",
       "<tr><td>6</td><td>Flat_SEG3R1.0008.fits</td><td>2023-09-09T01:47:35.037138</td><td></td><td>6:56:00.00</td><td>75:00:00.00</td><td>0.5</td></tr>\n",
       "<tr><td>7</td><td>Flat_SEG3G2.0009.fits</td><td>2023-09-09T01:49:32.885458</td><td></td><td>6:56:00.00</td><td>75:00:00.00</td><td>0.5</td></tr>\n",
       "<tr><td>8</td><td>SEG3G2.0010.fits</td><td>2023-09-09T02:19:53.351408</td><td>Seg3G2-Mask</td><td>21:21:32.11</td><td>19:08:59.20</td><td>20.0</td></tr>\n",
       "<tr><td>9</td><td>SEG3G2.0011.fits</td><td>2023-09-09T02:33:52.513049</td><td>Seg3G2-Mask</td><td>21:21:34.14</td><td>19:09:06.69</td><td>20.0</td></tr>\n",
       "<tr><td>10</td><td>SEG3G2.0012.fits</td><td>2023-09-09T02:36:34.405725</td><td>Seg3G2-Mask</td><td>21:21:34.14</td><td>19:09:06.69</td><td>11.2</td></tr>\n",
       "<tr><td>11</td><td>SEG3G2.0013.fits</td><td>2023-09-09T02:48:16.350442</td><td>Seg3G2-Mask</td><td>21:21:32.11</td><td>19:08:59.20</td><td>20.0</td></tr>\n",
       "<tr><td>12</td><td>SEG3G2.0014.fits</td><td>2023-09-09T02:54:50.847798</td><td>Seg3G2-Mask</td><td>21:21:32.11</td><td>19:08:59.20</td><td>20.0</td></tr>\n",
       "<tr><td>13</td><td>SEG3G2.0015.fits</td><td>2023-09-09T02:59:25.399982</td><td>Seg3G2-Mask</td><td>21:21:33.90</td><td>19:09:09.95</td><td>20.0</td></tr>\n",
       "<tr><td>14</td><td>SEG3G2.0016.fits</td><td>2023-09-09T03:02:17.891705</td><td>Seg3G2-Mask</td><td>21:21:33.90</td><td>19:09:09.95</td><td>300.0</td></tr>\n",
       "<tr><td>15</td><td>SEG3G2.0017.fits</td><td>2023-09-09T03:09:16.686771</td><td>Seg3G2-Mask</td><td>21:21:33.79</td><td>19:09:08.51</td><td>1200.0</td></tr>\n",
       "<tr><td>16</td><td>SEG3G2.0018.fits</td><td>2023-09-09T03:30:15.624134</td><td>Seg3G2-Mask</td><td>21:21:33.79</td><td>19:09:08.51</td><td>1200.0</td></tr>\n",
       "<tr><td>17</td><td>SEG3G2.0019.fits</td><td>2023-09-09T03:51:09.009643</td><td>Seg3G2-Mask</td><td>21:21:33.79</td><td>19:09:08.51</td><td>151.6</td></tr>\n",
       "<tr><td>18</td><td>SEG3G2.0020.fits</td><td>2023-09-09T03:54:34.957512</td><td>Seg3G2-Mask</td><td>21:21:33.86</td><td>19:09:09.37</td><td>1200.0</td></tr>\n",
       "<tr><td>19</td><td>Flat_SEG3G2.0021.fits</td><td>2023-09-09T04:15:36.148095</td><td>Seg3G2-Mask</td><td>21:21:33.86</td><td>19:09:09.37</td><td>2.0</td></tr>\n",
       "<tr><td>20</td><td>Flat_SEG3G2.0022.fits</td><td>2023-09-09T04:17:04.730402</td><td>Seg3G2-Mask</td><td>21:21:33.86</td><td>19:09:09.37</td><td>2.0</td></tr>\n",
       "<tr><td>21</td><td>Ne_120s_SEG3G2.0023.fits</td><td>2023-09-09T04:21:30.471078</td><td>Seg3G2-Mask</td><td>21:21:33.86</td><td>19:09:09.37</td><td>120.0</td></tr>\n",
       "<tr><td>22</td><td>Ne_360s_SEG3G2.0024.fits</td><td>2023-09-09T04:24:34.639306</td><td>Seg3G2-Mask</td><td>21:21:33.86</td><td>19:09:09.37</td><td>360.0</td></tr>\n",
       "<tr><td>23</td><td>SEG3R1.0025.fits</td><td>2023-09-09T04:40:57.424800</td><td>Seg3R1-Mask</td><td>21:21:26.09</td><td>19:07:24.04</td><td>30.0</td></tr>\n",
       "<tr><td>24</td><td>SEG3R1.0026.fits</td><td>2023-09-09T04:58:57.117501</td><td>Seg3R1-Mask</td><td>21:21:28.17</td><td>19:07:38.68</td><td>30.0</td></tr>\n",
       "<tr><td>25</td><td>SEG3R1.0027.fits</td><td>2023-09-09T05:02:59.211744</td><td>Seg3R1-Mask</td><td>21:21:28.17</td><td>19:07:36.10</td><td>30.0</td></tr>\n",
       "<tr><td>26</td><td>SEG3R1.0028.fits</td><td>2023-09-09T05:05:17.397640</td><td>Seg3R1-Mask</td><td>21:21:28.17</td><td>19:07:37.40</td><td>30.0</td></tr>\n",
       "<tr><td>27</td><td>SEG3G2.0029.fits</td><td>2023-09-09T05:25:03.036840</td><td>Seg3R1-Mask</td><td>21:21:28.17</td><td>19:07:37.40</td><td>30.0</td></tr>\n",
       "<tr><td>28</td><td>SEG3G2.0030.fits</td><td>2023-09-09T05:27:51.087662</td><td>Seg3R1-Mask</td><td>21:21:28.17</td><td>19:07:37.40</td><td>300.0</td></tr>\n",
       "<tr><td>29</td><td>SEG3G2.0031.fits</td><td>2023-09-09T05:33:45.621193</td><td>Seg3R1-Mask</td><td>21:21:28.17</td><td>19:07:37.40</td><td>69.9</td></tr>\n",
       "<tr><td>30</td><td>SEG3G2.0032.fits</td><td>2023-09-09T05:35:58.008061</td><td>Seg3R1-Mask</td><td>21:21:28.17</td><td>19:07:37.40</td><td>20.0</td></tr>\n",
       "<tr><td>31</td><td>SEG3R1.0033.fits</td><td>2023-09-09T05:38:08.122150</td><td>Seg3R1-Mask</td><td>21:21:28.17</td><td>19:07:37.40</td><td>20.0</td></tr>\n",
       "<tr><td>32</td><td>SEG3R1.0034.fits</td><td>2023-09-09T05:40:13.124058</td><td>Seg3R1-Mask</td><td>21:21:26.09</td><td>19:07:24.04</td><td>20.0</td></tr>\n",
       "<tr><td>33</td><td>SEG3R1.0035.fits</td><td>2023-09-09T05:45:05.716779</td><td>Seg3R1-Mask</td><td>21:21:28.17</td><td>19:07:37.38</td><td>20.0</td></tr>\n",
       "<tr><td>34</td><td>SEG3R1.0036.fits</td><td>2023-09-09T05:47:03.218094</td><td>Seg3R1-Mask</td><td>21:21:28.17</td><td>19:07:37.38</td><td>20.0</td></tr>\n",
       "<tr><td>35</td><td>H17_47.0037.fits</td><td>2023-09-09T06:14:11.755521</td><td>H17-47</td><td>21:21:22.56</td><td>19:08:13.20</td><td>300.0</td></tr>\n",
       "<tr><td>36</td><td>H17_47.0038.fits</td><td>2023-09-09T06:20:05.992885</td><td>H17-47</td><td>21:21:22.56</td><td>19:08:13.20</td><td>300.0</td></tr>\n",
       "<tr><td>37</td><td>Flat_SEG3R1.0039.fits</td><td>2023-09-09T06:27:47.142995</td><td>H17-47</td><td>21:21:22.56</td><td>19:08:13.20</td><td>1.0</td></tr>\n",
       "<tr><td>38</td><td>Flat_SEG3R1.0040.fits</td><td>2023-09-09T06:28:50.627653</td><td>H17-47</td><td>21:21:22.56</td><td>19:08:13.20</td><td>0.5</td></tr>\n",
       "<tr><td>39</td><td>Ne_1s_SEG3R1.0041.fits</td><td>2023-09-09T06:29:46.141456</td><td>H17-47</td><td>21:21:22.56</td><td>19:08:13.20</td><td>1.0</td></tr>\n",
       "<tr><td>40</td><td>Ne_4s_SEG3R1.0042.fits</td><td>2023-09-09T06:30:41.942522</td><td>H17-47</td><td>21:21:22.56</td><td>19:08:13.20</td><td>4.0</td></tr>\n",
       "<tr><td>41</td><td>H17-165.0044.fits</td><td>2023-09-09T06:47:06.931555</td><td>H17-165</td><td>21:21:27.36</td><td>19:08:31.20</td><td>300.0</td></tr>\n",
       "<tr><td>42</td><td>Flat_H17-165.0045.fits</td><td>2023-09-09T06:53:11.573015</td><td>H17-165</td><td>21:21:27.36</td><td>19:08:31.20</td><td>0.5</td></tr>\n",
       "<tr><td>43</td><td>Flat_H17-165.0046.fits</td><td>2023-09-09T06:54:10.413847</td><td>H17-165</td><td>21:21:27.36</td><td>19:08:31.20</td><td>1.0</td></tr>\n",
       "<tr><td>44</td><td>Ne_1s_H17-165.0047.fits</td><td>2023-09-09T06:55:50.424309</td><td>H17-165</td><td>21:21:27.36</td><td>19:08:31.20</td><td>1.0</td></tr>\n",
       "<tr><td>45</td><td>Ne_1s_H17-165.0048.fits</td><td>2023-09-09T06:56:51.619329</td><td>H17-165</td><td>21:21:27.36</td><td>19:08:31.20</td><td>4.0</td></tr>\n",
       "<tr><td>46</td><td>LS-105.0050.fits</td><td>2023-09-09T07:06:11.417475</td><td>LS-105</td><td>21:21:38.64</td><td>19:06:39.60</td><td>300.0</td></tr>\n",
       "<tr><td>47</td><td>SATURN.0051.fits</td><td>2023-09-09T07:12:22.067312</td><td></td><td>22:20:38.46</td><td>-12:14:27.51</td><td>2.0</td></tr>\n",
       "<tr><td>48</td><td>SATURN.0052.fits</td><td>2023-09-09T07:13:48.558408</td><td></td><td>22:20:38.29</td><td>-12:14:28.47</td><td>0.5</td></tr>\n",
       "<tr><td>49</td><td>Bias.0053.fits</td><td>2023-09-09T12:52:44.176927</td><td></td><td>6:56:00.00</td><td>70:00:00.00</td><td>0</td></tr>\n",
       "<tr><td>50</td><td>Bias.0054.fits</td><td>2023-09-09T12:53:09.352341</td><td></td><td>6:56:00.00</td><td>70:00:00.00</td><td>0</td></tr>\n",
       "<tr><td>51</td><td>Bias.0055.fits</td><td>2023-09-09T12:53:34.248508</td><td></td><td>6:56:00.00</td><td>70:00:00.00</td><td>0</td></tr>\n",
       "<tr><td>52</td><td>Bias.0056.fits</td><td>2023-09-09T12:53:59.294849</td><td></td><td>6:56:00.00</td><td>70:00:00.00</td><td>0</td></tr>\n",
       "<tr><td>53</td><td>Bias.0057.fits</td><td>2023-09-09T12:54:24.363980</td><td></td><td>6:56:00.00</td><td>70:00:00.00</td><td>0</td></tr>\n",
       "<tr><td>54</td><td>dark.0058.fits</td><td>2023-09-09T12:54:49.547895</td><td></td><td>6:56:00.00</td><td>70:00:00.00</td><td>0.5</td></tr>\n",
       "<tr><td>55</td><td>dark.0059.fits</td><td>2023-09-09T12:55:15.056918</td><td></td><td>6:56:00.00</td><td>70:00:00.00</td><td>0.5</td></tr>\n",
       "<tr><td>56</td><td>dark.0060.fits</td><td>2023-09-09T12:55:40.545940</td><td></td><td>6:56:00.00</td><td>70:00:00.00</td><td>0.5</td></tr>\n",
       "<tr><td>57</td><td>dark.0061.fits</td><td>2023-09-09T12:56:06.192818</td><td></td><td>6:56:00.00</td><td>70:00:00.00</td><td>1.0</td></tr>\n",
       "<tr><td>58</td><td>dark.0062.fits</td><td>2023-09-09T12:56:32.144634</td><td></td><td>6:56:00.00</td><td>70:00:00.00</td><td>1.0</td></tr>\n",
       "<tr><td>59</td><td>dark.0063.fits</td><td>2023-09-09T12:56:58.240545</td><td></td><td>6:56:00.00</td><td>70:00:00.00</td><td>1.0</td></tr>\n",
       "<tr><td>60</td><td>dark.0064.fits</td><td>2023-09-09T12:57:24.375660</td><td></td><td>6:56:00.00</td><td>70:00:00.00</td><td>2.0</td></tr>\n",
       "<tr><td>61</td><td>dark.0065.fits</td><td>2023-09-09T12:57:51.345841</td><td></td><td>6:56:00.00</td><td>70:00:00.00</td><td>2.0</td></tr>\n",
       "<tr><td>62</td><td>dark.0066.fits</td><td>2023-09-09T12:58:18.348144</td><td></td><td>6:56:00.00</td><td>70:00:00.00</td><td>2.0</td></tr>\n",
       "<tr><td>63</td><td>dark.0067.fits</td><td>2023-09-09T12:58:45.362508</td><td></td><td>6:56:00.00</td><td>70:00:00.00</td><td>200.0</td></tr>\n",
       "<tr><td>64</td><td>dark.0068.fits</td><td>2023-09-09T13:02:30.530696</td><td></td><td>6:56:00.00</td><td>70:00:00.00</td><td>200.0</td></tr>\n",
       "<tr><td>65</td><td>dark.0069.fits</td><td>2023-09-09T13:06:15.788677</td><td></td><td>6:56:00.00</td><td>70:00:00.00</td><td>200.0</td></tr>\n",
       "<tr><td>66</td><td>dark.0070.fits</td><td>2023-09-09T13:10:00.936186</td><td></td><td>6:56:00.00</td><td>70:00:00.00</td><td>300.0</td></tr>\n",
       "<tr><td>67</td><td>dark.0071.fits</td><td>2023-09-09T13:15:26.025582</td><td></td><td>6:56:00.00</td><td>70:00:00.00</td><td>300.0</td></tr>\n",
       "<tr><td>68</td><td>dark.0072.fits</td><td>2023-09-09T13:20:51.481718</td><td></td><td>6:56:00.00</td><td>70:00:00.00</td><td>300.0</td></tr>\n",
       "<tr><td>69</td><td>dark.0073.fits</td><td>2023-09-09T13:26:16.772429</td><td></td><td>6:56:00.00</td><td>70:00:00.00</td><td>742.1</td></tr>\n",
       "<tr><td>70</td><td>Bias.0074.fits</td><td>2023-09-09T13:40:48.562773</td><td></td><td>6:56:00.00</td><td>70:00:00.00</td><td>0</td></tr>\n",
       "<tr><td>71</td><td>Bias.0075.fits</td><td>2023-09-09T13:41:42.621027</td><td></td><td>6:56:00.00</td><td>70:00:00.00</td><td>0</td></tr>\n",
       "<tr><td>72</td><td>Bias.0076.fits</td><td>2023-09-09T13:42:36.322122</td><td></td><td>6:56:00.00</td><td>70:00:00.00</td><td>0</td></tr>\n",
       "<tr><td>73</td><td>Bias.0077.fits</td><td>2023-09-09T13:43:31.221760</td><td></td><td>6:56:00.00</td><td>70:00:00.00</td><td>0</td></tr>\n",
       "<tr><td>74</td><td>Bias.0078.fits</td><td>2023-09-09T13:44:25.014680</td><td></td><td>6:56:00.00</td><td>70:00:00.00</td><td>0</td></tr>\n",
       "<tr><td>75</td><td>dark.0079.fits</td><td>2023-09-09T13:45:19.409440</td><td></td><td>6:56:00.00</td><td>70:00:00.00</td><td>0.5</td></tr>\n",
       "<tr><td>76</td><td>dark.0080.fits</td><td>2023-09-09T13:46:14.416529</td><td></td><td>6:56:00.00</td><td>70:00:00.00</td><td>0.5</td></tr>\n",
       "<tr><td>77</td><td>dark.0081.fits</td><td>2023-09-09T13:47:08.423462</td><td></td><td>6:56:00.00</td><td>70:00:00.00</td><td>0.5</td></tr>\n",
       "<tr><td>78</td><td>dark.0082.fits</td><td>2023-09-09T13:48:03.262934</td><td></td><td>6:56:00.00</td><td>70:00:00.00</td><td>1.0</td></tr>\n",
       "<tr><td>79</td><td>dark.0083.fits</td><td>2023-09-09T13:48:57.860025</td><td></td><td>6:56:00.00</td><td>70:00:00.00</td><td>1.0</td></tr>\n",
       "<tr><td>80</td><td>dark.0084.fits</td><td>2023-09-09T13:49:53.115032</td><td></td><td>6:56:00.00</td><td>70:00:00.00</td><td>1.0</td></tr>\n",
       "<tr><td>81</td><td>dark.0085.fits</td><td>2023-09-09T13:50:49.212021</td><td></td><td>6:56:00.00</td><td>70:00:00.00</td><td>2.0</td></tr>\n",
       "<tr><td>82</td><td>dark.0086.fits</td><td>2023-09-09T13:51:46.212787</td><td></td><td>6:56:00.00</td><td>70:00:00.00</td><td>2.0</td></tr>\n",
       "<tr><td>83</td><td>dark.0087.fits</td><td>2023-09-09T13:52:41.862643</td><td></td><td>6:56:00.00</td><td>70:00:00.00</td><td>2.0</td></tr>\n",
       "<tr><td>84</td><td>dark.0091.fits</td><td>2023-09-09T14:06:19.229533</td><td></td><td>6:56:00.00</td><td>70:00:00.00</td><td>300.0</td></tr>\n",
       "<tr><td>85</td><td>dark.0092.fits</td><td>2023-09-09T14:12:13.991426</td><td></td><td>6:56:00.00</td><td>70:00:00.00</td><td>300.0</td></tr>\n",
       "<tr><td>86</td><td>dark.0093.fits</td><td>2023-09-09T14:18:08.245106</td><td></td><td>6:56:00.00</td><td>70:00:00.00</td><td>300.0</td></tr>\n",
       "<tr><td>87</td><td>dark.0094.fits</td><td>2023-09-09T14:24:04.638995</td><td></td><td>6:56:00.00</td><td>70:00:00.00</td><td>1200.0</td></tr>\n",
       "<tr><td>88</td><td>dark.0095.fits</td><td>2023-09-09T14:44:58.171015</td><td></td><td>6:56:00.00</td><td>70:00:00.00</td><td>1200.0</td></tr>\n",
       "<tr><td>89</td><td>dark.0096.fits</td><td>2023-09-09T15:05:52.009990</td><td></td><td>6:56:00.00</td><td>70:00:00.00</td><td>1200.0</td></tr>\n",
       "</table><style>table.dataTable {clear: both; width: auto !important; margin: 0 !important;}\n",
       ".dataTables_info, .dataTables_length, .dataTables_filter, .dataTables_paginate{\n",
       "display: inline-block; margin-right: 1em; }\n",
       ".paginate_button { margin-right: 5px; }\n",
       "</style>\n",
       "<script>\n",
       "\n",
       "var astropy_sort_num = function(a, b) {\n",
       "    var a_num = parseFloat(a);\n",
       "    var b_num = parseFloat(b);\n",
       "\n",
       "    if (isNaN(a_num) && isNaN(b_num))\n",
       "        return ((a < b) ? -1 : ((a > b) ? 1 : 0));\n",
       "    else if (!isNaN(a_num) && !isNaN(b_num))\n",
       "        return ((a_num < b_num) ? -1 : ((a_num > b_num) ? 1 : 0));\n",
       "    else\n",
       "        return isNaN(a_num) ? -1 : 1;\n",
       "}\n",
       "\n",
       "require.config({paths: {\n",
       "    datatables: 'https://cdn.datatables.net/1.10.12/js/jquery.dataTables.min'\n",
       "}});\n",
       "require([\"datatables\"], function(){\n",
       "    console.log(\"$('#table1558305566944-628191').dataTable()\");\n",
       "    \n",
       "jQuery.extend( jQuery.fn.dataTableExt.oSort, {\n",
       "    \"optionalnum-asc\": astropy_sort_num,\n",
       "    \"optionalnum-desc\": function (a,b) { return -astropy_sort_num(a, b); }\n",
       "});\n",
       "\n",
       "    $('#table1558305566944-628191').dataTable({\n",
       "        order: [],\n",
       "        pageLength: 5,\n",
       "        lengthMenu: [[5, 10, 25, 50, 100, 500, 1000, -1], [5, 10, 25, 50, 100, 500, 1000, 'All']],\n",
       "        pagingType: \"full_numbers\",\n",
       "        columnDefs: [{targets: [0], type: \"optionalnum\"}]\n",
       "    });\n",
       "});\n",
       "</script>\n"
      ],
      "text/plain": [
       "<IPython.core.display.HTML object>"
      ]
     },
     "execution_count": 4,
     "metadata": {},
     "output_type": "execute_result"
    }
   ],
   "source": [
    "# Display the contente of the directory\n",
    "red.log().show_in_notebook(display_length=5)"
   ]
  },
  {
   "cell_type": "markdown",
   "id": "167587e9-bc78-49e4-8ce1-01de93ffe6e7",
   "metadata": {},
   "source": [
    "**Setup the TV window**"
   ]
  },
  {
   "cell_type": "code",
   "execution_count": 5,
   "id": "6ff50126-346c-46a6-91c5-a3c9f73208ed",
   "metadata": {},
   "outputs": [],
   "source": [
    "# Use these lines if you are running the notebook yourself. Matplotlib\n",
    "# window will open outside the notebook, which is the desired behavior so\n",
    "# you can have a single display tool, which you should leave open. Other\n",
    "# plot windows will also appear outside the notebook, which you can close\n",
    "# as desired\n",
    "%matplotlib qt\n",
    "t=tv.TV()\n",
    "plotinter=True\n",
    "\n",
    "# following lines only for fully non-interactive demo of notebook\n",
    "#%matplotlib inline\n",
    "#plotinter=False\n",
    "#t=None"
   ]
  },
  {
   "cell_type": "markdown",
   "id": "c0bd36a4-31ab-4a21-87f8-8a9b53d78acd",
   "metadata": {},
   "source": [
    "# Calibration images."
   ]
  },
  {
   "cell_type": "code",
   "execution_count": 6,
   "id": "6121eb37-5fdf-4294-921c-14912adcaefe",
   "metadata": {},
   "outputs": [
    {
     "name": "stdout",
     "output_type": "stream",
     "text": [
      "  Reading file: UT230909\\Bias.0074.fits\n",
      "  subtracting overscan vector \n",
      "  subtracting overscan vector \n",
      "INFO: array provided for uncertainty; assuming it is a StdDevUncertainty. [astropy.nddata.ccddata]\n"
     ]
    }
   ],
   "source": [
    "# Display bias or any calibration image you may want to look at.\n",
    "bi = red.reduce(74)\n",
    "if t is not None:\n",
    "     t.tv(bi)"
   ]
  },
  {
   "cell_type": "markdown",
   "id": "ae945ab5-8ba6-4db5-9bdb-66ac164472c2",
   "metadata": {},
   "source": [
    "## Master bias."
   ]
  },
  {
   "cell_type": "code",
   "execution_count": 7,
   "id": "e338bd28-ebfd-4801-b66a-89c308c5ce3a",
   "metadata": {
    "scrolled": true
   },
   "outputs": [
    {
     "name": "stdout",
     "output_type": "stream",
     "text": [
      "  Reading file: UT230909\\Bias.0074.fits\n",
      "  subtracting overscan vector \n",
      "  subtracting overscan vector \n",
      "  Reading file: UT230909\\Bias.0075.fits\n",
      "  subtracting overscan vector \n",
      "  subtracting overscan vector \n",
      "  Reading file: UT230909\\Bias.0076.fits\n",
      "  subtracting overscan vector \n",
      "  subtracting overscan vector \n",
      "  Reading file: UT230909\\Bias.0077.fits\n",
      "  subtracting overscan vector \n",
      "  subtracting overscan vector \n",
      "  Reading file: UT230909\\Bias.0078.fits\n",
      "  subtracting overscan vector \n",
      "  subtracting overscan vector \n",
      "  combining data with median....\n",
      "  calculating uncertainty....\n"
     ]
    }
   ],
   "source": [
    "biastims=[74,75,76,77,78] # Make a list of biases using file numbers.\n",
    "bias=red.mkbias(biastims,display=None) # Make a master bias."
   ]
  },
  {
   "cell_type": "code",
   "execution_count": 8,
   "id": "98bde77e-1c9b-43b9-87ae-e10e784105f5",
   "metadata": {},
   "outputs": [],
   "source": [
    "# Display master bias.\n",
    "if t is not None:\n",
    "    t.tv(bias)"
   ]
  },
  {
   "cell_type": "markdown",
   "id": "e511ffc9-4a98-46ce-a4af-de2bbc8f13bf",
   "metadata": {},
   "source": [
    "## Master dark"
   ]
  },
  {
   "cell_type": "code",
   "execution_count": 9,
   "id": "52ed649f-8ca5-4310-aff4-4ff5fb6bded1",
   "metadata": {},
   "outputs": [
    {
     "name": "stdout",
     "output_type": "stream",
     "text": [
      "  Reading file: UT230909\\dark.0094.fits\n",
      "  subtracting overscan vector \n",
      "  subtracting overscan vector \n",
      "  Reading file: UT230909\\dark.0095.fits\n",
      "  subtracting overscan vector \n",
      "  subtracting overscan vector \n",
      "  Reading file: UT230909\\dark.0096.fits\n",
      "  subtracting overscan vector \n",
      "  subtracting overscan vector \n",
      "  combining data with median....\n",
      "  calculating uncertainty....\n"
     ]
    }
   ],
   "source": [
    "darktims=[94,95,96] # Make a list of darks using file numbers.\n",
    "dark=red.mkdark(darktims,display=None, clip =5) # Make a master dark."
   ]
  },
  {
   "cell_type": "code",
   "execution_count": 10,
   "id": "0b397486-0f13-4449-9ed3-c46f6869c028",
   "metadata": {},
   "outputs": [],
   "source": [
    "# Display dark.\n",
    "if t is not None:\n",
    "    t.tv(dark)"
   ]
  },
  {
   "cell_type": "markdown",
   "id": "9247ba3c-f3d2-4d1d-9fb4-c350d3238a5d",
   "metadata": {},
   "source": [
    "## Master flat"
   ]
  },
  {
   "cell_type": "code",
   "execution_count": 11,
   "id": "0cce3ae3-19c7-494e-add9-2d9e4c579f18",
   "metadata": {},
   "outputs": [
    {
     "name": "stdout",
     "output_type": "stream",
     "text": [
      "  Reading file: UT230909\\Flat_SEG3G2.0021.fits\n",
      "  subtracting overscan vector \n",
      "  subtracting overscan vector \n",
      "  Reading file: UT230909\\Flat_SEG3G2.0022.fits\n",
      "  subtracting overscan vector \n",
      "  subtracting overscan vector \n",
      "  combining data with median....\n",
      "  calculating uncertainty....\n"
     ]
    }
   ],
   "source": [
    "flatims=[21,22] # Make a list of flats using file numbers.\n",
    "flat=red.mkflat(flatims,spec=True) # Make masteer flat."
   ]
  },
  {
   "cell_type": "code",
   "execution_count": 12,
   "id": "39b0ff79-840e-4fc2-9e9a-3861e2d530e8",
   "metadata": {},
   "outputs": [],
   "source": [
    "# Display flat\n",
    "if t is not None:\n",
    "    t.tv(flat)"
   ]
  },
  {
   "cell_type": "markdown",
   "id": "306dfc73-3e0a-4ee1-b15b-55554e7fefd7",
   "metadata": {},
   "source": [
    "# Science image reduction"
   ]
  },
  {
   "cell_type": "code",
   "execution_count": 13,
   "id": "837d30b6-5f86-4957-adc5-27c8caa5d2cf",
   "metadata": {},
   "outputs": [
    {
     "name": "stdout",
     "output_type": "stream",
     "text": [
      "  Reading file: UT230909\\SEG3G2.0020.fits\n",
      "  subtracting overscan vector \n",
      "  subtracting overscan vector \n",
      "  See bias box (solid outlines applied to dashed regions of the same color), and cross section. \n",
      "   To continue, hit space in display window (p for debug) \n"
     ]
    },
    {
     "name": "stderr",
     "output_type": "stream",
     "text": [
      "Traceback (most recent call last):\n",
      "  File \"C:\\Users\\abdul\\AppData\\Local\\Programs\\Python\\Python312\\Lib\\site-packages\\matplotlib\\cbook.py\", line 298, in process\n",
      "    func(*args, **kwargs)\n",
      "  File \"C:\\Users\\abdul\\OneDrive\\Desktop\\Summer_24\\pyvista\\python\\pyvista\\tv.py\", line 190, in __onEvent\n",
      "    py, px = np.unravel_index(np.argmin(self.img[ydata-n:ydata+n,xdata-n:xdata+n]),\n",
      "                              ^^^^^^^^^^^^^^^^^^^^^^^^^^^^^^^^^^^^^^^^^^^^^^^^^^^^\n",
      "  File \"C:\\Users\\abdul\\AppData\\Local\\Programs\\Python\\Python312\\Lib\\site-packages\\numpy\\core\\fromnumeric.py\", line 1325, in argmin\n",
      "    return _wrapfunc(a, 'argmin', axis=axis, out=out, **kwds)\n",
      "           ^^^^^^^^^^^^^^^^^^^^^^^^^^^^^^^^^^^^^^^^^^^^^^^^^^\n",
      "  File \"C:\\Users\\abdul\\AppData\\Local\\Programs\\Python\\Python312\\Lib\\site-packages\\numpy\\core\\fromnumeric.py\", line 59, in _wrapfunc\n",
      "    return bound(*args, **kwds)\n",
      "           ^^^^^^^^^^^^^^^^^^^^\n",
      "ValueError: attempt to get argmin of an empty sequence\n"
     ]
    },
    {
     "name": "stdout",
     "output_type": "stream",
     "text": [
      "  subtracting bias...\n",
      "  subtracting dark...\n",
      "  zapping CRs with astroscrappy detect_cosmics\n",
      "  See CRs and CR-zapped image and original using - key\n",
      "   To continue, hit space in display window (p for debug) \n",
      "  flat fielding...\n"
     ]
    },
    {
     "name": "stderr",
     "output_type": "stream",
     "text": [
      "C:\\Users\\abdul\\OneDrive\\Desktop\\Summer_24\\pyvista\\python\\pyvista\\imred.py:765: RuntimeWarning: divide by zero encountered in divide\n",
      "  corr.data /= flat.data\n",
      "C:\\Users\\abdul\\OneDrive\\Desktop\\Summer_24\\pyvista\\python\\pyvista\\imred.py:765: RuntimeWarning: invalid value encountered in divide\n",
      "  corr.data /= flat.data\n",
      "C:\\Users\\abdul\\OneDrive\\Desktop\\Summer_24\\pyvista\\python\\pyvista\\imred.py:766: RuntimeWarning: divide by zero encountered in divide\n",
      "  corr.uncertainty.array /= flat.data\n"
     ]
    },
    {
     "name": "stdout",
     "output_type": "stream",
     "text": [
      "  See flat-fielded image and original with - (minus) key.\n",
      "   To continue, hit space in display window (p for debug) \n",
      "INFO: array provided for uncertainty; assuming it is a StdDevUncertainty. [astropy.nddata.ccddata]\n"
     ]
    }
   ],
   "source": [
    "# Reduce a using the calibration images previously defined.\n",
    "star1=red.reduce(20, crbox='lacosmic', bias=bias, flat=flat, dark=dark, display=t)"
   ]
  },
  {
   "cell_type": "markdown",
   "id": "0f0a8ea0-2eab-4fc9-84e7-0ef2e4add0e0",
   "metadata": {},
   "source": [
    "# Find and display slits on a flat image"
   ]
  },
  {
   "cell_type": "code",
   "execution_count": 14,
   "id": "e5ed3751-591f-4d82-9f91-1f9abcf42001",
   "metadata": {},
   "outputs": [
    {
     "name": "stdout",
     "output_type": "stream",
     "text": [
      "  Reading file: UT230909\\Flat_SEG3G2.0022.fits\n",
      "  subtracting overscan vector \n",
      "  subtracting overscan vector \n",
      "INFO: array provided for uncertainty; assuming it is a StdDevUncertainty. [astropy.nddata.ccddata]\n"
     ]
    }
   ],
   "source": [
    "# Use a single flat\n",
    "flat1 = red.reduce(22) # Reading a flat."
   ]
  },
  {
   "cell_type": "code",
   "execution_count": 15,
   "id": "ed8c51c6-2e16-4a6c-974a-71d1b19515f5",
   "metadata": {},
   "outputs": [],
   "source": [
    "if t is not None:\n",
    "    t.tv(flat1)"
   ]
  },
  {
   "cell_type": "code",
   "execution_count": 16,
   "id": "67c1fb0b-a68a-46c0-b33d-9d3e94564baf",
   "metadata": {},
   "outputs": [],
   "source": [
    "trace=spectra.Trace(transpose=True) # Setup a trace base based on KOMOS (Trancepose = True)\n",
    "t.tvclear()\n",
    "bottom,top = trace.findslits(flat1,display=t,thresh=0.5,sn=True) # This does not take mkflat()."
   ]
  },
  {
   "cell_type": "code",
   "execution_count": 17,
   "id": "f1c54f7f-db4c-4289-b6a3-7f506422979a",
   "metadata": {
    "scrolled": true
   },
   "outputs": [
    {
     "data": {
      "text/plain": [
       "{'type': 'Polynomial1D',\n",
       " 'degree': 2,\n",
       " 'sigdegree': 0,\n",
       " 'pix0': 0,\n",
       " 'spectrum': None,\n",
       " 'rad': 5,\n",
       " 'transpose': True,\n",
       " 'lags': range(-50, 50),\n",
       " 'model': [Polynomial([205.39570053,   6.70214955, -19.58890376], domain=[  98., 3998.], window=[-1.,  1.], symbol='x'),\n",
       "  Polynomial([353.47561566,   6.31656815, -13.19157469], domain=[  98., 3998.], window=[-1.,  1.], symbol='x'),\n",
       "  Polynomial([500.31128681,   6.02780702,  -9.3204817 ], domain=[  98., 3998.], window=[-1.,  1.], symbol='x'),\n",
       "  Polynomial([725.38596237,   6.39430102,  -3.60916434], domain=[  98., 3998.], window=[-1.,  1.], symbol='x'),\n",
       "  Polynomial([934.65809011,   6.48687832,   1.55820243], domain=[  98., 3998.], window=[-1.,  1.], symbol='x'),\n",
       "  Polynomial([1023.40503861,    6.46322524,    3.67504815], domain=[  98., 3998.], window=[-1.,  1.], symbol='x'),\n",
       "  Polynomial([1089.0796024,    6.4892661,    5.2677399], domain=[  98., 3998.], window=[-1.,  1.], symbol='x'),\n",
       "  Polynomial([1154.51935672,    6.50896277,    6.81061458], domain=[  98., 3998.], window=[-1.,  1.], symbol='x'),\n",
       "  Polynomial([1306.86362606,    6.52070882,   10.51528295], domain=[  98., 3998.], window=[-1.,  1.], symbol='x'),\n",
       "  Polynomial([1352.14721966,    6.535771  ,   11.59691278], domain=[  98., 3998.], window=[-1.,  1.], symbol='x'),\n",
       "  Polynomial([1436.11459056,    6.5270953 ,   13.56459144], domain=[  98., 3998.], window=[-1.,  1.], symbol='x'),\n",
       "  Polynomial([1542.13568052,    6.62636598,   16.0626453 ], domain=[  98., 3998.], window=[-1.,  1.], symbol='x'),\n",
       "  Polynomial([1615.05607331,    6.70268906,   17.7284391 ], domain=[  98., 3998.], window=[-1.,  1.], symbol='x'),\n",
       "  Polynomial([1680.83804491,    6.6137519 ,   19.38337333], domain=[  98., 3998.], window=[-1.,  1.], symbol='x'),\n",
       "  Polynomial([1734.39862667,    6.67009432,   20.67128777], domain=[  98., 3998.], window=[-1.,  1.], symbol='x'),\n",
       "  Polynomial([1763.30169646,    6.5789595 ,   21.38513275], domain=[  98., 3998.], window=[-1.,  1.], symbol='x')],\n",
       " 'sigmodel': None,\n",
       " 'sc0': None,\n",
       " 'rows': [[205, 221],\n",
       "  [353, 369],\n",
       "  [500, 516],\n",
       "  [725, 764],\n",
       "  [935, 973],\n",
       "  [1023, 1062],\n",
       "  [1089, 1128],\n",
       "  [1154, 1193],\n",
       "  [1307, 1323],\n",
       "  [1352, 1391],\n",
       "  [1436, 1475],\n",
       "  [1542, 1581],\n",
       "  [1615, 1654],\n",
       "  [1681, 1720],\n",
       "  [1735, 1751],\n",
       "  [1763, 1802]]}"
      ]
     },
     "execution_count": 17,
     "metadata": {},
     "output_type": "execute_result"
    }
   ],
   "source": [
    "vars(trace) # visualize the trace"
   ]
  },
  {
   "cell_type": "markdown",
   "id": "d582b4f3-d785-45fa-8e38-806ce32c368c",
   "metadata": {},
   "source": [
    "# Read slit mask from a kms-file"
   ]
  },
  {
   "cell_type": "code",
   "execution_count": 18,
   "id": "a0b13330-abfe-4986-8e4e-211f8a62d7a7",
   "metadata": {
    "scrolled": true
   },
   "outputs": [
    {
     "data": {
      "text/html": [
       "<div><i>Table length=16</i>\n",
       "<table id=\"table1556931935744\" class=\"table-striped table-bordered table-condensed\">\n",
       "<thead><tr><th>ID</th><th>NAME</th><th>SHAPE</th><th>WID</th><th>LEN</th><th>ROT</th><th>ALPHA</th><th>DELTA</th><th>WIDMM</th><th>LENMM</th><th>XMM</th><th>YMM</th></tr></thead>\n",
       "<thead><tr><th>str7</th><th>str2</th><th>str8</th><th>float64</th><th>float64</th><th>float64</th><th>float64</th><th>float64</th><th>float64</th><th>float64</th><th>float64</th><th>float64</th></tr></thead>\n",
       "<tr><td>TARG113</td><td>NN</td><td>STRAIGHT</td><td>4.0</td><td>4.0</td><td>0.0</td><td>212134.279</td><td>191220.25</td><td>0.683</td><td>0.683</td><td>-5.252</td><td>-34.315</td></tr>\n",
       "<tr><td>TARG112</td><td>NN</td><td>STRAIGHT</td><td>4.0</td><td>4.0</td><td>0.0</td><td>212140.986</td><td>191141.81</td><td>0.683</td><td>0.683</td><td>-21.469</td><td>-27.768</td></tr>\n",
       "<tr><td>TARG114</td><td>NN</td><td>STRAIGHT</td><td>4.0</td><td>4.0</td><td>0.0</td><td>212123.429</td><td>191104.21</td><td>0.683</td><td>0.683</td><td>20.979</td><td>-21.323</td></tr>\n",
       "<tr><td>TARG111</td><td>NN</td><td>STRAIGHT</td><td>0.9</td><td>10.0</td><td>0.0</td><td>212132.879</td><td>191002.48</td><td>0.154</td><td>1.707</td><td>-1.87</td><td>-10.801</td></tr>\n",
       "<tr><td>TARG110</td><td>NN</td><td>STRAIGHT</td><td>0.9</td><td>10.0</td><td>0.0</td><td>212127.784</td><td>190908.67</td><td>0.154</td><td>1.707</td><td>10.451</td><td>-1.61</td></tr>\n",
       "<tr><td>TARG109</td><td>NN</td><td>STRAIGHT</td><td>0.9</td><td>10.0</td><td>0.0</td><td>212128.763</td><td>190845.78</td><td>0.154</td><td>1.707</td><td>8.085</td><td>2.297</td></tr>\n",
       "<tr><td>TARG108</td><td>NN</td><td>STRAIGHT</td><td>0.9</td><td>10.0</td><td>0.0</td><td>212127.508</td><td>190828.88</td><td>0.154</td><td>1.707</td><td>11.119</td><td>5.182</td></tr>\n",
       "<tr><td>TARG107</td><td>NN</td><td>STRAIGHT</td><td>0.9</td><td>10.0</td><td>0.0</td><td>212133.847</td><td>190811.86</td><td>0.154</td><td>1.707</td><td>-4.212</td><td>8.077</td></tr>\n",
       "<tr><td>TARG115</td><td>NN</td><td>STRAIGHT</td><td>4.0</td><td>4.0</td><td>0.0</td><td>212132.347</td><td>190735.58</td><td>0.683</td><td>0.683</td><td>-0.582</td><td>14.272</td></tr>\n",
       "<tr><td>TARG106</td><td>NN</td><td>STRAIGHT</td><td>0.9</td><td>10.0</td><td>0.0</td><td>212133.934</td><td>190720.87</td><td>0.154</td><td>1.707</td><td>-4.422</td><td>16.78</td></tr>\n",
       "<tr><td>TARG105</td><td>NN</td><td>STRAIGHT</td><td>0.9</td><td>10.0</td><td>0.0</td><td>212130.054</td><td>190659.25</td><td>0.154</td><td>1.707</td><td>4.962</td><td>20.475</td></tr>\n",
       "<tr><td>TARG104</td><td>NN</td><td>STRAIGHT</td><td>0.9</td><td>10.0</td><td>0.0</td><td>212136.755</td><td>190631.54</td><td>0.154</td><td>1.707</td><td>-11.247</td><td>25.194</td></tr>\n",
       "<tr><td>TARG103</td><td>NN</td><td>STRAIGHT</td><td>0.9</td><td>10.0</td><td>0.0</td><td>212139.639</td><td>190612.3</td><td>0.154</td><td>1.707</td><td>-18.223</td><td>28.472</td></tr>\n",
       "<tr><td>TARG102</td><td>NN</td><td>STRAIGHT</td><td>0.9</td><td>10.0</td><td>0.0</td><td>212134.103</td><td>190555.71</td><td>0.154</td><td>1.707</td><td>-4.831</td><td>31.313</td></tr>\n",
       "<tr><td>TARG116</td><td>NN</td><td>STRAIGHT</td><td>4.0</td><td>4.0</td><td>0.0</td><td>212136.121</td><td>190544.59</td><td>0.683</td><td>0.683</td><td>-9.713</td><td>33.208</td></tr>\n",
       "<tr><td>TARG101</td><td>NN</td><td>STRAIGHT</td><td>0.9</td><td>10.0</td><td>0.0</td><td>212133.821</td><td>190534.28</td><td>0.154</td><td>1.707</td><td>-4.15</td><td>34.972</td></tr>\n",
       "</table></div>"
      ],
      "text/plain": [
       "<Table length=16>\n",
       "   ID   NAME  SHAPE     WID     LEN     ROT     ALPHA      DELTA    WIDMM   LENMM    XMM     YMM  \n",
       "  str7  str2   str8   float64 float64 float64  float64    float64  float64 float64 float64 float64\n",
       "------- ---- -------- ------- ------- ------- ---------- --------- ------- ------- ------- -------\n",
       "TARG113   NN STRAIGHT     4.0     4.0     0.0 212134.279 191220.25   0.683   0.683  -5.252 -34.315\n",
       "TARG112   NN STRAIGHT     4.0     4.0     0.0 212140.986 191141.81   0.683   0.683 -21.469 -27.768\n",
       "TARG114   NN STRAIGHT     4.0     4.0     0.0 212123.429 191104.21   0.683   0.683  20.979 -21.323\n",
       "TARG111   NN STRAIGHT     0.9    10.0     0.0 212132.879 191002.48   0.154   1.707   -1.87 -10.801\n",
       "TARG110   NN STRAIGHT     0.9    10.0     0.0 212127.784 190908.67   0.154   1.707  10.451   -1.61\n",
       "TARG109   NN STRAIGHT     0.9    10.0     0.0 212128.763 190845.78   0.154   1.707   8.085   2.297\n",
       "TARG108   NN STRAIGHT     0.9    10.0     0.0 212127.508 190828.88   0.154   1.707  11.119   5.182\n",
       "TARG107   NN STRAIGHT     0.9    10.0     0.0 212133.847 190811.86   0.154   1.707  -4.212   8.077\n",
       "TARG115   NN STRAIGHT     4.0     4.0     0.0 212132.347 190735.58   0.683   0.683  -0.582  14.272\n",
       "TARG106   NN STRAIGHT     0.9    10.0     0.0 212133.934 190720.87   0.154   1.707  -4.422   16.78\n",
       "TARG105   NN STRAIGHT     0.9    10.0     0.0 212130.054 190659.25   0.154   1.707   4.962  20.475\n",
       "TARG104   NN STRAIGHT     0.9    10.0     0.0 212136.755 190631.54   0.154   1.707 -11.247  25.194\n",
       "TARG103   NN STRAIGHT     0.9    10.0     0.0 212139.639  190612.3   0.154   1.707 -18.223  28.472\n",
       "TARG102   NN STRAIGHT     0.9    10.0     0.0 212134.103 190555.71   0.154   1.707  -4.831  31.313\n",
       "TARG116   NN STRAIGHT     4.0     4.0     0.0 212136.121 190544.59   0.683   0.683  -9.713  33.208\n",
       "TARG101   NN STRAIGHT     0.9    10.0     0.0 212133.821 190534.28   0.154   1.707   -4.15  34.972"
      ]
     },
     "execution_count": 18,
     "metadata": {},
     "output_type": "execute_result"
    }
   ],
   "source": [
    "kmsfile= 'kms/Copy of kosmos.23.seg3g2.kms' # File directory.\n",
    "targets = slitmask.read_kms(kmsfile,sort='YMM') # Reading file.\n",
    "targets # Visualing file content."
   ]
  },
  {
   "cell_type": "markdown",
   "id": "745e2e9b-1b44-4441-a329-6fa2980ef1ac",
   "metadata": {},
   "source": [
    "## Convert the targets table to a pandas Data Frame"
   ]
  },
  {
   "cell_type": "code",
   "execution_count": 19,
   "id": "6ec27bad-42d1-44f7-87b0-5bc7f0149e1d",
   "metadata": {
    "scrolled": true
   },
   "outputs": [
    {
     "data": {
      "text/html": [
       "<div>\n",
       "<style scoped>\n",
       "    .dataframe tbody tr th:only-of-type {\n",
       "        vertical-align: middle;\n",
       "    }\n",
       "\n",
       "    .dataframe tbody tr th {\n",
       "        vertical-align: top;\n",
       "    }\n",
       "\n",
       "    .dataframe thead th {\n",
       "        text-align: right;\n",
       "    }\n",
       "</style>\n",
       "<table border=\"1\" class=\"dataframe\">\n",
       "  <thead>\n",
       "    <tr style=\"text-align: right;\">\n",
       "      <th></th>\n",
       "      <th>ID</th>\n",
       "      <th>NAME</th>\n",
       "      <th>SHAPE</th>\n",
       "      <th>WID</th>\n",
       "      <th>LEN</th>\n",
       "      <th>ROT</th>\n",
       "      <th>ALPHA</th>\n",
       "      <th>DELTA</th>\n",
       "      <th>WIDMM</th>\n",
       "      <th>LENMM</th>\n",
       "      <th>XMM</th>\n",
       "      <th>YMM</th>\n",
       "    </tr>\n",
       "  </thead>\n",
       "  <tbody>\n",
       "    <tr>\n",
       "      <th>0</th>\n",
       "      <td>TARG113</td>\n",
       "      <td>NN</td>\n",
       "      <td>STRAIGHT</td>\n",
       "      <td>4.0</td>\n",
       "      <td>4.0</td>\n",
       "      <td>0.0</td>\n",
       "      <td>212134.279</td>\n",
       "      <td>191220.25</td>\n",
       "      <td>0.683</td>\n",
       "      <td>0.683</td>\n",
       "      <td>-5.252</td>\n",
       "      <td>-34.315</td>\n",
       "    </tr>\n",
       "    <tr>\n",
       "      <th>1</th>\n",
       "      <td>TARG112</td>\n",
       "      <td>NN</td>\n",
       "      <td>STRAIGHT</td>\n",
       "      <td>4.0</td>\n",
       "      <td>4.0</td>\n",
       "      <td>0.0</td>\n",
       "      <td>212140.986</td>\n",
       "      <td>191141.81</td>\n",
       "      <td>0.683</td>\n",
       "      <td>0.683</td>\n",
       "      <td>-21.469</td>\n",
       "      <td>-27.768</td>\n",
       "    </tr>\n",
       "    <tr>\n",
       "      <th>2</th>\n",
       "      <td>TARG114</td>\n",
       "      <td>NN</td>\n",
       "      <td>STRAIGHT</td>\n",
       "      <td>4.0</td>\n",
       "      <td>4.0</td>\n",
       "      <td>0.0</td>\n",
       "      <td>212123.429</td>\n",
       "      <td>191104.21</td>\n",
       "      <td>0.683</td>\n",
       "      <td>0.683</td>\n",
       "      <td>20.979</td>\n",
       "      <td>-21.323</td>\n",
       "    </tr>\n",
       "    <tr>\n",
       "      <th>3</th>\n",
       "      <td>TARG111</td>\n",
       "      <td>NN</td>\n",
       "      <td>STRAIGHT</td>\n",
       "      <td>0.9</td>\n",
       "      <td>10.0</td>\n",
       "      <td>0.0</td>\n",
       "      <td>212132.879</td>\n",
       "      <td>191002.48</td>\n",
       "      <td>0.154</td>\n",
       "      <td>1.707</td>\n",
       "      <td>-1.870</td>\n",
       "      <td>-10.801</td>\n",
       "    </tr>\n",
       "    <tr>\n",
       "      <th>4</th>\n",
       "      <td>TARG110</td>\n",
       "      <td>NN</td>\n",
       "      <td>STRAIGHT</td>\n",
       "      <td>0.9</td>\n",
       "      <td>10.0</td>\n",
       "      <td>0.0</td>\n",
       "      <td>212127.784</td>\n",
       "      <td>190908.67</td>\n",
       "      <td>0.154</td>\n",
       "      <td>1.707</td>\n",
       "      <td>10.451</td>\n",
       "      <td>-1.610</td>\n",
       "    </tr>\n",
       "    <tr>\n",
       "      <th>5</th>\n",
       "      <td>TARG109</td>\n",
       "      <td>NN</td>\n",
       "      <td>STRAIGHT</td>\n",
       "      <td>0.9</td>\n",
       "      <td>10.0</td>\n",
       "      <td>0.0</td>\n",
       "      <td>212128.763</td>\n",
       "      <td>190845.78</td>\n",
       "      <td>0.154</td>\n",
       "      <td>1.707</td>\n",
       "      <td>8.085</td>\n",
       "      <td>2.297</td>\n",
       "    </tr>\n",
       "    <tr>\n",
       "      <th>6</th>\n",
       "      <td>TARG108</td>\n",
       "      <td>NN</td>\n",
       "      <td>STRAIGHT</td>\n",
       "      <td>0.9</td>\n",
       "      <td>10.0</td>\n",
       "      <td>0.0</td>\n",
       "      <td>212127.508</td>\n",
       "      <td>190828.88</td>\n",
       "      <td>0.154</td>\n",
       "      <td>1.707</td>\n",
       "      <td>11.119</td>\n",
       "      <td>5.182</td>\n",
       "    </tr>\n",
       "    <tr>\n",
       "      <th>7</th>\n",
       "      <td>TARG107</td>\n",
       "      <td>NN</td>\n",
       "      <td>STRAIGHT</td>\n",
       "      <td>0.9</td>\n",
       "      <td>10.0</td>\n",
       "      <td>0.0</td>\n",
       "      <td>212133.847</td>\n",
       "      <td>190811.86</td>\n",
       "      <td>0.154</td>\n",
       "      <td>1.707</td>\n",
       "      <td>-4.212</td>\n",
       "      <td>8.077</td>\n",
       "    </tr>\n",
       "    <tr>\n",
       "      <th>8</th>\n",
       "      <td>TARG115</td>\n",
       "      <td>NN</td>\n",
       "      <td>STRAIGHT</td>\n",
       "      <td>4.0</td>\n",
       "      <td>4.0</td>\n",
       "      <td>0.0</td>\n",
       "      <td>212132.347</td>\n",
       "      <td>190735.58</td>\n",
       "      <td>0.683</td>\n",
       "      <td>0.683</td>\n",
       "      <td>-0.582</td>\n",
       "      <td>14.272</td>\n",
       "    </tr>\n",
       "    <tr>\n",
       "      <th>9</th>\n",
       "      <td>TARG106</td>\n",
       "      <td>NN</td>\n",
       "      <td>STRAIGHT</td>\n",
       "      <td>0.9</td>\n",
       "      <td>10.0</td>\n",
       "      <td>0.0</td>\n",
       "      <td>212133.934</td>\n",
       "      <td>190720.87</td>\n",
       "      <td>0.154</td>\n",
       "      <td>1.707</td>\n",
       "      <td>-4.422</td>\n",
       "      <td>16.780</td>\n",
       "    </tr>\n",
       "    <tr>\n",
       "      <th>10</th>\n",
       "      <td>TARG105</td>\n",
       "      <td>NN</td>\n",
       "      <td>STRAIGHT</td>\n",
       "      <td>0.9</td>\n",
       "      <td>10.0</td>\n",
       "      <td>0.0</td>\n",
       "      <td>212130.054</td>\n",
       "      <td>190659.25</td>\n",
       "      <td>0.154</td>\n",
       "      <td>1.707</td>\n",
       "      <td>4.962</td>\n",
       "      <td>20.475</td>\n",
       "    </tr>\n",
       "    <tr>\n",
       "      <th>11</th>\n",
       "      <td>TARG104</td>\n",
       "      <td>NN</td>\n",
       "      <td>STRAIGHT</td>\n",
       "      <td>0.9</td>\n",
       "      <td>10.0</td>\n",
       "      <td>0.0</td>\n",
       "      <td>212136.755</td>\n",
       "      <td>190631.54</td>\n",
       "      <td>0.154</td>\n",
       "      <td>1.707</td>\n",
       "      <td>-11.247</td>\n",
       "      <td>25.194</td>\n",
       "    </tr>\n",
       "    <tr>\n",
       "      <th>12</th>\n",
       "      <td>TARG103</td>\n",
       "      <td>NN</td>\n",
       "      <td>STRAIGHT</td>\n",
       "      <td>0.9</td>\n",
       "      <td>10.0</td>\n",
       "      <td>0.0</td>\n",
       "      <td>212139.639</td>\n",
       "      <td>190612.30</td>\n",
       "      <td>0.154</td>\n",
       "      <td>1.707</td>\n",
       "      <td>-18.223</td>\n",
       "      <td>28.472</td>\n",
       "    </tr>\n",
       "    <tr>\n",
       "      <th>13</th>\n",
       "      <td>TARG102</td>\n",
       "      <td>NN</td>\n",
       "      <td>STRAIGHT</td>\n",
       "      <td>0.9</td>\n",
       "      <td>10.0</td>\n",
       "      <td>0.0</td>\n",
       "      <td>212134.103</td>\n",
       "      <td>190555.71</td>\n",
       "      <td>0.154</td>\n",
       "      <td>1.707</td>\n",
       "      <td>-4.831</td>\n",
       "      <td>31.313</td>\n",
       "    </tr>\n",
       "    <tr>\n",
       "      <th>14</th>\n",
       "      <td>TARG116</td>\n",
       "      <td>NN</td>\n",
       "      <td>STRAIGHT</td>\n",
       "      <td>4.0</td>\n",
       "      <td>4.0</td>\n",
       "      <td>0.0</td>\n",
       "      <td>212136.121</td>\n",
       "      <td>190544.59</td>\n",
       "      <td>0.683</td>\n",
       "      <td>0.683</td>\n",
       "      <td>-9.713</td>\n",
       "      <td>33.208</td>\n",
       "    </tr>\n",
       "    <tr>\n",
       "      <th>15</th>\n",
       "      <td>TARG101</td>\n",
       "      <td>NN</td>\n",
       "      <td>STRAIGHT</td>\n",
       "      <td>0.9</td>\n",
       "      <td>10.0</td>\n",
       "      <td>0.0</td>\n",
       "      <td>212133.821</td>\n",
       "      <td>190534.28</td>\n",
       "      <td>0.154</td>\n",
       "      <td>1.707</td>\n",
       "      <td>-4.150</td>\n",
       "      <td>34.972</td>\n",
       "    </tr>\n",
       "  </tbody>\n",
       "</table>\n",
       "</div>"
      ],
      "text/plain": [
       "         ID NAME     SHAPE  WID   LEN  ROT       ALPHA      DELTA  WIDMM  \\\n",
       "0   TARG113   NN  STRAIGHT  4.0   4.0  0.0  212134.279  191220.25  0.683   \n",
       "1   TARG112   NN  STRAIGHT  4.0   4.0  0.0  212140.986  191141.81  0.683   \n",
       "2   TARG114   NN  STRAIGHT  4.0   4.0  0.0  212123.429  191104.21  0.683   \n",
       "3   TARG111   NN  STRAIGHT  0.9  10.0  0.0  212132.879  191002.48  0.154   \n",
       "4   TARG110   NN  STRAIGHT  0.9  10.0  0.0  212127.784  190908.67  0.154   \n",
       "5   TARG109   NN  STRAIGHT  0.9  10.0  0.0  212128.763  190845.78  0.154   \n",
       "6   TARG108   NN  STRAIGHT  0.9  10.0  0.0  212127.508  190828.88  0.154   \n",
       "7   TARG107   NN  STRAIGHT  0.9  10.0  0.0  212133.847  190811.86  0.154   \n",
       "8   TARG115   NN  STRAIGHT  4.0   4.0  0.0  212132.347  190735.58  0.683   \n",
       "9   TARG106   NN  STRAIGHT  0.9  10.0  0.0  212133.934  190720.87  0.154   \n",
       "10  TARG105   NN  STRAIGHT  0.9  10.0  0.0  212130.054  190659.25  0.154   \n",
       "11  TARG104   NN  STRAIGHT  0.9  10.0  0.0  212136.755  190631.54  0.154   \n",
       "12  TARG103   NN  STRAIGHT  0.9  10.0  0.0  212139.639  190612.30  0.154   \n",
       "13  TARG102   NN  STRAIGHT  0.9  10.0  0.0  212134.103  190555.71  0.154   \n",
       "14  TARG116   NN  STRAIGHT  4.0   4.0  0.0  212136.121  190544.59  0.683   \n",
       "15  TARG101   NN  STRAIGHT  0.9  10.0  0.0  212133.821  190534.28  0.154   \n",
       "\n",
       "    LENMM     XMM     YMM  \n",
       "0   0.683  -5.252 -34.315  \n",
       "1   0.683 -21.469 -27.768  \n",
       "2   0.683  20.979 -21.323  \n",
       "3   1.707  -1.870 -10.801  \n",
       "4   1.707  10.451  -1.610  \n",
       "5   1.707   8.085   2.297  \n",
       "6   1.707  11.119   5.182  \n",
       "7   1.707  -4.212   8.077  \n",
       "8   0.683  -0.582  14.272  \n",
       "9   1.707  -4.422  16.780  \n",
       "10  1.707   4.962  20.475  \n",
       "11  1.707 -11.247  25.194  \n",
       "12  1.707 -18.223  28.472  \n",
       "13  1.707  -4.831  31.313  \n",
       "14  0.683  -9.713  33.208  \n",
       "15  1.707  -4.150  34.972  "
      ]
     },
     "execution_count": 19,
     "metadata": {},
     "output_type": "execute_result"
    }
   ],
   "source": [
    "df = targets.to_pandas() # Convertion taking place.\n",
    "df # A look at your table in panda formate."
   ]
  },
  {
   "cell_type": "markdown",
   "id": "f3af417f-a747-43af-a12f-602ec0540909",
   "metadata": {},
   "source": [
    "## Remove specified rows from Data Frame"
   ]
  },
  {
   "cell_type": "code",
   "execution_count": 20,
   "id": "722d2613-146e-415b-b97a-9e52e18d196c",
   "metadata": {},
   "outputs": [
    {
     "data": {
      "text/html": [
       "<div>\n",
       "<style scoped>\n",
       "    .dataframe tbody tr th:only-of-type {\n",
       "        vertical-align: middle;\n",
       "    }\n",
       "\n",
       "    .dataframe tbody tr th {\n",
       "        vertical-align: top;\n",
       "    }\n",
       "\n",
       "    .dataframe thead th {\n",
       "        text-align: right;\n",
       "    }\n",
       "</style>\n",
       "<table border=\"1\" class=\"dataframe\">\n",
       "  <thead>\n",
       "    <tr style=\"text-align: right;\">\n",
       "      <th></th>\n",
       "      <th>ID</th>\n",
       "      <th>NAME</th>\n",
       "      <th>SHAPE</th>\n",
       "      <th>WID</th>\n",
       "      <th>LEN</th>\n",
       "      <th>ROT</th>\n",
       "      <th>ALPHA</th>\n",
       "      <th>DELTA</th>\n",
       "      <th>WIDMM</th>\n",
       "      <th>LENMM</th>\n",
       "      <th>XMM</th>\n",
       "      <th>YMM</th>\n",
       "    </tr>\n",
       "  </thead>\n",
       "  <tbody>\n",
       "    <tr>\n",
       "      <th>6</th>\n",
       "      <td>TARG108</td>\n",
       "      <td>NN</td>\n",
       "      <td>STRAIGHT</td>\n",
       "      <td>0.9</td>\n",
       "      <td>10.0</td>\n",
       "      <td>0.0</td>\n",
       "      <td>212127.508</td>\n",
       "      <td>190828.88</td>\n",
       "      <td>0.154</td>\n",
       "      <td>1.707</td>\n",
       "      <td>11.119</td>\n",
       "      <td>5.182</td>\n",
       "    </tr>\n",
       "    <tr>\n",
       "      <th>7</th>\n",
       "      <td>TARG107</td>\n",
       "      <td>NN</td>\n",
       "      <td>STRAIGHT</td>\n",
       "      <td>0.9</td>\n",
       "      <td>10.0</td>\n",
       "      <td>0.0</td>\n",
       "      <td>212133.847</td>\n",
       "      <td>190811.86</td>\n",
       "      <td>0.154</td>\n",
       "      <td>1.707</td>\n",
       "      <td>-4.212</td>\n",
       "      <td>8.077</td>\n",
       "    </tr>\n",
       "    <tr>\n",
       "      <th>9</th>\n",
       "      <td>TARG106</td>\n",
       "      <td>NN</td>\n",
       "      <td>STRAIGHT</td>\n",
       "      <td>0.9</td>\n",
       "      <td>10.0</td>\n",
       "      <td>0.0</td>\n",
       "      <td>212133.934</td>\n",
       "      <td>190720.87</td>\n",
       "      <td>0.154</td>\n",
       "      <td>1.707</td>\n",
       "      <td>-4.422</td>\n",
       "      <td>16.780</td>\n",
       "    </tr>\n",
       "    <tr>\n",
       "      <th>11</th>\n",
       "      <td>TARG104</td>\n",
       "      <td>NN</td>\n",
       "      <td>STRAIGHT</td>\n",
       "      <td>0.9</td>\n",
       "      <td>10.0</td>\n",
       "      <td>0.0</td>\n",
       "      <td>212136.755</td>\n",
       "      <td>190631.54</td>\n",
       "      <td>0.154</td>\n",
       "      <td>1.707</td>\n",
       "      <td>-11.247</td>\n",
       "      <td>25.194</td>\n",
       "    </tr>\n",
       "    <tr>\n",
       "      <th>13</th>\n",
       "      <td>TARG102</td>\n",
       "      <td>NN</td>\n",
       "      <td>STRAIGHT</td>\n",
       "      <td>0.9</td>\n",
       "      <td>10.0</td>\n",
       "      <td>0.0</td>\n",
       "      <td>212134.103</td>\n",
       "      <td>190555.71</td>\n",
       "      <td>0.154</td>\n",
       "      <td>1.707</td>\n",
       "      <td>-4.831</td>\n",
       "      <td>31.313</td>\n",
       "    </tr>\n",
       "  </tbody>\n",
       "</table>\n",
       "</div>"
      ],
      "text/plain": [
       "         ID NAME     SHAPE  WID   LEN  ROT       ALPHA      DELTA  WIDMM  \\\n",
       "6   TARG108   NN  STRAIGHT  0.9  10.0  0.0  212127.508  190828.88  0.154   \n",
       "7   TARG107   NN  STRAIGHT  0.9  10.0  0.0  212133.847  190811.86  0.154   \n",
       "9   TARG106   NN  STRAIGHT  0.9  10.0  0.0  212133.934  190720.87  0.154   \n",
       "11  TARG104   NN  STRAIGHT  0.9  10.0  0.0  212136.755  190631.54  0.154   \n",
       "13  TARG102   NN  STRAIGHT  0.9  10.0  0.0  212134.103  190555.71  0.154   \n",
       "\n",
       "    LENMM     XMM     YMM  \n",
       "6   1.707  11.119   5.182  \n",
       "7   1.707  -4.212   8.077  \n",
       "9   1.707  -4.422  16.780  \n",
       "11  1.707 -11.247  25.194  \n",
       "13  1.707  -4.831  31.313  "
      ]
     },
     "execution_count": 20,
     "metadata": {},
     "output_type": "execute_result"
    }
   ],
   "source": [
    "# Specify the indices of the rows you want to remove\n",
    "rows_to_remove = [0,1,2,3,4,5,8,10,12,14,15]\n",
    "# Remove the specified rows\n",
    "df_cleaned = df.drop(rows_to_remove)\n",
    "df_cleaned # Visualize the results"
   ]
  },
  {
   "cell_type": "markdown",
   "id": "82957e7d-cef6-48f6-a1cd-90c2b0811845",
   "metadata": {},
   "source": [
    "## Filter and process data based on index values"
   ]
  },
  {
   "cell_type": "code",
   "execution_count": 21,
   "id": "20342250-faad-406d-9f01-7934af119300",
   "metadata": {},
   "outputs": [
    {
     "data": {
      "text/plain": [
       "[[1089, 1128], [1154, 1193], [1352, 1391], [1542, 1581], [1681, 1720]]"
      ]
     },
     "execution_count": 21,
     "metadata": {},
     "output_type": "execute_result"
    }
   ],
   "source": [
    "# Give your index value\n",
    "in_dex = df_cleaned.index.tolist()\n",
    "\n",
    "# Create a new list to store the filtered lines\n",
    "filtered_rows = []\n",
    "\n",
    "for index, line in enumerate(trace.rows):\n",
    "    if index in in_dex:\n",
    "        filtered_rows.append(line)\n",
    "\n",
    "# Replace the original trace.rows with the filtered list\n",
    "trace.rows = filtered_rows\n",
    "\n",
    "trace.rows # Visulize the results."
   ]
  },
  {
   "cell_type": "markdown",
   "id": "9feaee82-5cc9-4eb2-a0d5-b31c7b8c092f",
   "metadata": {},
   "source": [
    "# Object tracing"
   ]
  },
  {
   "cell_type": "code",
   "execution_count": 22,
   "id": "f6902785-0889-4b32-a373-c03d6a74b25d",
   "metadata": {},
   "outputs": [
    {
     "data": {
      "text/plain": [
       "{'type': 'Polynomial1D',\n",
       " 'degree': 3,\n",
       " 'sigdegree': 3,\n",
       " 'pix0': 0,\n",
       " 'spectrum': None,\n",
       " 'rad': 5,\n",
       " 'transpose': True,\n",
       " 'lags': range(-150, 150),\n",
       " 'rows': [[1089, 1128],\n",
       "  [1154, 1193],\n",
       "  [1352, 1391],\n",
       "  [1542, 1581],\n",
       "  [1681, 1720]],\n",
       " 'model': None,\n",
       " 'sigmodel': None,\n",
       " 'sc0': None}"
      ]
     },
     "execution_count": 22,
     "metadata": {},
     "output_type": "execute_result"
    }
   ],
   "source": [
    "# Create your own trace from scratch.\n",
    "# Don't worry about assigning a value to sc0 because the default is 2028, the center of the KOSMOS lens.\n",
    "trace1=spectra.Trace(lags=range(-150,150),\n",
    "                    rows= trace.rows ,transpose=red.transpose, rad=5, degree= 3, sigdegree=3)\n",
    "vars(trace1) # Visualize your own trace"
   ]
  },
  {
   "cell_type": "markdown",
   "id": "f6aee25d-088f-4bc4-a582-3eec3634e4bc",
   "metadata": {},
   "source": [
    "## This cell configures and performs a trace operation on an image using predefined rows and parameters:"
   ]
  },
  {
   "cell_type": "code",
   "execution_count": 23,
   "id": "312858c4-54e1-44cb-bc57-b6fde9776002",
   "metadata": {
    "scrolled": true
   },
   "outputs": [
    {
     "name": "stdout",
     "output_type": "stream",
     "text": [
      "  Tracing row: 1108\r"
     ]
    },
    {
     "name": "stderr",
     "output_type": "stream",
     "text": [
      "C:\\Users\\abdul\\OneDrive\\Desktop\\Summer_24\\pyvista\\python\\pyvista\\spectra.py:1200: RuntimeWarning: invalid value encountered in divide\n",
      "  gd = np.where((~ymask) & (ysum/np.sqrt(yvar)>thresh) )[0]\n",
      "C:\\Users\\abdul\\OneDrive\\Desktop\\Summer_24\\pyvista\\python\\pyvista\\spectra.py:1205: RuntimeWarning: invalid value encountered in divide\n",
      "  gd = np.where((~ymask) & (ysum/np.sqrt(yvar)>thresh) & (np.abs(res)<rad))[0]\n"
     ]
    },
    {
     "name": "stdout",
     "output_type": "stream",
     "text": [
      "  Tracing row: 1700\n",
      "  See trace. Hit space bar to continue....\n"
     ]
    },
    {
     "data": {
      "text/plain": [
       "{'type': 'Polynomial1D',\n",
       " 'degree': 3,\n",
       " 'sigdegree': 3,\n",
       " 'pix0': 0,\n",
       " 'spectrum': array([   58.44642639, 32540.70898438,  7469.54345703, ...,\n",
       "         7217.58984375,  5298.26708984, 10843.49902344]),\n",
       " 'rad': 5,\n",
       " 'transpose': True,\n",
       " 'lags': range(-150, 150),\n",
       " 'rows': [[1089, 1128],\n",
       "  [1154, 1193],\n",
       "  [1352, 1391],\n",
       "  [1542, 1581],\n",
       "  [1681, 1720]],\n",
       " 'model': [<Polynomial1D(3, c0=1106.42424301, c1=-0.00066254, c2=0.00000092, c3=0.)>,\n",
       "  <Polynomial1D(3, c0=1170.48348049, c1=-0.00173742, c2=0.00000101, c3=0.)>,\n",
       "  <Polynomial1D(3, c0=1374.52056073, c1=-0.00675974, c2=0.00000225, c3=0.)>,\n",
       "  <Polynomial1D(3, c0=1572.04226392, c1=-0.01195563, c2=0.00000349, c3=0.)>,\n",
       "  <Polynomial1D(3, c0=1709.69169534, c1=-0.0155156, c2=0.00000431, c3=0.)>],\n",
       " 'sigmodel': [<Polynomial1D(3, c0=4.00552885, c1=-0.002714, c2=0.00000086, c3=-0.)>,\n",
       "  <Polynomial1D(3, c0=4.11100655, c1=-0.00247141, c2=0.00000053, c3=0.)>,\n",
       "  <Polynomial1D(3, c0=4.04102029, c1=-0.0026709, c2=0.00000079, c3=-0.)>,\n",
       "  <Polynomial1D(3, c0=3.980752, c1=-0.00238684, c2=0.0000006, c3=-0.)>,\n",
       "  <Polynomial1D(3, c0=3.69327936, c1=-0.00233233, c2=0.00000071, c3=-0.)>],\n",
       " 'sc0': 2048,\n",
       " 'spectrum2d': array([[-6.53247070e+01, -2.19040070e+02, -2.33767605e+01, ...,\n",
       "          0.00000000e+00,  1.59997320e+00,  2.49196315e+00],\n",
       "        [ 4.26980371e+03,  2.82623145e+03,  0.00000000e+00, ...,\n",
       "         -5.39849976e+02, -1.89413162e+02, -3.54513397e+02],\n",
       "        [ 1.83933130e+03,  5.71647021e+03,  6.51009033e+03, ...,\n",
       "          0.00000000e+00,  5.31925583e+01,  4.62040710e+02],\n",
       "        ...,\n",
       "        [ 1.73131482e+03,  2.41076294e+03,  1.82689563e+03, ...,\n",
       "          9.56723755e+02,  4.89165955e+02,  4.87418274e+02],\n",
       "        [ 1.74044876e+02,  6.61961975e+02,  1.77363049e+03, ...,\n",
       "         -4.61933258e+02, -7.35928802e+01, -4.29430984e+02],\n",
       "        [ 6.99232129e+03,  4.93721533e+03, -6.30152344e+03, ...,\n",
       "          1.58476984e+05,  1.20748391e+05,  8.28696523e+04]]),\n",
       " 'skip': 50,\n",
       " 'cols2d': array([  25,   75,  125,  175,  225,  275,  325,  375,  425,  475,  525,\n",
       "         575,  625,  675,  725,  775,  825,  875,  925,  975, 1025, 1075,\n",
       "        1125, 1175, 1225, 1275, 1325, 1375, 1425, 1475, 1525, 1575, 1625,\n",
       "        1675, 1725, 1775, 1825, 1875, 1925, 1975, 2025, 2075, 2125, 2175,\n",
       "        2225, 2275, 2325, 2375, 2425, 2475, 2525, 2575, 2625, 2675, 2725,\n",
       "        2775, 2825, 2875, 2925, 2975, 3025, 3075, 3125, 3175, 3225, 3275,\n",
       "        3325, 3375, 3425, 3475, 3525, 3575, 3625, 3675, 3725, 3775, 3825,\n",
       "        3875, 3925, 3975, 4025, 4075]),\n",
       " 'cols': [array([  48,   98,  148,  198,  248,  298,  348,  398,  448,  498,  548,\n",
       "          598,  648,  698,  748,  798,  848,  898,  948,  998, 1048, 1098,\n",
       "         1148, 1198, 1248, 1298, 1348, 1398, 1448, 1498, 1548, 1598, 1648,\n",
       "         1698, 1748, 1798, 1848, 1898, 1948, 1998, 2048, 2098, 2148, 2198,\n",
       "         2248, 2298, 2348, 2398, 2448, 2498, 2548, 2598, 2648, 2698, 2748,\n",
       "         2798, 2848, 2898, 2948, 2998, 3048, 3098, 3148, 3198, 3248, 3298,\n",
       "         3348, 3398, 3448, 3498, 3548, 3598, 3648, 3698, 3748, 3798, 3848,\n",
       "         3898, 3948, 3998, 4048]),\n",
       "  array([  48,   98,  148,  198,  248,  298,  348,  398,  448,  498,  548,\n",
       "          598,  648,  698,  748,  798,  848,  898,  948,  998, 1048, 1098,\n",
       "         1148, 1198, 1248, 1298, 1348, 1398, 1448, 1498, 1548, 1598, 1648,\n",
       "         1698, 1748, 1798, 1848, 1898, 1948, 1998, 2048, 2098, 2148, 2198,\n",
       "         2248, 2298, 2348, 2398, 2448, 2498, 2548, 2598, 2648, 2698, 2748,\n",
       "         2798, 2848, 2898, 2948, 2998, 3048, 3098, 3148, 3198, 3248, 3298,\n",
       "         3348, 3398, 3448, 3498, 3548, 3598, 3648, 3698, 3748, 3798, 3848,\n",
       "         3898, 3948, 3998, 4048]),\n",
       "  array([  48,   98,  148,  198,  248,  298,  348,  398,  448,  498,  548,\n",
       "          598,  648,  698,  748,  798,  848,  898,  948,  998, 1048, 1098,\n",
       "         1148, 1198, 1248, 1298, 1348, 1398, 1448, 1498, 1548, 1598, 1648,\n",
       "         1698, 1748, 1798, 1848, 1898, 1948, 1998, 2048, 2098, 2148, 2198,\n",
       "         2248, 2298, 2348, 2398, 2448, 2498, 2548, 2598, 2648, 2698, 2748,\n",
       "         2798, 2848, 2898, 2948, 2998, 3048, 3098, 3148, 3198, 3248, 3298,\n",
       "         3348, 3398, 3448, 3498, 3548, 3598, 3648, 3698, 3748, 3798, 3848,\n",
       "         3898, 3948, 3998, 4048]),\n",
       "  array([  48,   98,  148,  198,  248,  298,  348,  398,  448,  498,  548,\n",
       "          598,  648,  698,  748,  798,  848,  898,  948,  998, 1048, 1098,\n",
       "         1148, 1198, 1248, 1298, 1348, 1398, 1448, 1498, 1548, 1598, 1648,\n",
       "         1698, 1748, 1798, 1848, 1898, 1948, 1998, 2048, 2098, 2148, 2198,\n",
       "         2248, 2298, 2348, 2398, 2448, 2498, 2548, 2598, 2648, 2698, 2748,\n",
       "         2798, 2848, 2898, 2948, 2998, 3048, 3098, 3148, 3198, 3248, 3298,\n",
       "         3348, 3398, 3448, 3498, 3548, 3598, 3648, 3698, 3748, 3798, 3848,\n",
       "         3898, 3948, 3998, 4048]),\n",
       "  array([  48,   98,  148,  198,  248,  298,  348,  398,  448,  498,  548,\n",
       "          598,  648,  698,  748,  798,  848,  898,  948,  998, 1048, 1098,\n",
       "         1148, 1198, 1248, 1298, 1348, 1398, 1448, 1498, 1548, 1598, 1648,\n",
       "         1698, 1748, 1798, 1848, 1898, 1948, 1998, 2048, 2098, 2148, 2198,\n",
       "         2248, 2298, 2348, 2398, 2448, 2498, 2548, 2598, 2648, 2698, 2748,\n",
       "         2798, 2848, 2898, 2948, 2998, 3048, 3098, 3148, 3198, 3248, 3298,\n",
       "         3348, 3398, 3448, 3498, 3548, 3598, 3648, 3698, 3748, 3798, 3848,\n",
       "         3898, 3948, 3998, 4048])],\n",
       " 'ypos': [array([1106.14994245, 1106.54692964, 1106.40825151, 1106.3474906 ,\n",
       "         1106.41499381, 1106.38452994, 1106.39304246, 1106.30914561,\n",
       "         1106.32039972, 1106.33610029, 1106.27202402, 1106.33655815,\n",
       "         1106.38821488, 1106.36193946, 1106.37687316, 1106.45616596,\n",
       "         1106.50163179, 1106.53710782, 1106.57188785, 1106.63372589,\n",
       "         1106.71298575, 1106.79673034, 1106.89399639, 1106.96313282,\n",
       "         1107.04719663, 1107.1523875 , 1107.26520923, 1107.32000173,\n",
       "         1107.45134051, 1107.55269546, 1107.65399075, 1107.78135606,\n",
       "         1107.83712552, 1108.04849579, 1108.16715391, 1108.30863354,\n",
       "         1108.45344279, 1108.61182972, 1108.73528736, 1108.93671081,\n",
       "         1109.09437896, 1109.25022036, 1109.41666658, 1109.60889864,\n",
       "         1109.78303927, 1109.95485879, 1110.15652253, 1110.3636937 ,\n",
       "         1110.56270995, 1110.76951546, 1111.01665919, 1111.20977741,\n",
       "         1111.42708194, 1111.6543659 , 1111.84739667, 1112.10174189,\n",
       "         1112.33924306, 1112.55688325, 1112.83479661, 1113.04986157,\n",
       "         1113.33995975, 1113.60509775, 1113.84638556, 1114.08708298,\n",
       "         1114.40451796, 1114.69179515, 1115.00343602, 1115.34205581,\n",
       "         1115.69534915, 1115.94570224, 1116.22281156, 1116.599177  ,\n",
       "         1116.97537684, 1117.21972374, 1117.64509791, 1118.00368318,\n",
       "         1118.39964223, 1118.67930114, 1119.01981812, 1119.41309902,\n",
       "         1119.86934303]),\n",
       "  array([1170.69760291, 1170.11503531, 1170.33970017, 1170.24894313,\n",
       "         1170.26672438, 1170.10682546, 1169.6916885 , 1169.91787706,\n",
       "         1169.93499128, 1169.85930243, 1169.79697223, 1169.79222428,\n",
       "         1169.73243607, 1169.71090492, 1169.80837397, 1169.74055915,\n",
       "         1169.75210472, 1169.71013583, 1169.74769691, 1169.83442469,\n",
       "         1169.86301193, 1169.83598488, 1169.94672454, 1169.96620503,\n",
       "         1170.02623755, 1170.08333861, 1170.22385684, 1170.21262192,\n",
       "         1170.31631148, 1170.40051433, 1170.46993106, 1170.56484574,\n",
       "         1170.67552575, 1170.77210396, 1170.92571667, 1171.0503281 ,\n",
       "         1171.18292534, 1171.30786606, 1171.44244657, 1171.54395035,\n",
       "         1171.78780796, 1171.95280283, 1172.09892337, 1172.2978702 ,\n",
       "         1172.50903249, 1172.68417009, 1172.85410857, 1173.08427873,\n",
       "         1173.32004201, 1173.50144557, 1173.76993935, 1173.96533429,\n",
       "         1174.18893814, 1174.42656877, 1174.72856628, 1174.96532981,\n",
       "         1175.25838616, 1175.52881874, 1175.88073545, 1176.12185189,\n",
       "         1176.42658303, 1176.70675786, 1177.08769509, 1177.44284005,\n",
       "         1177.77403155, 1178.08989419, 1178.3855565 , 1178.84464451,\n",
       "         1179.24558424, 1179.56264608, 1179.93742707, 1180.30019638,\n",
       "         1180.82225264, 1181.26398294, 1181.56239442, 1182.03060027,\n",
       "         1182.64382024, 1183.2324214 , 1183.42263465, 1184.01656701,\n",
       "         1184.37872979]),\n",
       "  array([1374.29680256, 1374.0547617 , 1373.58099724, 1373.33342525,\n",
       "         1372.98443777, 1372.83927602, 1372.27935805, 1372.14337504,\n",
       "         1371.94230442, 1371.71737926, 1371.45012641, 1371.19742411,\n",
       "         1371.06019717, 1370.82025203, 1370.69645155, 1370.54256334,\n",
       "         1370.42485316, 1370.30055802, 1370.13695119, 1370.08494377,\n",
       "         1369.95747951, 1369.88077143, 1369.76353957, 1369.73570475,\n",
       "         1369.72623602, 1369.66366641, 1369.64288723, 1369.6650677 ,\n",
       "         1369.6966288 , 1369.68416962, 1369.75162234, 1369.79354995,\n",
       "         1369.81505613, 1369.90324049, 1369.98696593, 1370.11374442,\n",
       "         1370.18951433, 1370.31291324, 1370.41687988, 1370.58626608,\n",
       "         1370.77696755, 1370.95545079, 1371.13417938, 1371.3226976 ,\n",
       "         1371.53838397, 1371.73688486, 1371.98424865, 1372.24291015,\n",
       "         1372.5309746 , 1372.81314483, 1373.09332871, 1373.37884753,\n",
       "         1373.72683452, 1374.05382273, 1374.41560778, 1374.75569308,\n",
       "         1375.09445641, 1375.51299103, 1375.92071962, 1376.31632926,\n",
       "         1376.76923312, 1377.20938593, 1377.64812128, 1378.11232077,\n",
       "         1378.58833168, 1379.07076196, 1379.63879588, 1380.19770646,\n",
       "         1380.6576531 , 1381.31219884, 1381.88116084, 1382.47127779,\n",
       "         1383.09860206, 1383.71672164, 1384.46036622, 1385.02712341,\n",
       "         1385.86412206, 1386.49845909, 1387.19477028, 1388.0101367 ,\n",
       "         1388.73777521]),\n",
       "  array([1571.78894946, 1571.25545979, 1570.56264916, 1569.99146226,\n",
       "         1569.25891603, 1568.68225403, 1568.25871875, 1567.64334692,\n",
       "         1567.27234895, 1566.71574164, 1566.33689288, 1566.04259692,\n",
       "         1565.69812153, 1565.32028044, 1564.97215827, 1564.678756  ,\n",
       "         1564.33644167, 1564.055728  , 1563.82063507, 1563.60880766,\n",
       "         1563.38040038, 1563.13193955, 1562.98790473, 1562.82231166,\n",
       "         1562.71168087, 1562.57691338, 1562.47108866, 1562.39294593,\n",
       "         1562.32007423, 1562.29299253, 1562.26913787, 1562.25231769,\n",
       "         1562.25846345, 1562.27126172, 1562.32104741, 1562.37366545,\n",
       "         1562.46174919, 1562.56147302, 1562.67795974, 1562.81526702,\n",
       "         1562.99737343, 1563.17063221, 1563.32855473, 1563.60974459,\n",
       "         1563.76178158, 1564.02221699, 1564.29024295, 1564.60094101,\n",
       "         1564.91403646, 1565.27513969, 1565.60782966, 1566.00773118,\n",
       "         1566.36708195, 1566.76878116, 1567.23770645, 1567.6082243 ,\n",
       "         1568.09236292, 1568.6603465 , 1569.16645304, 1569.63108817,\n",
       "         1570.22617604, 1570.77306577, 1571.39314643, 1571.96870624,\n",
       "         1572.63283019, 1573.29875389, 1573.99216562, 1574.71180178,\n",
       "         1575.5333191 , 1576.19602244, 1576.99724795, 1577.82354168,\n",
       "         1578.63790943, 1579.51698088, 1580.43344084, 1581.34982161,\n",
       "         1582.36447626, 1583.35165103, 1584.33269468, 1585.38713093,\n",
       "         1586.4175399 ]),\n",
       "  array([1709.42187645, 1708.57182483, 1707.64752195, 1706.79156344,\n",
       "         1706.06920877, 1705.3234151 , 1704.75590483, 1703.97337701,\n",
       "         1703.51072342, 1702.97618191, 1702.36930075, 1701.84583719,\n",
       "         1701.38864833, 1700.87994149, 1700.4328374 , 1699.96335597,\n",
       "         1699.56572754, 1699.19863839, 1698.74810703, 1698.50794886,\n",
       "         1698.16257653, 1697.91570611, 1697.68588599, 1697.42352882,\n",
       "         1697.22526928, 1697.04191373, 1696.83806939, 1696.68978606,\n",
       "         1696.58859825, 1696.46498681, 1696.41332466, 1696.36830329,\n",
       "         1696.30921163, 1696.33008941, 1696.34648877, 1696.38380017,\n",
       "         1696.4487946 , 1696.51820121, 1696.637295  , 1696.75758757,\n",
       "         1696.95712919, 1697.09035976, 1697.30206304, 1697.53302599,\n",
       "         1697.78460833, 1698.05730013, 1698.35860101, 1698.67838212,\n",
       "         1699.01053268, 1699.380496  , 1699.78391517, 1700.17018235,\n",
       "         1700.62691773, 1701.07800268, 1701.53793808, 1702.12284657,\n",
       "         1702.59637194, 1703.18754796, 1703.75695699, 1704.42086333,\n",
       "         1705.02099678, 1705.69870422, 1706.3965442 , 1707.14145801,\n",
       "         1707.89478178, 1708.68668028, 1709.50382581, 1710.2779835 ,\n",
       "         1711.1527118 , 1712.10071278, 1713.00808934, 1714.0492354 ,\n",
       "         1714.97000584, 1716.04137322, 1717.06975405, 1718.13602292,\n",
       "         1719.33257569, 1720.43380235, 1721.61796871, 1722.84895117,\n",
       "         1724.10633199])],\n",
       " 'index': array([0, 1, 2, 3, 4])}"
      ]
     },
     "execution_count": 23,
     "metadata": {},
     "output_type": "execute_result"
    }
   ],
   "source": [
    "#Trace\n",
    "srow = [] # list to allow for multiple tracing.\n",
    "for lis in trace.rows:\n",
    "    # Setting the center for each slit and adding it to the list.\n",
    "    srow.append(lis[0]+((lis[1]-lis[0])//2))\n",
    "\n",
    "# rad is setting the width of your trace. It will take the center position to be the star position given taking from DS9.\n",
    "trace1.trace(star1,srow,skip=50,\n",
    "                    gaussian = True, display=t, rad= 5) #star1\n",
    "vars(trace1) # Visulize the trace information"
   ]
  },
  {
   "cell_type": "markdown",
   "id": "5838180d-7ac9-4874-8351-20904a7be547",
   "metadata": {},
   "source": [
    "## Now extract the sciencee frame"
   ]
  },
  {
   "cell_type": "code",
   "execution_count": 24,
   "id": "cb6ecf6f-ff17-4136-bb22-62423653953e",
   "metadata": {},
   "outputs": [
    {
     "name": "stdout",
     "output_type": "stream",
     "text": [
      "extracting: \n",
      " 1089-1128\n",
      " 1154-1193\n",
      " 1352-1391\n",
      " 1542-1581\n",
      " 1681-1720\n",
      "  See extraction window(s). Hit space bar to continue....\n"
     ]
    }
   ],
   "source": [
    "out1 = trace1.extract2d(star1, display=t) # 2D Extraction using the reduced image"
   ]
  },
  {
   "cell_type": "markdown",
   "id": "b65bc604-719d-47b9-a102-24fff7c1a7b1",
   "metadata": {},
   "source": [
    "## Now extract the arc frame"
   ]
  },
  {
   "cell_type": "code",
   "execution_count": 25,
   "id": "9ee7bdac-2d1e-4887-a0fd-7b8265ef0a51",
   "metadata": {},
   "outputs": [
    {
     "name": "stdout",
     "output_type": "stream",
     "text": [
      "  Reading file: UT230909\\Ne_120s_SEG3G2.0023.fits\n",
      "  subtracting overscan vector \n",
      "  subtracting overscan vector \n",
      "INFO: array provided for uncertainty; assuming it is a StdDevUncertainty. [astropy.nddata.ccddata]\n",
      "  Reading file: UT230909\\Ne_360s_SEG3G2.0024.fits\n",
      "  subtracting overscan vector \n",
      "  subtracting overscan vector \n",
      "INFO: array provided for uncertainty; assuming it is a StdDevUncertainty. [astropy.nddata.ccddata]\n",
      "  combining data with sum....\n",
      "  calculating uncertainty....\n"
     ]
    }
   ],
   "source": [
    "arcs=red.sum([23,24]) #'UT240629/APO32_282857_intNe4s.0001.fits']) # Make a master arc\n",
    "# Display the lamp\n",
    "if t is not None:\n",
    "     t.clear()\n",
    "     t.tv(arcs)"
   ]
  },
  {
   "cell_type": "code",
   "execution_count": 26,
   "id": "3af560e0-28c1-4757-a07c-35e6612a1475",
   "metadata": {},
   "outputs": [
    {
     "name": "stdout",
     "output_type": "stream",
     "text": [
      "extracting: \n",
      " 1089-1128\n",
      " 1154-1193\n",
      " 1352-1391\n",
      " 1542-1581\n",
      " 1681-1720\n",
      "  See extraction window(s). Hit space bar to continue....\n"
     ]
    }
   ],
   "source": [
    "arcec1=trace1.extract2d(arcs, display=t) # 2D Extraction using master arcs."
   ]
  },
  {
   "cell_type": "markdown",
   "id": "a8bc6306-dae1-4a46-9875-c31a41c76723",
   "metadata": {},
   "source": [
    "## This cell checks if the number of target objects matches the number of slits and updates FITS headers:"
   ]
  },
  {
   "cell_type": "code",
   "execution_count": 27,
   "id": "52e3ca19-6a4b-4a35-9ded-85239899e17a",
   "metadata": {},
   "outputs": [],
   "source": [
    "if len(targets) == len(bottom) : # Checking if the conditions is mate.\n",
    "    for arc,target in zip(arcec1,targets) :\n",
    "        arc.header['XMM'] = target['XMM']\n",
    "        arc.header['YMM'] = target['YMM']\n",
    "else :\n",
    "    print('ERROR, number of identified slits does not match number of targets')"
   ]
  },
  {
   "cell_type": "markdown",
   "id": "dbdf15f8-17a1-4e6a-9295-8e2372353c06",
   "metadata": {},
   "source": [
    "# This cell performs wavelength calibration for each arc spectrum in 'arcec1' using a predefined wavelength solution file:"
   ]
  },
  {
   "cell_type": "code",
   "execution_count": 28,
   "id": "170f21d4-71ad-4f59-9fae-fde8efd632cc",
   "metadata": {
    "scrolled": true
   },
   "outputs": [
    {
     "name": "stdout",
     "output_type": "stream",
     "text": [
      "  rms:    0.177 Angstroms (50 lines)\n",
      "0\n",
      "  cross correlating with reference spectrum using lags between:  -405 394\n",
      "  Derived pixel shift from input wcal:  [-255.75761163]\n",
      "  See identified lines.\n",
      "  rms:    3.609 Angstroms (38 lines)\n",
      "  Input in plot window: \n",
      "       l : to remove all lines to left of cursor\n",
      "       r : to remove all lines to right of cursor\n",
      "       n : to remove line nearest cursor x position\n",
      "       i : return with True value (to allow iteration)\n",
      "       anything else : finish and return\n",
      "  rms:    3.609 Anstroms\n",
      "  input from plot window...\n",
      "  rms:    3.122 Anstroms\n",
      "  input from plot window...\n",
      "  rms:    0.078 Anstroms\n",
      "  input from plot window...\n",
      "\n",
      "  cross correlating with reference spectrum using lags between:  -19 18\n",
      "  Derived pixel shift from input wcal:  [-2.68800946e-08]\n",
      "  See identified lines.\n",
      "  rms:    0.072 Angstroms (38 lines)\n",
      "  Input in plot window: \n",
      "       l : to remove all lines to left of cursor\n",
      "       r : to remove all lines to right of cursor\n",
      "       n : to remove line nearest cursor x position\n",
      "       i : return with True value (to allow iteration)\n",
      "       anything else : finish and return\n",
      "  rms:    0.072 Anstroms\n",
      "  input from plot window...\n",
      "\n",
      "  cross correlating with reference spectrum using lags between:  -300 299\n",
      "  Derived pixel shift from input wcal for row: 38 0\n",
      "  See identified lines.\n",
      "  rms:    0.088\n",
      "rejecting 0 points from 228 total: \n",
      "  See 2D wavecal fit. Enter space in plot window to continue\n",
      "\n",
      "  rms:    0.177 Angstroms (50 lines)\n",
      "1\n",
      "  cross correlating with reference spectrum using lags between:  -421 378\n",
      "  Derived pixel shift from input wcal:  [98.92402804]\n"
     ]
    },
    {
     "name": "stderr",
     "output_type": "stream",
     "text": [
      "C:\\Users\\abdul\\OneDrive\\Desktop\\Summer_24\\pyvista\\python\\pyvista\\spectra.py:696: OptimizeWarning: Covariance of the parameters could not be estimated\n",
      "  coeff, var_matrix = curve_fit(gauss, xx, yy, p0=p0)\n"
     ]
    },
    {
     "name": "stdout",
     "output_type": "stream",
     "text": [
      "  See identified lines.\n",
      "  rms:    0.086 Angstroms (37 lines)\n",
      "  Input in plot window: \n",
      "       l : to remove all lines to left of cursor\n",
      "       r : to remove all lines to right of cursor\n",
      "       n : to remove line nearest cursor x position\n",
      "       i : return with True value (to allow iteration)\n",
      "       anything else : finish and return\n",
      "  rms:    0.086 Anstroms\n",
      "  input from plot window...\n",
      "\n",
      "  cross correlating with reference spectrum using lags between:  -300 299\n",
      "  Derived pixel shift from input wcal for row: 38 0\n",
      "  See identified lines.\n",
      "  rms:    0.104\n",
      "rejecting 2 points from 222 total: \n",
      "  rms:    0.091\n",
      "rejecting 1 points from 222 total: \n",
      "  rms:    0.091\n",
      "rejecting 1 points from 222 total: \n",
      "  See 2D wavecal fit. Enter space in plot window to continue\n",
      "\n",
      "  rms:    0.177 Angstroms (50 lines)\n",
      "2\n",
      "  cross correlating with reference spectrum using lags between:  -380 419\n",
      "  Derived pixel shift from input wcal:  [105.69699078]\n",
      "  See identified lines.\n",
      "  rms:    3.258 Angstroms (38 lines)\n",
      "  Input in plot window: \n",
      "       l : to remove all lines to left of cursor\n",
      "       r : to remove all lines to right of cursor\n",
      "       n : to remove line nearest cursor x position\n",
      "       i : return with True value (to allow iteration)\n",
      "       anything else : finish and return\n",
      "  rms:    3.258 Anstroms\n",
      "  input from plot window...\n",
      "  rms:    0.056 Anstroms\n",
      "  input from plot window...\n",
      "\n",
      "  cross correlating with reference spectrum using lags between:  -19 18\n",
      "  Derived pixel shift from input wcal:  [2.4000002e-10]\n",
      "  See identified lines.\n",
      "  rms:    1.492 Angstroms (38 lines)\n",
      "  Input in plot window: \n",
      "       l : to remove all lines to left of cursor\n",
      "       r : to remove all lines to right of cursor\n",
      "       n : to remove line nearest cursor x position\n",
      "       i : return with True value (to allow iteration)\n",
      "       anything else : finish and return\n",
      "  rms:    1.492 Anstroms\n",
      "  input from plot window...\n",
      "  rms:    0.087 Anstroms\n",
      "  input from plot window...\n",
      "\n",
      "  cross correlating with reference spectrum using lags between:  -300 299\n",
      "  Derived pixel shift from input wcal for row: 38 0\n",
      "  See identified lines.\n",
      "  rms:    0.114\n",
      "rejecting 2 points from 222 total: \n",
      "  rms:    0.100\n",
      "rejecting 2 points from 222 total: \n",
      "  See 2D wavecal fit. Enter space in plot window to continue\n",
      "\n",
      "  rms:    0.177 Angstroms (50 lines)\n",
      "3\n",
      "  cross correlating with reference spectrum using lags between:  -401 398\n",
      "  Derived pixel shift from input wcal:  [266.65866653]\n",
      "  See identified lines.\n",
      "  rms:   46.504 Angstroms (34 lines)\n",
      "  Input in plot window: \n",
      "       l : to remove all lines to left of cursor\n",
      "       r : to remove all lines to right of cursor\n",
      "       n : to remove line nearest cursor x position\n",
      "       i : return with True value (to allow iteration)\n",
      "       anything else : finish and return\n",
      "  rms:   46.504 Anstroms\n",
      "  input from plot window...\n",
      "  rms:   25.877 Anstroms\n",
      "  input from plot window...\n",
      "  rms:    4.226 Anstroms\n",
      "  input from plot window...\n",
      "  rms:    4.209 Anstroms\n",
      "  input from plot window...\n",
      "  rms:    3.237 Anstroms\n",
      "  input from plot window...\n",
      "  rms:    2.845 Anstroms\n",
      "  input from plot window...\n",
      "  rms:    2.206 Anstroms\n",
      "  input from plot window...\n",
      "  rms:    0.104 Anstroms\n",
      "  input from plot window...\n",
      "  rms:    0.036 Anstroms\n",
      "  input from plot window...\n",
      "\n",
      "  cross correlating with reference spectrum using lags between:  -19 18\n",
      "  Derived pixel shift from input wcal:  [1.40705225e-10]\n",
      "  See identified lines.\n",
      "  rms:    1.499 Angstroms (38 lines)\n",
      "  Input in plot window: \n",
      "       l : to remove all lines to left of cursor\n",
      "       r : to remove all lines to right of cursor\n",
      "       n : to remove line nearest cursor x position\n",
      "       i : return with True value (to allow iteration)\n",
      "       anything else : finish and return\n",
      "  rms:    1.499 Anstroms\n",
      "  input from plot window...\n",
      "  rms:    0.100 Anstroms\n",
      "  input from plot window...\n",
      "\n",
      "  cross correlating with reference spectrum using lags between:  -300 299\n",
      "  Derived pixel shift from input wcal for row: 38 1\n",
      "  See identified lines.\n",
      "  rms:    0.118\n",
      "rejecting 0 points from 222 total: \n",
      "  See 2D wavecal fit. Enter space in plot window to continue\n",
      "\n",
      "  rms:    0.177 Angstroms (50 lines)\n",
      "4\n",
      "  cross correlating with reference spectrum using lags between:  -390 409\n",
      "  Derived pixel shift from input wcal:  [122.28502475]\n",
      "  See identified lines.\n",
      "  rms:  136.186 Angstroms (38 lines)\n",
      "  Input in plot window: \n",
      "       l : to remove all lines to left of cursor\n",
      "       r : to remove all lines to right of cursor\n",
      "       n : to remove line nearest cursor x position\n",
      "       i : return with True value (to allow iteration)\n",
      "       anything else : finish and return\n",
      "  rms:  136.186 Anstroms\n",
      "  input from plot window...\n",
      "  rms:    4.461 Anstroms\n",
      "  input from plot window...\n",
      "  rms:    3.075 Anstroms\n",
      "  input from plot window...\n",
      "  rms:    2.196 Anstroms\n",
      "  input from plot window...\n",
      "  rms:    1.636 Anstroms\n",
      "  input from plot window...\n",
      "  rms:    0.038 Anstroms\n",
      "  input from plot window...\n",
      "\n",
      "  cross correlating with reference spectrum using lags between:  -19 18\n",
      "  Derived pixel shift from input wcal:  [1.09807274e-09]\n",
      "  See identified lines.\n",
      "  rms:    0.072 Angstroms (38 lines)\n",
      "  Input in plot window: \n",
      "       l : to remove all lines to left of cursor\n",
      "       r : to remove all lines to right of cursor\n",
      "       n : to remove line nearest cursor x position\n",
      "       i : return with True value (to allow iteration)\n",
      "       anything else : finish and return\n",
      "  rms:    0.072 Anstroms\n",
      "  input from plot window...\n",
      "\n",
      "  cross correlating with reference spectrum using lags between:  -300 299\n",
      "  Derived pixel shift from input wcal for row: 38 1\n",
      "  See identified lines.\n",
      "  rms:    0.089\n",
      "rejecting 2 points from 228 total: \n",
      "  rms:    0.082\n",
      "rejecting 2 points from 228 total: \n",
      "  See 2D wavecal fit. Enter space in plot window to continue\n",
      "\n"
     ]
    }
   ],
   "source": [
    "for i,arc in enumerate(arcec1) :\n",
    "    # get an initial guess at the shift from reference using XMM (KOSMOS red center!)\n",
    "    wav=spectra.WaveCal('KOSMOS/KOSMOS_red_waves.fits')\n",
    "    nrow=arc.shape[0] # this is referring to the slit width of each slit. \n",
    "    print(i)\n",
    "    shift=int(arc.header['XMM'])\n",
    "    lags=np.arange(shift-400,shift+400)\n",
    "\n",
    "    iter = True\n",
    "    while iter :\n",
    "        iter = wav.identify(arc[nrow//2],plot=True,plotinter=True,\n",
    "                            lags=lags,thresh=0.5,\n",
    "                file='new_wave_lamp/copy_new_neon_red_center.dat',\n",
    "                rad = 6) # The line computing identification.\n",
    "        lags=np.arange(-19,19) # \n",
    "        plt.close()\n",
    "        \n",
    "    # Do the 2D wavelength solution, sampling 5 locations across slits.\n",
    "    wav.identify(arc,plot=True,nskip=nrow//5,thresh=5)\n",
    "    plt.close()"
   ]
  },
  {
   "cell_type": "markdown",
   "id": "85e263eb-bf85-4aec-ae0d-081ed1f519e5",
   "metadata": {},
   "source": [
    "# This cell visualizes and processes spectral data after extraction, involving both plotting and adding wavelength information:"
   ]
  },
  {
   "cell_type": "code",
   "execution_count": 29,
   "id": "dcb7c514-bdbf-486e-80f9-ad18be98d28f",
   "metadata": {
    "scrolled": true
   },
   "outputs": [
    {
     "name": "stdout",
     "output_type": "stream",
     "text": [
      "(39, 4096)\n",
      "[[9348.37132885 9347.34768386 9346.32397608 ... 5264.59099748\n",
      "  5263.7736761  5262.95651839]\n",
      " [9348.42808237 9347.40435253 9346.38056001 ... 5264.56087395\n",
      "  5263.74344614 5262.92618189]\n",
      " [9348.48258963 9347.4587786  9346.43490498 ... 5264.53247104\n",
      "  5263.71494142 5262.89757523]\n",
      " ...\n",
      " [9348.99930883 9347.97491712 9346.95046357 ... 5264.59054232\n",
      "  5263.7722951  5262.95421049]\n",
      " [9348.97519682 9347.95085214 9346.92644557 ... 5264.62236118\n",
      "  5263.80417357 5262.98614863]\n",
      " [9348.94883855 9347.92454456 9346.90018862 ... 5264.65590067\n",
      "  5263.83777727 5263.01981662]]\n",
      "SEG3G2\n",
      "(39, 4096)\n",
      "[[9720.96035573 9719.93208765 9718.903758   ... 5601.19523638\n",
      "  5600.35827395 5599.52146662]\n",
      " [9720.94813877 9719.9198706  9718.8915409  ... 5601.1492121\n",
      "  5600.31214287 5599.47522865]\n",
      " [9720.93645454 9719.90818677 9718.8798575  ... 5601.10597024\n",
      "  5600.26879927 5599.43178322]\n",
      " ...\n",
      " [9720.85616306 9719.82820104 9718.80017754 ... 5601.29129226\n",
      "  5600.45366817 5599.6161986 ]\n",
      " [9720.86312427 9719.83517983 9718.80717388 ... 5601.34543541\n",
      "  5600.50788641 5599.670492  ]\n",
      " [9720.8706182  9719.84269184 9718.81470393 ... 5601.40236099\n",
      "  5600.56489213 5599.72757793]]\n",
      "SEG3G2\n",
      "(39, 4096)\n",
      "[[9725.73767613 9724.71177382 9723.68580842 ... 5609.87046027\n",
      "  5609.03472764 5608.19915107]\n",
      " [9725.79911663 9724.77312278 9723.74706596 ... 5609.83829494\n",
      "  5609.00244191 5608.16674481]\n",
      " [9725.85814781 9724.8320666  9723.80592254 ... 5609.80872633\n",
      "  5608.97275845 5608.13694639]\n",
      " ...\n",
      " [9726.43167011 9725.40510288 9724.37847354 ... 5610.34844191\n",
      "  5609.51187707 5608.67546724]\n",
      " [9726.40637553 9725.37986706 9724.35329643 ... 5610.40975849\n",
      "  5609.57327338 5608.73694335]\n",
      " [9726.37867164 9725.35222612 9724.32571836 ... 5610.4736718\n",
      "  5609.63727197 5608.8010273 ]]\n",
      "SEG3G2\n",
      "(39, 4096)\n",
      "[[9892.3220796  9891.29717569 9890.27220761 ... 5768.66363942\n",
      "  5767.82243619 5766.98138696]\n",
      " [9892.36484027 9891.33985585 9890.31480736 ... 5768.63567912\n",
      "  5767.794359   5766.95319275]\n",
      " [9892.40571142 9891.3806507  9890.35552601 ... 5768.61062375\n",
      "  5767.76919237 5766.92791472]\n",
      " ...\n",
      " [9892.67106609 9891.64591778 9890.62070603 ... 5769.48717777\n",
      "  5768.64530743 5767.80359014]\n",
      " [9892.64580404 9891.62072688 9890.5955862  ... 5769.56379514\n",
      "  5768.72201024 5767.88037849]\n",
      " [9892.61865247 9891.59365067 9890.56858527 ... 5769.64331744\n",
      "  5768.80162361 5767.96008302]]\n",
      "SEG3G2\n",
      "(39, 4096)\n",
      "[[9737.70902767 9736.6861745  9735.66325755 ... 5631.32865824\n",
      "  5630.49521123 5629.6619206 ]\n",
      " [9737.72499333 9736.70210495 9735.67915285 ... 5631.32486181\n",
      "  5630.49134348 5629.65798146]\n",
      " [9737.74039781 9736.71747654 9735.69449161 ... 5631.3233517\n",
      "  5630.48976564 5629.65633581]\n",
      " ...\n",
      " [9737.93025166 9736.90759154 9735.88486799 ... 5632.63236464\n",
      "  5631.798611   5630.96501315]\n",
      " [9737.92601505 9736.90340318 9735.88072783 ... 5632.71087551\n",
      "  5631.87717974 5631.04363982]\n",
      " [9737.92121727 9736.89865597 9735.87603114 ... 5632.7916727\n",
      "  5631.95803839 5631.12455998]]\n",
      "SEG3G2\n"
     ]
    }
   ],
   "source": [
    "t.clear()\n",
    "plt.figure()\n",
    "for i,(o,a) in enumerate(zip(out1,arcec1)) :\n",
    "    print(o.shape)\n",
    "    print(a.wave)\n",
    "    o.add_wave(a.wave) # Adding wavelenght information.\n",
    "    name = o.header[\"FILE\"].split(\".\")[0]\n",
    "    print(name)\n",
    "    #t.tv(o)\n",
    "    #t.tv(o.wave)\n",
    "    plt.plot(o.wave[19],o.data[19], label= f'spec{i}') # 19 center of the slits, but could be any.\n",
    "    plt.legend()\n",
    "    #o.write(name + \"_20_{:03d}.fits\".format(i), overwrite=True) # If you wish to save the 2D spectra with wavelength."
   ]
  },
  {
   "cell_type": "markdown",
   "id": "002bf37a-2ab1-4ca8-b9d0-6c4084b45416",
   "metadata": {},
   "source": [
    "# 1D extraction"
   ]
  },
  {
   "cell_type": "markdown",
   "id": "1056b53d-0257-44b2-88b8-e26e5f64ff80",
   "metadata": {},
   "source": [
    "This cell will allow you to extract each star with an appropriate rad. Follow the instructions given by the cell output."
   ]
  },
  {
   "cell_type": "markdown",
   "id": "ebe2fce3-7cf9-4e23-9eb6-90b88ee373cd",
   "metadata": {},
   "source": [
    "**Notes:**\n",
    "- The code below allows the user to verify both the extraction and wavelength adjustment processes for validation.\n",
    "- The rms range that works for me at the moment for the wavelength adjustment process is (1.252 to 0.497). This process is not fully validated, I lack data. Thus, it is at the user's own judgment.\n",
    "- If the user wishes not to adjust, enter anything as input with the exception of \"y,\" and the code will jump the adjustment process.\n",
    "- Jon Has just made some updates to the wavelength adjustment process. Therefore, it is recommended to wait till we work through that and integrate it into the workflow. \n",
    "- The thresh value matters in the adjustment process; it allows for the number of lines that can be identified in terms of the S/N threshold. "
   ]
  },
  {
   "cell_type": "code",
   "execution_count": 36,
   "id": "f49825a3-5fea-42a8-87d3-20f9031eae14",
   "metadata": {
    "scrolled": true
   },
   "outputs": [
    {
     "name": "stdout",
     "output_type": "stream",
     "text": [
      "looking for peaks using 38 pixels around 1108, threshhold of 10.000000\n",
      "peaks:  [20]\n",
      "aperture/fiber:  [0]\n"
     ]
    },
    {
     "name": "stdin",
     "output_type": "stream",
     "text": [
      "Enter the radius for extraction for slit 0 (current default is 5):  4\n"
     ]
    },
    {
     "name": "stdout",
     "output_type": "stream",
     "text": [
      "  extracting ... \n",
      "  See extraction window(s). Hit space bar to continue....\n",
      "\n",
      "(4096,) (4096,)\n",
      "Review the extraction results.\n"
     ]
    },
    {
     "name": "stdin",
     "output_type": "stream",
     "text": [
      "Are you satisfied with the results? Enter 'y' for yes, anything else for no:  y\n"
     ]
    },
    {
     "name": "stdout",
     "output_type": "stream",
     "text": [
      "appending uncertainty\n",
      "appending bitmask\n",
      "appending wave\n",
      "appending uncertainty\n",
      "appending bitmask\n",
      "appending wave\n"
     ]
    },
    {
     "name": "stdin",
     "output_type": "stream",
     "text": [
      "Do you want to adjust the wavelength solution of star 0? Enter 'y' for yes and anything else for no:  y\n",
      "Enter thresh value for wavelength adjustment for star 0:  12\n"
     ]
    },
    {
     "name": "stdout",
     "output_type": "stream",
     "text": [
      "  See identified lines.\n",
      "  rms:    0.134\n",
      "rejecting 0 points from 9 total: \n",
      "  See 2D wavecal fit. Enter space in plot window to continue\n",
      "\n"
     ]
    },
    {
     "name": "stdin",
     "output_type": "stream",
     "text": [
      "Are you satisfied with the rms? Enter 'y' for yes, anything else for no:  y\n"
     ]
    },
    {
     "name": "stdout",
     "output_type": "stream",
     "text": [
      "[[9349.12624704 9348.10115325 9347.07599821 ... 5264.91009413\n",
      "  5264.09221358 5263.2744956 ]]\n",
      "[[9349.12624704 9348.10115325 9347.07599821 ... 5264.91009413\n",
      "  5264.09221358 5263.2744956 ]]\n",
      "appending uncertainty\n",
      "appending bitmask\n",
      "appending wave\n",
      "appending uncertainty\n",
      "appending bitmask\n",
      "appending wave\n",
      "looking for peaks using 38 pixels around 1173, threshhold of 10.000000\n",
      "peaks:  [18]\n",
      "aperture/fiber:  [0]\n"
     ]
    },
    {
     "name": "stdin",
     "output_type": "stream",
     "text": [
      "Enter the radius for extraction for slit 1 (current default is 5):  3\n"
     ]
    },
    {
     "name": "stdout",
     "output_type": "stream",
     "text": [
      "  extracting ... \n",
      "  See extraction window(s). Hit space bar to continue....\n",
      "\n",
      "(4096,) (4096,)\n",
      "Review the extraction results.\n"
     ]
    },
    {
     "name": "stdin",
     "output_type": "stream",
     "text": [
      "Are you satisfied with the results? Enter 'y' for yes, anything else for no:  y\n"
     ]
    },
    {
     "name": "stdout",
     "output_type": "stream",
     "text": [
      "appending uncertainty\n",
      "appending bitmask\n",
      "appending wave\n",
      "appending uncertainty\n",
      "appending bitmask\n",
      "appending wave\n"
     ]
    },
    {
     "name": "stdin",
     "output_type": "stream",
     "text": [
      "Do you want to adjust the wavelength solution of star 1? Enter 'y' for yes and anything else for no:  n\n"
     ]
    },
    {
     "name": "stdout",
     "output_type": "stream",
     "text": [
      "looking for peaks using 38 pixels around 1371, threshhold of 10.000000\n",
      "peaks:  [19]\n",
      "aperture/fiber:  [0]\n"
     ]
    },
    {
     "name": "stdin",
     "output_type": "stream",
     "text": [
      "Enter the radius for extraction for slit 2 (current default is 5):  5\n"
     ]
    },
    {
     "name": "stdout",
     "output_type": "stream",
     "text": [
      "  extracting ... \n",
      "  See extraction window(s). Hit space bar to continue....\n",
      "\n",
      "(4096,) (4096,)\n",
      "Review the extraction results.\n"
     ]
    },
    {
     "name": "stdin",
     "output_type": "stream",
     "text": [
      "Are you satisfied with the results? Enter 'y' for yes, anything else for no:  n\n",
      "Enter the radius for extraction for slit 2 (current default is 5):  4\n"
     ]
    },
    {
     "name": "stdout",
     "output_type": "stream",
     "text": [
      "  extracting ... \n",
      "  See extraction window(s). Hit space bar to continue....\n",
      "\n",
      "(4096,) (4096,)\n",
      "Review the extraction results.\n"
     ]
    },
    {
     "name": "stdin",
     "output_type": "stream",
     "text": [
      "Are you satisfied with the results? Enter 'y' for yes, anything else for no:  y\n"
     ]
    },
    {
     "name": "stdout",
     "output_type": "stream",
     "text": [
      "appending uncertainty\n",
      "appending bitmask\n",
      "appending wave\n",
      "appending uncertainty\n",
      "appending bitmask\n",
      "appending wave\n"
     ]
    },
    {
     "name": "stdin",
     "output_type": "stream",
     "text": [
      "Do you want to adjust the wavelength solution of star 2? Enter 'y' for yes and anything else for no:  n\n"
     ]
    },
    {
     "name": "stdout",
     "output_type": "stream",
     "text": [
      "looking for peaks using 38 pixels around 1561, threshhold of 10.000000\n",
      "peaks:  [21]\n",
      "aperture/fiber:  [0]\n"
     ]
    },
    {
     "name": "stdin",
     "output_type": "stream",
     "text": [
      "Enter the radius for extraction for slit 3 (current default is 5):  5\n"
     ]
    },
    {
     "name": "stdout",
     "output_type": "stream",
     "text": [
      "  extracting ... \n",
      "  See extraction window(s). Hit space bar to continue....\n",
      "\n",
      "(4096,) (4096,)\n",
      "Review the extraction results.\n"
     ]
    },
    {
     "name": "stdin",
     "output_type": "stream",
     "text": [
      "Are you satisfied with the results? Enter 'y' for yes, anything else for no:  3\n",
      "Enter the radius for extraction for slit 3 (current default is 5):  3\n"
     ]
    },
    {
     "name": "stdout",
     "output_type": "stream",
     "text": [
      "  extracting ... \n",
      "  See extraction window(s). Hit space bar to continue....\n",
      "\n",
      "(4096,) (4096,)\n",
      "Review the extraction results.\n"
     ]
    },
    {
     "name": "stdin",
     "output_type": "stream",
     "text": [
      "Are you satisfied with the results? Enter 'y' for yes, anything else for no:  4\n",
      "Enter the radius for extraction for slit 3 (current default is 5):  4\n"
     ]
    },
    {
     "name": "stdout",
     "output_type": "stream",
     "text": [
      "  extracting ... \n",
      "  See extraction window(s). Hit space bar to continue....\n",
      "\n",
      "(4096,) (4096,)\n",
      "Review the extraction results.\n"
     ]
    },
    {
     "name": "stdin",
     "output_type": "stream",
     "text": [
      "Are you satisfied with the results? Enter 'y' for yes, anything else for no:  y\n"
     ]
    },
    {
     "name": "stdout",
     "output_type": "stream",
     "text": [
      "appending uncertainty\n",
      "appending bitmask\n",
      "appending wave\n",
      "appending uncertainty\n",
      "appending bitmask\n",
      "appending wave\n"
     ]
    },
    {
     "name": "stdin",
     "output_type": "stream",
     "text": [
      "Do you want to adjust the wavelength solution of star 3? Enter 'y' for yes and anything else for no:  y\n",
      "Enter thresh value for wavelength adjustment for star 3:  12\n"
     ]
    },
    {
     "name": "stdout",
     "output_type": "stream",
     "text": [
      "  See identified lines.\n",
      "  rms:    0.029\n",
      "rejecting 0 points from 8 total: \n",
      "  See 2D wavecal fit. Enter space in plot window to continue\n",
      "\n"
     ]
    },
    {
     "name": "stdin",
     "output_type": "stream",
     "text": [
      "Are you satisfied with the rms? Enter 'y' for yes, anything else for no:  y\n"
     ]
    },
    {
     "name": "stdout",
     "output_type": "stream",
     "text": [
      "[[9894.93364698 9893.90410501 9892.87450392 ... 5767.24716634\n",
      "  5766.40191819 5765.55681926]]\n",
      "[[9894.93364698 9893.90410501 9892.87450392 ... 5767.24716634\n",
      "  5766.40191819 5765.55681926]]\n",
      "appending uncertainty\n",
      "appending bitmask\n",
      "appending wave\n",
      "appending uncertainty\n",
      "appending bitmask\n",
      "appending wave\n",
      "looking for peaks using 38 pixels around 1700, threshhold of 10.000000\n",
      "peaks:  [16]\n",
      "aperture/fiber:  [0]\n"
     ]
    },
    {
     "name": "stdin",
     "output_type": "stream",
     "text": [
      "Enter the radius for extraction for slit 4 (current default is 5):  5\n"
     ]
    },
    {
     "name": "stdout",
     "output_type": "stream",
     "text": [
      "  extracting ... \n",
      "  See extraction window(s). Hit space bar to continue....\n",
      "\n",
      "(4096,) (4096,)\n",
      "Review the extraction results.\n"
     ]
    },
    {
     "name": "stdin",
     "output_type": "stream",
     "text": [
      "Are you satisfied with the results? Enter 'y' for yes, anything else for no:  y\n"
     ]
    },
    {
     "name": "stdout",
     "output_type": "stream",
     "text": [
      "appending uncertainty\n",
      "appending bitmask\n",
      "appending wave\n",
      "appending uncertainty\n",
      "appending bitmask\n",
      "appending wave\n"
     ]
    },
    {
     "name": "stdin",
     "output_type": "stream",
     "text": [
      "Do you want to adjust the wavelength solution of star 4? Enter 'y' for yes and anything else for no:  n\n"
     ]
    }
   ],
   "source": [
    "import matplotlib.pyplot as plt\n",
    "import copy\n",
    "\n",
    "importlib.reload(spectra)\n",
    "\n",
    "def model(x):\n",
    "    return x * 0.\n",
    "\n",
    "# Get the beginning value of each slit.\n",
    "list_1 = [lis[0] for lis in trace.rows]\n",
    "\n",
    "fig, (ax1, ax2) = plt.subplots(2, 1)\n",
    "\n",
    "for i, out in enumerate(out1):\n",
    "    nrow = out.shape[0] // 2  # Get the center of slits.\n",
    "    center = list_1[i] + nrow  # Center for peak value around the middle of each 2D extracted spectrum.\n",
    "    \n",
    "    trace2 = spectra.Trace(transpose=False, sc0=center, degree=3, lags=[-19, 19])\n",
    "    trace2.rows = [0, out.data.shape[0]]\n",
    "    trace2.index = [0]\n",
    "\n",
    "    # Find the brightest peak around the center.\n",
    "    peak, ind = trace2.findpeak(out, thresh=10, sort=True, width=19, percent=30, method='nearest', axis=1)\n",
    "    \n",
    "    if peak:\n",
    "        def model(x):\n",
    "            return x * 0. + peak[0]\n",
    "        trace2.model = [model]\n",
    "\n",
    "        satisfied = False\n",
    "        while not satisfied:\n",
    "            rad = int(input(f\"Enter the radius for extraction for slit {i} (current default is 5): \"))\n",
    "            sky_width = rad - 5\n",
    "            spec, back_spec = trace2.extract(out, rad=rad, back=[[-10 + (-1 * sky_width), -rad], [10 + sky_width, rad]], display=t)\n",
    "            spec.wave = out.wave[peak]\n",
    "            back_spec.wave = out.wave[peak]\n",
    "\n",
    "            print(spec.wave[0].shape, spec.data[0].shape)\n",
    "            print(\"Review the extraction results.\")\n",
    "            \n",
    "            user_response = input(\"Are you satisfied with the results? Enter 'y' for yes, anything else for no: \").strip().lower()\n",
    "            if user_response == 'y':\n",
    "                satisfied = True\n",
    "        spec.write(f\"original_spec_{rad}_{i}_{i:04d}.fits\".format(i), overwrite = True) # Saving original spectrum.\n",
    "        back_spec.write(f\"original_back_spec_{rad}_{i}_{i:04d}.fits\".format(i), overwrite=True)  # Saving brackground spectrum.\n",
    "        \n",
    "        # Optional: Adjust wave calibration\n",
    "        user1_response = input(f\"Do you want to adjust the wavelength solution of star {i}? Enter 'y' for yes and anything else for no: \").strip().lower()\n",
    "        if user1_response == 'y':\n",
    "            thresh_val = False\n",
    "            while not thresh_val:\n",
    "                thresh = float(input(f\"Enter thresh value for wavelength adjustment for star {i}: \"))\n",
    "                swav = copy.deepcopy(wav)  # Create a copy of the original wave solution.\n",
    "                swav.skyline(back_spec, thresh=thresh, linear=True, inter=plotinter, file='pyvista/python/pyvista/data/sky/skyline.dat')\n",
    "                \n",
    "                veri = input(\"Are you satisfied with the rms? Enter 'y' for yes, anything else for no: \").strip().lower()\n",
    "                if veri == 'y':\n",
    "                    thresh_val = True\n",
    "            \n",
    "            spec.wave = back_spec.wave\n",
    "            print(spec.wave)\n",
    "            print(back_spec.wave)\n",
    "\n",
    "            spec.write(f\"adjust_spec_{rad}_{i}_{i:04d}.fits\".format(i), overwrite=True)  # Saving adjusted spec spectrum.\n",
    "            back_spec.write(f\"adjusted_back_spec_{rad}_{i}_{i:04d}.fits\".format(i), overwrite=True) # Saving adjuted background spectrum\n",
    "\n",
    "        \n",
    "        # Plotting spectra\n",
    "        ax1.plot(spec.wave[0], spec.data[0], label=f'spec{i}')\n",
    "        ax1.set_title('Extracted star with sky subtracted')\n",
    "        ax1.legend(loc=\"upper right\")\n",
    "\n",
    "        ax2.plot(back_spec.wave[0], back_spec.data[0])\n",
    "        ax2.set_title('Extracted background sky')\n",
    "\n",
    "    else:\n",
    "        print(f'No peak found for slit: {i}')"
   ]
  },
  {
   "cell_type": "code",
   "execution_count": null,
   "id": "8372ceea-d117-437e-834f-ed49c8041095",
   "metadata": {},
   "outputs": [],
   "source": [
    "f2_1 = fits.open('back_spec_20_004.fits')\n",
    "skyline_file_path = 'pyvista/python/pyvista/data/sky/skyline.dat'\n",
    "skyline_wavelengths = np.loadtxt(skyline_file_path)\n",
    "\n",
    "plt.figure()\n",
    "plt.plot(f2_1[4].data[0], f2_1[1].data[0], )\n",
    "for wl in skyline_wavelengths:\n",
    "    plt.axvline(wl, color='red', linestyle='--', alpha=0.5)\n",
    "#plt.ylabel('Intensity')\n",
    "plt.title('Sky Spectrum and emission lines Correspondence')\n",
    "plt.grid(True)\n",
    "#plt.xlim(7100,8533)\n",
    "plt.legend()\n"
   ]
  },
  {
   "cell_type": "markdown",
   "id": "a9fc0bad-6bc3-469d-9fd0-9050fc3ab041",
   "metadata": {},
   "source": [
    "# Checking the accuracy of wavelength calibration"
   ]
  },
  {
   "cell_type": "code",
   "execution_count": 40,
   "id": "b89c29b3-155a-428e-97df-84a544c23530",
   "metadata": {},
   "outputs": [
    {
     "data": {
      "text/plain": [
       "<matplotlib.legend.Legend at 0x26743513770>"
      ]
     },
     "execution_count": 40,
     "metadata": {},
     "output_type": "execute_result"
    }
   ],
   "source": [
    "f2_1 = fits.open('back_spec_20_004.fits')\n",
    "skyline_file_path = 'pyvista/python/pyvista/data/sky/skyline.dat'\n",
    "skyline_wavelengths = np.loadtxt(skyline_file_path)\n",
    "\n",
    "fig, (ax1, ax2) = plt.subplots(2,1)\n",
    "ax1.plot(f2_1[4].data[0], f2_1[1].data[0],label='range: 6350-7100')\n",
    "ax2.plot(f2_1[4].data[0], f2_1[1].data[0],label='range: 7100-8533')\n",
    "for wl in skyline_wavelengths:\n",
    "    ax1.axvline(wl, color='red', linestyle='--', alpha=0.5)\n",
    "    ax2.axvline(wl, color='red', linestyle='--', alpha=0.5)\n",
    "ax1.set_ylabel('Intensity')\n",
    "ax2.set_ylabel('Intensity')\n",
    "ax1.set_xlabel('Angstrom')\n",
    "ax2.set_xlabel('Angstrom')\n",
    "ax1.set_title('Sky Spectrum and emission lines Correspondence')\n",
    "ax2.set_title('Sky Spectrum and emission lines Correspondence')\n",
    "plt.grid(True)\n",
    "ax1.set_xlim(6350,7100)\n",
    "ax2.set_xlim(7100,8533)\n",
    "ax1.legend()\n",
    "ax2.legend()"
   ]
  },
  {
   "cell_type": "markdown",
   "id": "129b4755-41a5-4184-9d9a-e37180efd5f9",
   "metadata": {},
   "source": [
    "# Spectra stacking"
   ]
  },
  {
   "cell_type": "code",
   "execution_count": null,
   "id": "613a6e11-99cf-46ee-8c11-c0074de9bdca",
   "metadata": {
    "scrolled": true
   },
   "outputs": [],
   "source": [
    "# Define file directories.\n",
    "from astropy.io import fits\n",
    "f02 = fits.open('spec_without_sky_17_004.fits')\n",
    "f03 = fits.open('spec_without_sky_18_004.fits')\n",
    "f03.info()"
   ]
  },
  {
   "cell_type": "code",
   "execution_count": null,
   "id": "fc45aaee-314c-4257-9a9b-21d2b5547400",
   "metadata": {},
   "outputs": [],
   "source": [
    "from astropy.nddata import CCDData # Import astropy data class format. \n",
    "from ccdproc import Combiner # Import ccdproc combiner for stacking."
   ]
  },
  {
   "cell_type": "code",
   "execution_count": null,
   "id": "9c38241a-512f-4034-a723-7f75776e55c7",
   "metadata": {},
   "outputs": [],
   "source": [
    "#make a ccddata object out of the flux (pixel count) and uncertainty of each spectra you want to combine\n",
    "ccd_67 = CCDData(data = f02[1].data[0], uncertainty = f02[2].data[0], unit = 'pixel')\n",
    "ccd_68 = CCDData(data = f03[1].data[0], uncertainty = f03[2].data[0], unit = 'pixel')\n",
    "#put them all into Combiner (from ccdproc)\n",
    "spec_67_69 = Combiner([ccd_67, ccd_68])\n",
    "\n",
    "#then average combine (it is slightly better than median combining)\n",
    "avg_test_67_69 = spec_67_69.average_combine()\n",
    "\n",
    "# Plot and compare.\n",
    "plt.figure()\n",
    "\n",
    "plt.plot(f02[4].data[0],f02[1].data[0], label= 'SEG3G2_17')\n",
    "plt.plot(f03[4].data[0],f03[1].data[0], label= 'SEG3G2_18')\n",
    "plt.plot(f02[4].data[0], avg_test_67_69.data, label = 'Stacked_spectrum')\n",
    "plt.legend()\n",
    "plt.xlabel('Angstrom')\n",
    "plt.ylabel('Pixel count')"
   ]
  },
  {
   "cell_type": "markdown",
   "id": "8e8d155a-43fc-4587-a1ee-e24e5a194ddd",
   "metadata": {},
   "source": [
    "## Save the stacked spectra."
   ]
  },
  {
   "cell_type": "code",
   "execution_count": null,
   "id": "c32cbb17-9ac6-4cb9-9ce0-8f82daf93746",
   "metadata": {},
   "outputs": [],
   "source": [
    "hdu = fits.PrimaryHDU(avg_test_67_69)\n",
    "hdul = fits.HDUList([hdu])\n",
    "\n",
    "# Write to FITS file\n",
    "hdul.writeto('Stacked_spec.fits', overwrite=True)"
   ]
  }
 ],
 "metadata": {
  "kernelspec": {
   "display_name": "Python 3 (ipykernel)",
   "language": "python",
   "name": "python3"
  },
  "language_info": {
   "codemirror_mode": {
    "name": "ipython",
    "version": 3
   },
   "file_extension": ".py",
   "mimetype": "text/x-python",
   "name": "python",
   "nbconvert_exporter": "python",
   "pygments_lexer": "ipython3",
   "version": "3.12.3"
  }
 },
 "nbformat": 4,
 "nbformat_minor": 5
}
